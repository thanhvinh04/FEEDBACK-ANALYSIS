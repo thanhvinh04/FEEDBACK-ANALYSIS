{
 "cells": [
  {
   "cell_type": "markdown",
   "metadata": {},
   "source": [
    "# BƯỚC 1"
   ]
  },
  {
   "cell_type": "markdown",
   "metadata": {},
   "source": [
    "# CRAWL DATA LAZADA"
   ]
  },
  {
   "cell_type": "code",
   "execution_count": 2,
   "metadata": {},
   "outputs": [],
   "source": [
    "from selenium import webdriver\n",
    "from webdriver_manager.chrome import ChromeDriverManager"
   ]
  },
  {
   "cell_type": "code",
   "execution_count": null,
   "metadata": {},
   "outputs": [],
   "source": [
    "import numpy as np\n",
    "from selenium import webdriver\n",
    "from time import sleep\n",
    "import random\n",
    "from selenium.common.exceptions import NoSuchElementException, ElementNotInteractableException\n",
    "from selenium.webdriver.common.by import By\n",
    "import pandas as pd\n",
    "\n",
    "# driver = webdriver.Chrome(ChromeDriverManager().install())\n",
    "driver = webdriver.Chrome()\n",
    "driver.get(\"https://www.lazada.vn/catalog/?q=Qu%E1%BA%A7n%20sort%20nam\")\n",
    "sleep(random.randint(5, 10))"
   ]
  },
  {
   "cell_type": "code",
   "execution_count": 62,
   "metadata": {},
   "outputs": [],
   "source": [
    "# get title and link of each item -> click title lay \"RfADt\"\n",
    "elems = driver.find_elements(By.CSS_SELECTOR, \".RfADt [href]\")\n",
    "title = [elem.text for elem in elems]\n",
    "links = [elem.get_attribute('href') for elem in elems]"
   ]
  },
  {
   "cell_type": "code",
   "execution_count": 63,
   "metadata": {},
   "outputs": [],
   "source": [
    "# get link price of each item\n",
    "elems_price = driver.find_elements(By.CSS_SELECTOR, \".aBrP0\")\n",
    "price = [elem_price.text for elem_price in elems_price]\n",
    "\n",
    "df1 = pd.DataFrame(list(zip(title, price, links)), columns = ['title', 'price', 'link_item'])\n",
    "df1['index_'] = np.arange(1, len(df1) + 1)"
   ]
  },
  {
   "cell_type": "code",
   "execution_count": 64,
   "metadata": {},
   "outputs": [
    {
     "name": "stdout",
     "output_type": "stream",
     "text": [
      "No Such Element Exception 14\n",
      "No Such Element Exception 39\n"
     ]
    },
    {
     "data": {
      "text/html": [
       "<div>\n",
       "<style scoped>\n",
       "    .dataframe tbody tr th:only-of-type {\n",
       "        vertical-align: middle;\n",
       "    }\n",
       "\n",
       "    .dataframe tbody tr th {\n",
       "        vertical-align: top;\n",
       "    }\n",
       "\n",
       "    .dataframe thead th {\n",
       "        text-align: right;\n",
       "    }\n",
       "</style>\n",
       "<table border=\"1\" class=\"dataframe\">\n",
       "  <thead>\n",
       "    <tr style=\"text-align: right;\">\n",
       "      <th></th>\n",
       "      <th>discount_idx</th>\n",
       "      <th>discount_percent_list</th>\n",
       "    </tr>\n",
       "  </thead>\n",
       "  <tbody>\n",
       "    <tr>\n",
       "      <th>0</th>\n",
       "      <td>1</td>\n",
       "      <td>63% Off</td>\n",
       "    </tr>\n",
       "    <tr>\n",
       "      <th>1</th>\n",
       "      <td>2</td>\n",
       "      <td>50% Off</td>\n",
       "    </tr>\n",
       "    <tr>\n",
       "      <th>2</th>\n",
       "      <td>3</td>\n",
       "      <td>41% Off</td>\n",
       "    </tr>\n",
       "    <tr>\n",
       "      <th>3</th>\n",
       "      <td>4</td>\n",
       "      <td>31% Off</td>\n",
       "    </tr>\n",
       "    <tr>\n",
       "      <th>4</th>\n",
       "      <td>5</td>\n",
       "      <td>46% Off</td>\n",
       "    </tr>\n",
       "  </tbody>\n",
       "</table>\n",
       "</div>"
      ],
      "text/plain": [
       "   discount_idx discount_percent_list\n",
       "0             1               63% Off\n",
       "1             2               50% Off\n",
       "2             3               41% Off\n",
       "3             4               31% Off\n",
       "4             5               46% Off"
      ]
     },
     "execution_count": 64,
     "metadata": {},
     "output_type": "execute_result"
    }
   ],
   "source": [
    "# Có item có discount, có item không có discount\n",
    "elems_discount = driver.find_elements(By.CSS_SELECTOR, \".WNoq3\")\n",
    "discount = [elem.text for elem in elems_discount]\n",
    "\n",
    "# elems_discount = driver.find_element(By.CSS_SELECTOR, \".WNoq3 .1m41m\")\n",
    "# discount = [elem.text for elem in elems_discount]\n",
    "\n",
    "elems_discountPercent = driver.find_elements(By.CSS_SELECTOR, \"WNoq3 .IcOsH\")\n",
    "discountPercent = [elem.text for elem in elems_discountPercent]\n",
    "\n",
    "discount_list, discount_idx, discount_percent_list = [], [], []\n",
    "for i in range(1, len(title) + 1):\n",
    "    try:\n",
    "        discount_percent = driver.find_element(\"xpath\", \"/html/body/div[3]/div/div[2]/div[1]/div/div[1]/div[2]/div[{}]/div/div/div[2]/div[4]/span[1]\".format(i))\n",
    "        # print(discount_percent.text)\n",
    "        discount_percent_list.append(discount_percent.text)\n",
    "        discount_idx.append(i)\n",
    "    except NoSuchElementException:\n",
    "        print(\"No Such Element Exception \" + str(i))\n",
    "\n",
    "df2 = pd.DataFrame(list(zip(discount_idx, discount_percent_list)), columns = ['discount_idx', 'discount_percent_list'])\n",
    "df3 = df1.merge(df2, how='left', left_on='index_', right_on='discount_idx')\n",
    "\n",
    "df2.head(5)\n"
   ]
  },
  {
   "cell_type": "code",
   "execution_count": 65,
   "metadata": {},
   "outputs": [
    {
     "data": {
      "text/html": [
       "<div>\n",
       "<style scoped>\n",
       "    .dataframe tbody tr th:only-of-type {\n",
       "        vertical-align: middle;\n",
       "    }\n",
       "\n",
       "    .dataframe tbody tr th {\n",
       "        vertical-align: top;\n",
       "    }\n",
       "\n",
       "    .dataframe thead th {\n",
       "        text-align: right;\n",
       "    }\n",
       "</style>\n",
       "<table border=\"1\" class=\"dataframe\">\n",
       "  <thead>\n",
       "    <tr style=\"text-align: right;\">\n",
       "      <th></th>\n",
       "      <th>title</th>\n",
       "      <th>price</th>\n",
       "      <th>link_item</th>\n",
       "      <th>index_</th>\n",
       "      <th>discount_idx</th>\n",
       "      <th>discount_percent_list</th>\n",
       "    </tr>\n",
       "  </thead>\n",
       "  <tbody>\n",
       "    <tr>\n",
       "      <th>0</th>\n",
       "      <td>Quần short unisex nam nữ chất cotton cao cấp c...</td>\n",
       "      <td>48.000 ₫</td>\n",
       "      <td>https://www.lazada.vn/products/quan-short-unis...</td>\n",
       "      <td>1</td>\n",
       "      <td>1.0</td>\n",
       "      <td>63% Off</td>\n",
       "    </tr>\n",
       "    <tr>\n",
       "      <th>1</th>\n",
       "      <td>Quần short nam, quần ngắn chất kaki [LOẠI ĐẸP]...</td>\n",
       "      <td>59.999 ₫</td>\n",
       "      <td>https://www.lazada.vn/products/quan-short-nam-...</td>\n",
       "      <td>2</td>\n",
       "      <td>2.0</td>\n",
       "      <td>50% Off</td>\n",
       "    </tr>\n",
       "    <tr>\n",
       "      <th>2</th>\n",
       "      <td>Quần short sọt đùi ngắn thể thao nam 2 túi kéo...</td>\n",
       "      <td>41.000 ₫</td>\n",
       "      <td>https://www.lazada.vn/products/quan-short-sot-...</td>\n",
       "      <td>3</td>\n",
       "      <td>3.0</td>\n",
       "      <td>41% Off</td>\n",
       "    </tr>\n",
       "    <tr>\n",
       "      <th>3</th>\n",
       "      <td>Quần short nam thể thao 2 túi kéo khoá vải thu...</td>\n",
       "      <td>41.000 ₫</td>\n",
       "      <td>https://www.lazada.vn/products/quan-short-nam-...</td>\n",
       "      <td>4</td>\n",
       "      <td>4.0</td>\n",
       "      <td>31% Off</td>\n",
       "    </tr>\n",
       "    <tr>\n",
       "      <th>4</th>\n",
       "      <td>Quần đùi nam thể thao tập gym mặc nhà nhiều si...</td>\n",
       "      <td>29.900 ₫</td>\n",
       "      <td>https://www.lazada.vn/products/quan-dui-nam-th...</td>\n",
       "      <td>5</td>\n",
       "      <td>5.0</td>\n",
       "      <td>46% Off</td>\n",
       "    </tr>\n",
       "  </tbody>\n",
       "</table>\n",
       "</div>"
      ],
      "text/plain": [
       "                                               title     price  \\\n",
       "0  Quần short unisex nam nữ chất cotton cao cấp c...  48.000 ₫   \n",
       "1  Quần short nam, quần ngắn chất kaki [LOẠI ĐẸP]...  59.999 ₫   \n",
       "2  Quần short sọt đùi ngắn thể thao nam 2 túi kéo...  41.000 ₫   \n",
       "3  Quần short nam thể thao 2 túi kéo khoá vải thu...  41.000 ₫   \n",
       "4  Quần đùi nam thể thao tập gym mặc nhà nhiều si...  29.900 ₫   \n",
       "\n",
       "                                           link_item  index_  discount_idx  \\\n",
       "0  https://www.lazada.vn/products/quan-short-unis...       1           1.0   \n",
       "1  https://www.lazada.vn/products/quan-short-nam-...       2           2.0   \n",
       "2  https://www.lazada.vn/products/quan-short-sot-...       3           3.0   \n",
       "3  https://www.lazada.vn/products/quan-short-nam-...       4           4.0   \n",
       "4  https://www.lazada.vn/products/quan-dui-nam-th...       5           5.0   \n",
       "\n",
       "  discount_percent_list  \n",
       "0               63% Off  \n",
       "1               50% Off  \n",
       "2               41% Off  \n",
       "3               31% Off  \n",
       "4               46% Off  "
      ]
     },
     "execution_count": 65,
     "metadata": {},
     "output_type": "execute_result"
    }
   ],
   "source": [
    "df3.head(5)"
   ]
  },
  {
   "cell_type": "code",
   "execution_count": 66,
   "metadata": {},
   "outputs": [
    {
     "name": "stdout",
     "output_type": "stream",
     "text": [
      "No Such Element Exception 7\n"
     ]
    }
   ],
   "source": [
    "# Có item có review, có item không có review\n",
    "countReviews_list, countReviews_idx = [], []\n",
    "for i in range(1, len(title) + 1):\n",
    "    try:\n",
    "        countReviews = driver.find_element(\"xpath\", \"/html/body/div[3]/div/div[2]/div[1]/div/div[1]/div[2]/div[{}]/div/div/div[2]/div[5]/div\".format(i))\n",
    "        countReviews_list.append(countReviews.text)\n",
    "        countReviews_idx.append(i)\n",
    "    except NoSuchElementException:\n",
    "        print(\"No Such Element Exception \" + str(i))\n",
    "\n",
    "df4 = pd.DataFrame(list(zip(countReviews_idx, countReviews_list)), columns = ['countReviews_idx', 'countReviews_list'])\n",
    "# join 2 dataframe\n",
    "df5 = df3.merge(df4, how='left', left_on='index_', right_on='countReviews_idx')"
   ]
  },
  {
   "cell_type": "code",
   "execution_count": 67,
   "metadata": {},
   "outputs": [
    {
     "data": {
      "text/html": [
       "<div>\n",
       "<style scoped>\n",
       "    .dataframe tbody tr th:only-of-type {\n",
       "        vertical-align: middle;\n",
       "    }\n",
       "\n",
       "    .dataframe tbody tr th {\n",
       "        vertical-align: top;\n",
       "    }\n",
       "\n",
       "    .dataframe thead th {\n",
       "        text-align: right;\n",
       "    }\n",
       "</style>\n",
       "<table border=\"1\" class=\"dataframe\">\n",
       "  <thead>\n",
       "    <tr style=\"text-align: right;\">\n",
       "      <th></th>\n",
       "      <th>title</th>\n",
       "      <th>price</th>\n",
       "      <th>link_item</th>\n",
       "      <th>index_</th>\n",
       "      <th>discount_idx</th>\n",
       "      <th>discount_percent_list</th>\n",
       "      <th>countReviews_idx</th>\n",
       "      <th>countReviews_list</th>\n",
       "    </tr>\n",
       "  </thead>\n",
       "  <tbody>\n",
       "    <tr>\n",
       "      <th>0</th>\n",
       "      <td>Quần short unisex nam nữ chất cotton cao cấp c...</td>\n",
       "      <td>48.000 ₫</td>\n",
       "      <td>https://www.lazada.vn/products/quan-short-unis...</td>\n",
       "      <td>1</td>\n",
       "      <td>1.0</td>\n",
       "      <td>63% Off</td>\n",
       "      <td>1.0</td>\n",
       "      <td>(409)</td>\n",
       "    </tr>\n",
       "    <tr>\n",
       "      <th>1</th>\n",
       "      <td>Quần short nam, quần ngắn chất kaki [LOẠI ĐẸP]...</td>\n",
       "      <td>59.999 ₫</td>\n",
       "      <td>https://www.lazada.vn/products/quan-short-nam-...</td>\n",
       "      <td>2</td>\n",
       "      <td>2.0</td>\n",
       "      <td>50% Off</td>\n",
       "      <td>2.0</td>\n",
       "      <td>(19)</td>\n",
       "    </tr>\n",
       "    <tr>\n",
       "      <th>2</th>\n",
       "      <td>Quần short sọt đùi ngắn thể thao nam 2 túi kéo...</td>\n",
       "      <td>41.000 ₫</td>\n",
       "      <td>https://www.lazada.vn/products/quan-short-sot-...</td>\n",
       "      <td>3</td>\n",
       "      <td>3.0</td>\n",
       "      <td>41% Off</td>\n",
       "      <td>3.0</td>\n",
       "      <td>(6548)</td>\n",
       "    </tr>\n",
       "    <tr>\n",
       "      <th>3</th>\n",
       "      <td>Quần short nam thể thao 2 túi kéo khoá vải thu...</td>\n",
       "      <td>41.000 ₫</td>\n",
       "      <td>https://www.lazada.vn/products/quan-short-nam-...</td>\n",
       "      <td>4</td>\n",
       "      <td>4.0</td>\n",
       "      <td>31% Off</td>\n",
       "      <td>4.0</td>\n",
       "      <td>(5128)</td>\n",
       "    </tr>\n",
       "    <tr>\n",
       "      <th>4</th>\n",
       "      <td>Quần đùi nam thể thao tập gym mặc nhà nhiều si...</td>\n",
       "      <td>29.900 ₫</td>\n",
       "      <td>https://www.lazada.vn/products/quan-dui-nam-th...</td>\n",
       "      <td>5</td>\n",
       "      <td>5.0</td>\n",
       "      <td>46% Off</td>\n",
       "      <td>5.0</td>\n",
       "      <td>(495)</td>\n",
       "    </tr>\n",
       "  </tbody>\n",
       "</table>\n",
       "</div>"
      ],
      "text/plain": [
       "                                               title     price  \\\n",
       "0  Quần short unisex nam nữ chất cotton cao cấp c...  48.000 ₫   \n",
       "1  Quần short nam, quần ngắn chất kaki [LOẠI ĐẸP]...  59.999 ₫   \n",
       "2  Quần short sọt đùi ngắn thể thao nam 2 túi kéo...  41.000 ₫   \n",
       "3  Quần short nam thể thao 2 túi kéo khoá vải thu...  41.000 ₫   \n",
       "4  Quần đùi nam thể thao tập gym mặc nhà nhiều si...  29.900 ₫   \n",
       "\n",
       "                                           link_item  index_  discount_idx  \\\n",
       "0  https://www.lazada.vn/products/quan-short-unis...       1           1.0   \n",
       "1  https://www.lazada.vn/products/quan-short-nam-...       2           2.0   \n",
       "2  https://www.lazada.vn/products/quan-short-sot-...       3           3.0   \n",
       "3  https://www.lazada.vn/products/quan-short-nam-...       4           4.0   \n",
       "4  https://www.lazada.vn/products/quan-dui-nam-th...       5           5.0   \n",
       "\n",
       "  discount_percent_list  countReviews_idx countReviews_list  \n",
       "0               63% Off               1.0             (409)  \n",
       "1               50% Off               2.0              (19)  \n",
       "2               41% Off               3.0            (6548)  \n",
       "3               31% Off               4.0            (5128)  \n",
       "4               46% Off               5.0             (495)  "
      ]
     },
     "execution_count": 67,
     "metadata": {},
     "output_type": "execute_result"
    }
   ],
   "source": [
    "df5.head(5)"
   ]
  },
  {
   "cell_type": "code",
   "execution_count": 68,
   "metadata": {},
   "outputs": [],
   "source": [
    "# get link price of each item\n",
    "elems_location = driver.find_elements(By.CSS_SELECTOR, \".oa6ri \")\n",
    "location = [elem_location.text for elem_location in elems_location]\n",
    "\n",
    "df5['location'] = pd.DataFrame(list(zip(location)), columns = ['location'])"
   ]
  },
  {
   "cell_type": "code",
   "execution_count": 69,
   "metadata": {},
   "outputs": [
    {
     "data": {
      "text/html": [
       "<div>\n",
       "<style scoped>\n",
       "    .dataframe tbody tr th:only-of-type {\n",
       "        vertical-align: middle;\n",
       "    }\n",
       "\n",
       "    .dataframe tbody tr th {\n",
       "        vertical-align: top;\n",
       "    }\n",
       "\n",
       "    .dataframe thead th {\n",
       "        text-align: right;\n",
       "    }\n",
       "</style>\n",
       "<table border=\"1\" class=\"dataframe\">\n",
       "  <thead>\n",
       "    <tr style=\"text-align: right;\">\n",
       "      <th></th>\n",
       "      <th>title</th>\n",
       "      <th>price</th>\n",
       "      <th>link_item</th>\n",
       "      <th>index_</th>\n",
       "      <th>discount_idx</th>\n",
       "      <th>discount_percent_list</th>\n",
       "      <th>countReviews_idx</th>\n",
       "      <th>countReviews_list</th>\n",
       "      <th>location</th>\n",
       "    </tr>\n",
       "  </thead>\n",
       "  <tbody>\n",
       "    <tr>\n",
       "      <th>0</th>\n",
       "      <td>Quần short unisex nam nữ chất cotton cao cấp c...</td>\n",
       "      <td>48.000 ₫</td>\n",
       "      <td>https://www.lazada.vn/products/quan-short-unis...</td>\n",
       "      <td>1</td>\n",
       "      <td>1.0</td>\n",
       "      <td>63% Off</td>\n",
       "      <td>1.0</td>\n",
       "      <td>(409)</td>\n",
       "      <td>Hà Nội</td>\n",
       "    </tr>\n",
       "    <tr>\n",
       "      <th>1</th>\n",
       "      <td>Quần short nam, quần ngắn chất kaki [LOẠI ĐẸP]...</td>\n",
       "      <td>59.999 ₫</td>\n",
       "      <td>https://www.lazada.vn/products/quan-short-nam-...</td>\n",
       "      <td>2</td>\n",
       "      <td>2.0</td>\n",
       "      <td>50% Off</td>\n",
       "      <td>2.0</td>\n",
       "      <td>(19)</td>\n",
       "      <td>Hồ Chí Minh</td>\n",
       "    </tr>\n",
       "    <tr>\n",
       "      <th>2</th>\n",
       "      <td>Quần short sọt đùi ngắn thể thao nam 2 túi kéo...</td>\n",
       "      <td>41.000 ₫</td>\n",
       "      <td>https://www.lazada.vn/products/quan-short-sot-...</td>\n",
       "      <td>3</td>\n",
       "      <td>3.0</td>\n",
       "      <td>41% Off</td>\n",
       "      <td>3.0</td>\n",
       "      <td>(6548)</td>\n",
       "      <td>Hồ Chí Minh</td>\n",
       "    </tr>\n",
       "    <tr>\n",
       "      <th>3</th>\n",
       "      <td>Quần short nam thể thao 2 túi kéo khoá vải thu...</td>\n",
       "      <td>41.000 ₫</td>\n",
       "      <td>https://www.lazada.vn/products/quan-short-nam-...</td>\n",
       "      <td>4</td>\n",
       "      <td>4.0</td>\n",
       "      <td>31% Off</td>\n",
       "      <td>4.0</td>\n",
       "      <td>(5128)</td>\n",
       "      <td>Hồ Chí Minh</td>\n",
       "    </tr>\n",
       "    <tr>\n",
       "      <th>4</th>\n",
       "      <td>Quần đùi nam thể thao tập gym mặc nhà nhiều si...</td>\n",
       "      <td>29.900 ₫</td>\n",
       "      <td>https://www.lazada.vn/products/quan-dui-nam-th...</td>\n",
       "      <td>5</td>\n",
       "      <td>5.0</td>\n",
       "      <td>46% Off</td>\n",
       "      <td>5.0</td>\n",
       "      <td>(495)</td>\n",
       "      <td>Hồ Chí Minh</td>\n",
       "    </tr>\n",
       "  </tbody>\n",
       "</table>\n",
       "</div>"
      ],
      "text/plain": [
       "                                               title     price  \\\n",
       "0  Quần short unisex nam nữ chất cotton cao cấp c...  48.000 ₫   \n",
       "1  Quần short nam, quần ngắn chất kaki [LOẠI ĐẸP]...  59.999 ₫   \n",
       "2  Quần short sọt đùi ngắn thể thao nam 2 túi kéo...  41.000 ₫   \n",
       "3  Quần short nam thể thao 2 túi kéo khoá vải thu...  41.000 ₫   \n",
       "4  Quần đùi nam thể thao tập gym mặc nhà nhiều si...  29.900 ₫   \n",
       "\n",
       "                                           link_item  index_  discount_idx  \\\n",
       "0  https://www.lazada.vn/products/quan-short-unis...       1           1.0   \n",
       "1  https://www.lazada.vn/products/quan-short-nam-...       2           2.0   \n",
       "2  https://www.lazada.vn/products/quan-short-sot-...       3           3.0   \n",
       "3  https://www.lazada.vn/products/quan-short-nam-...       4           4.0   \n",
       "4  https://www.lazada.vn/products/quan-dui-nam-th...       5           5.0   \n",
       "\n",
       "  discount_percent_list  countReviews_idx countReviews_list     location  \n",
       "0               63% Off               1.0             (409)       Hà Nội  \n",
       "1               50% Off               2.0              (19)  Hồ Chí Minh  \n",
       "2               41% Off               3.0            (6548)  Hồ Chí Minh  \n",
       "3               31% Off               4.0            (5128)  Hồ Chí Minh  \n",
       "4               46% Off               5.0             (495)  Hồ Chí Minh  "
      ]
     },
     "execution_count": 69,
     "metadata": {},
     "output_type": "execute_result"
    }
   ],
   "source": [
    "df5.head()"
   ]
  },
  {
   "cell_type": "markdown",
   "metadata": {},
   "source": [
    "### Lấy thông tin chi tiết của từng item"
   ]
  },
  {
   "cell_type": "markdown",
   "metadata": {},
   "source": [
    "Link 0 - page 1"
   ]
  },
  {
   "cell_type": "code",
   "execution_count": 70,
   "metadata": {},
   "outputs": [
    {
     "data": {
      "text/plain": [
       "'https://www.lazada.vn/products/sale-50-quan-short-quan-lung-quan-sot-kaki-nam-chat-vai-kaki-mem-co-gian-nhe-quan-dui-ngo-nam-chat-kaki-cotton-di-bien-di-choi-dao-pho-i2102817722.html'"
      ]
     },
     "execution_count": 70,
     "metadata": {},
     "output_type": "execute_result"
    }
   ],
   "source": [
    "links[8]"
   ]
  },
  {
   "cell_type": "markdown",
   "metadata": {},
   "source": [
    "Lấy cho 1 trang đầu tiên"
   ]
  },
  {
   "cell_type": "code",
   "execution_count": 71,
   "metadata": {},
   "outputs": [],
   "source": [
    "# # elems_star = driver.find_elements(By.CSS_SELECTOR, \".container-star starCtn left\")\n",
    "# # count_star = [elem.text for elem in elems_star]\n",
    "\n",
    "# elems_date = driver.find_elements(By.CSS_SELECTOR, \".mod-reviews .item .top\")\n",
    "# date_comment = [elem.text for elem in elems_date]\n",
    "# print(date_comment)\n",
    "\n",
    "# elems_name = driver.find_elements(By.CSS_SELECTOR, \".mod-reviews .item .middle\")\n",
    "# name_comment = [elem.text for elem in elems_name]\n",
    "# print(name_comment)\n",
    "\n",
    "# elems_content = driver.find_elements(By.CSS_SELECTOR, \".mod-reviews .item .item-content .content\")\n",
    "# content_comment = [elem.text for elem in elems_content]\n",
    "# print(content_comment)\n",
    "\n",
    "# # elems_skuInfo = driver.find_elements(By.CSS_SELECTOR, \".mod-reviews .item-content .skuInfor\")\n",
    "# # skuInfo_comment = [elem.text for elem in elems_skuInfo]\n",
    "# # print(skuInfo_comment)\n",
    "\n",
    "# elems_likeCount = driver.find_elements(By.CSS_SELECTOR, \".mod-reviews .item .item-content .bottom .left .left-content\")\n",
    "# likeCount = [elem.text for elem in elems_likeCount]\n",
    "# print(likeCount)\n",
    "\n",
    "# df6 = pd.DataFrame(list(zip(date_comment, name_comment, content_comment, likeCount)), \\\n",
    "#                     columns = ['date_comment', 'name_comment', 'content_comment', 'like_count'])\n",
    "\n",
    "# df6.insert(0, \"link_item\", links[0])"
   ]
  },
  {
   "cell_type": "markdown",
   "metadata": {},
   "source": [
    "### Lấy comment từng page"
   ]
  },
  {
   "cell_type": "code",
   "execution_count": 72,
   "metadata": {},
   "outputs": [],
   "source": [
    "pages = 8"
   ]
  },
  {
   "cell_type": "code",
   "execution_count": 73,
   "metadata": {},
   "outputs": [
    {
     "data": {
      "text/plain": [
       "'https://www.lazada.vn/products/sale-50-quan-short-quan-lung-quan-sot-kaki-nam-chat-vai-kaki-mem-co-gian-nhe-quan-dui-ngo-nam-chat-kaki-cotton-di-bien-di-choi-dao-pho-i2102817722.html'"
      ]
     },
     "execution_count": 73,
     "metadata": {},
     "output_type": "execute_result"
    }
   ],
   "source": [
    "links[pages]"
   ]
  },
  {
   "cell_type": "code",
   "execution_count": 74,
   "metadata": {},
   "outputs": [],
   "source": [
    "driver.get(links[2])\n",
    "sleep(100)"
   ]
  },
  {
   "cell_type": "code",
   "execution_count": 75,
   "metadata": {},
   "outputs": [],
   "source": [
    "name_comment, content_comment, skuInfo_comment, like_count, star_count = [], [], [], [], []"
   ]
  },
  {
   "cell_type": "markdown",
   "metadata": {},
   "source": [
    "ĐỌC 500 PAGE LƯU LẠI 1 LẦN"
   ]
  },
  {
   "cell_type": "code",
   "execution_count": null,
   "metadata": {},
   "outputs": [],
   "source": [
    "count = 1\n",
    "\n",
    "# # Tất cả sao\n",
    "# next_pagination_cmt = driver.find_element(\"xpath\", \"/html/body/div[4]/div/div[10]/div[1]/div[2]/div/div/div/div[2]/div/div[1]/span[2]\")\n",
    "# next_pagination_cmt.click()\n",
    "# sleep(2)\n",
    "\n",
    "# # 5 sao\n",
    "# next_pagination_cmt = driver.find_element(\"xpath\", \"/html/body/div[8]/div/div/ul/li[2]\")\n",
    "# next_pagination_cmt.click()\n",
    "\n",
    "while True:\n",
    "    try:\n",
    "        print(\"Crawl Page \" + str(count))\n",
    "        # elems_date = driver.find_elements(By.CSS_SELECTOR, \".mod-reviews .item .top\")\n",
    "        # date_comment = [elem.text for elem in elems_date]\n",
    "\n",
    "        elems_name = driver.find_elements(By.CSS_SELECTOR, \".mod-reviews .item .middle\")\n",
    "        name_comment = [elem.text for elem in elems_name] + name_comment\n",
    "\n",
    "        elems_content = driver.find_elements(By.CSS_SELECTOR, \".item-content .content\")\n",
    "        content_comment = [elem.text for elem in elems_content] + content_comment\n",
    "\n",
    "        elems_skuInfo = driver.find_elements(By.CSS_SELECTOR, \".mod-reviews .item-content .skuInfor\")\n",
    "        skuInfo_comment = [elem.text for elem in elems_skuInfo] + skuInfo_comment\n",
    "\n",
    "        elems_likeCount = driver.find_elements(By.CSS_SELECTOR, \".mod-reviews .item .item-content .bottom .left .left-content\")\n",
    "        like_count = [elem.text for elem in elems_likeCount] + like_count\n",
    "\n",
    "        stars_count = driver.find_elements(By.CSS_SELECTOR, \".condition\")\n",
    "        star_count = [elem.text for elem in stars_count] + star_count\n",
    "\n",
    "        try:\n",
    "            next_pagination_cmt = driver.find_element(\"xpath\", \"/html/body/div[4]/div/div[10]/div[1]/div[2]/div/div/div/div[3]/div[2]/div/button[2]\")\n",
    "            next_pagination_cmt.click()\n",
    "            print(\"Clicked on button next page\")\n",
    "        except ElementNotInteractableException:\n",
    "            print(\"Have no next page\")\n",
    "\n",
    "        # try:\n",
    "        #     close_btn = driver.find_element(\"xpath\", \"/html/body/div[8]/div[2]/div\")\n",
    "        #     close_btn.click()\n",
    "        #     print(\"Clicked on button exit!\")\n",
    "        #     sleep(random.randint(10))\n",
    "        # except ElementNotInteractableException:\n",
    "        #     count += 1\n",
    "        #     continue\n",
    "        count += 1\n",
    "        sleep(random.randint(3, 10))\n",
    "    except ElementNotInteractableException:\n",
    "        print(\"Element Not Interactable Exceptional\")\n",
    "        break"
   ]
  },
  {
   "cell_type": "code",
   "execution_count": 15,
   "metadata": {},
   "outputs": [],
   "source": [
    "\n",
    "\n",
    "# 5 sao\n",
    "next_pagination_cmt = driver.find_element(\"xpath\", \"/html/body/div[8]/div/div/ul/li[2]\")\n",
    "next_pagination_cmt.click()\n",
    "\n",
    "# 4 sao\n",
    "next_pagination_cmt = driver.find_element(\"xpath\", \"/html/body/div[8]/div/div/ul/li[3]\")\n",
    "next_pagination_cmt.click()\n",
    "\n",
    "# 3 sao\n",
    "next_pagination_cmt = driver.find_element(\"xpath\", \"/html/body/div[8]/div/div/ul/li[4]\")\n",
    "next_pagination_cmt.click()\n",
    "\n",
    "# 2 sao\n",
    "next_pagination_cmt = driver.find_element(\"xpath\", \"/html/body/div[8]/div/div/ul/li[5]\")\n",
    "next_pagination_cmt.click()\n",
    "\n",
    "# 1 sao\n",
    "next_pagination_cmt = driver.find_element(\"xpath\", \"/html/body/div[8]/div/div/ul/li[6]\")\n",
    "next_pagination_cmt.click()"
   ]
  },
  {
   "cell_type": "code",
   "execution_count": 77,
   "metadata": {},
   "outputs": [],
   "source": [
    "df6 = pd.DataFrame(list(zip(name_comment, content_comment, like_count, star_count)), \\\n",
    "                    columns = ['name_comment', 'content_comment', 'like_count', 'star_count'])\n",
    "\n",
    "df6.insert(0, \"link_item\", links[pages])"
   ]
  },
  {
   "cell_type": "code",
   "execution_count": null,
   "metadata": {},
   "outputs": [],
   "source": [
    "# df6 = pd.DataFrame(list(zip(name_comment, content_comment, like_count)), \\\n",
    "#                     columns = ['name_comment', 'content_comment', 'like_count'])\n",
    "\n",
    "# df6.insert(0, \"link_item\", links[0])"
   ]
  },
  {
   "cell_type": "code",
   "execution_count": 58,
   "metadata": {},
   "outputs": [],
   "source": [
    "df5.to_excel(\"quan_short_nam.xlsx\")"
   ]
  },
  {
   "cell_type": "code",
   "execution_count": 78,
   "metadata": {},
   "outputs": [],
   "source": [
    "df6.to_excel(\"quanshort_9.xlsx\")"
   ]
  },
  {
   "cell_type": "code",
   "execution_count": 24,
   "metadata": {},
   "outputs": [
    {
     "data": {
      "text/plain": [
       "944"
      ]
     },
     "execution_count": 24,
     "metadata": {},
     "output_type": "execute_result"
    }
   ],
   "source": [
    "len(content_comment)"
   ]
  },
  {
   "cell_type": "code",
   "execution_count": 29,
   "metadata": {},
   "outputs": [
    {
     "data": {
      "text/html": [
       "<div>\n",
       "<style scoped>\n",
       "    .dataframe tbody tr th:only-of-type {\n",
       "        vertical-align: middle;\n",
       "    }\n",
       "\n",
       "    .dataframe tbody tr th {\n",
       "        vertical-align: top;\n",
       "    }\n",
       "\n",
       "    .dataframe thead th {\n",
       "        text-align: right;\n",
       "    }\n",
       "</style>\n",
       "<table border=\"1\" class=\"dataframe\">\n",
       "  <thead>\n",
       "    <tr style=\"text-align: right;\">\n",
       "      <th></th>\n",
       "      <th>link_item</th>\n",
       "      <th>name_comment</th>\n",
       "      <th>content_comment</th>\n",
       "      <th>like_count</th>\n",
       "    </tr>\n",
       "  </thead>\n",
       "  <tbody>\n",
       "    <tr>\n",
       "      <th>0</th>\n",
       "      <td>https://www.lazada.vn/products/dien-thoai-sams...</td>\n",
       "      <td>Thu T.Chứng nhận đã mua hàng</td>\n",
       "      <td>Giao hàng nhanh, hãng chính hãng, săn sale giá...</td>\n",
       "      <td>0</td>\n",
       "    </tr>\n",
       "    <tr>\n",
       "      <th>1</th>\n",
       "      <td>https://www.lazada.vn/products/dien-thoai-sams...</td>\n",
       "      <td>kioChứng nhận đã mua hàng</td>\n",
       "      <td>Cảm ơn bạn đã đánh giá cho Xiaomi! Chúng tôi r...</td>\n",
       "      <td>0</td>\n",
       "    </tr>\n",
       "    <tr>\n",
       "      <th>2</th>\n",
       "      <td>https://www.lazada.vn/products/dien-thoai-sams...</td>\n",
       "      <td>dương Q.Chứng nhận đã mua hàng</td>\n",
       "      <td>mâmmamamsmmsmsmmsmsmsmsmsmskskskksksksksksksjs...</td>\n",
       "      <td>0</td>\n",
       "    </tr>\n",
       "    <tr>\n",
       "      <th>3</th>\n",
       "      <td>https://www.lazada.vn/products/dien-thoai-sams...</td>\n",
       "      <td>tran N.Chứng nhận đã mua hàng</td>\n",
       "      <td>Cảm ơn bạn đã đánh giá cho Xiaomi! Chúng tôi r...</td>\n",
       "      <td>0</td>\n",
       "    </tr>\n",
       "    <tr>\n",
       "      <th>4</th>\n",
       "      <td>https://www.lazada.vn/products/dien-thoai-sams...</td>\n",
       "      <td>tran N.Chứng nhận đã mua hàng</td>\n",
       "      <td>điện thoại như mô tả, mắt camera lòi nhưng chụ...</td>\n",
       "      <td>0</td>\n",
       "    </tr>\n",
       "  </tbody>\n",
       "</table>\n",
       "</div>"
      ],
      "text/plain": [
       "                                           link_item  \\\n",
       "0  https://www.lazada.vn/products/dien-thoai-sams...   \n",
       "1  https://www.lazada.vn/products/dien-thoai-sams...   \n",
       "2  https://www.lazada.vn/products/dien-thoai-sams...   \n",
       "3  https://www.lazada.vn/products/dien-thoai-sams...   \n",
       "4  https://www.lazada.vn/products/dien-thoai-sams...   \n",
       "\n",
       "                     name_comment  \\\n",
       "0    Thu T.Chứng nhận đã mua hàng   \n",
       "1       kioChứng nhận đã mua hàng   \n",
       "2  dương Q.Chứng nhận đã mua hàng   \n",
       "3   tran N.Chứng nhận đã mua hàng   \n",
       "4   tran N.Chứng nhận đã mua hàng   \n",
       "\n",
       "                                     content_comment like_count  \n",
       "0  Giao hàng nhanh, hãng chính hãng, săn sale giá...          0  \n",
       "1  Cảm ơn bạn đã đánh giá cho Xiaomi! Chúng tôi r...          0  \n",
       "2  mâmmamamsmmsmsmmsmsmsmsmsmskskskksksksksksksjs...          0  \n",
       "3  Cảm ơn bạn đã đánh giá cho Xiaomi! Chúng tôi r...          0  \n",
       "4  điện thoại như mô tả, mắt camera lòi nhưng chụ...          0  "
      ]
     },
     "execution_count": 29,
     "metadata": {},
     "output_type": "execute_result"
    }
   ],
   "source": [
    "df6.head(5)"
   ]
  },
  {
   "cell_type": "code",
   "execution_count": null,
   "metadata": {},
   "outputs": [],
   "source": [
    "driver.close()"
   ]
  },
  {
   "cell_type": "code",
   "execution_count": 1,
   "metadata": {},
   "outputs": [
    {
     "name": "stdout",
     "output_type": "stream",
     "text": [
      "Collecting shopee-crawler\n",
      "  Downloading shopee_crawler-0.2.3.tar.gz (6.5 kB)\n",
      "  Preparing metadata (setup.py): started\n",
      "  Preparing metadata (setup.py): finished with status 'done'\n",
      "Building wheels for collected packages: shopee-crawler\n",
      "  Building wheel for shopee-crawler (setup.py): started\n",
      "  Building wheel for shopee-crawler (setup.py): finished with status 'done'\n",
      "  Created wheel for shopee-crawler: filename=shopee_crawler-0.2.3-py3-none-any.whl size=8853 sha256=59087ed381e25f1ad7d2c52a35dbb63ee19a1ac785419b66ac5594b4d6a935fa\n",
      "  Stored in directory: c:\\users\\vinh.nt2\\appdata\\local\\pip\\cache\\wheels\\fd\\f2\\5c\\956dafcc35fc372a4540504263ee25c5bf5f188c97e455418c\n",
      "Successfully built shopee-crawler\n",
      "Installing collected packages: shopee-crawler\n",
      "Successfully installed shopee-crawler-0.2.3\n",
      "Note: you may need to restart the kernel to use updated packages.\n"
     ]
    }
   ],
   "source": [
    "pip install shopee-crawler"
   ]
  },
  {
   "cell_type": "code",
   "execution_count": 2,
   "metadata": {},
   "outputs": [],
   "source": [
    "from shopee_crawler import Crawler"
   ]
  },
  {
   "cell_type": "code",
   "execution_count": null,
   "metadata": {},
   "outputs": [],
   "source": [
    "crawler = Crawler()\n",
    "crawler.set_origin(origin=\"shopee.vn\") # Input your root Shopee website of your country that you want to crawl\n",
    "\n",
    "\n",
    "\n",
    "\n",
    "data = crawler.crawl_by_search(keyword='điện thoại')\n",
    "\n",
    "\n",
    "\n",
    "print(data)"
   ]
  },
  {
   "cell_type": "markdown",
   "metadata": {},
   "source": [
    "### Chuẩn hóa kiểu chữ về cùng 1 dạng"
   ]
  },
  {
   "cell_type": "code",
   "execution_count": 25,
   "metadata": {},
   "outputs": [
    {
     "name": "stdout",
     "output_type": "stream",
     "text": [
      "200\n",
      "[]\n",
      "https://shopee.vn/%C3%81o-Thun-%C4%90%C3%ADnh-N%C6%A1-Form-%C3%94m-Body-%C3%81o-Ph%C3%B4ng-Baby-Tee-Ch%E1%BA%A5t-Co-D%C3%A3n-i.454500388.25466637713?sp_atk=1245020a-67a2-4cd9-95eb-15f018c64020&xptdk=1245020a-67a2-4cd9-95eb-15f018c64020\n",
      "0\n"
     ]
    }
   ],
   "source": [
    "import requests\n",
    "import re\n",
    "import pandas as pd\n",
    "from bs4 import BeautifulSoup\n",
    "from fake_useragent import UserAgent\n",
    "import json\n",
    "\n",
    "url = 'https://shopee.vn/%C3%81o-Thun-%C4%90%C3%ADnh-N%C6%A1-Form-%C3%94m-Body-%C3%81o-Ph%C3%B4ng-Baby-Tee-Ch%E1%BA%A5t-Co-D%C3%A3n-i.454500388.25466637713?sp_atk=1245020a-67a2-4cd9-95eb-15f018c64020&xptdk=1245020a-67a2-4cd9-95eb-15f018c64020'\n",
    "headers = {\n",
    "'Host': 'shopee.vn',\n",
    "'User-Agent': 'Mozilla/5.0 (Windows NT 10.0; Win64; x64; rv:71.0) Gecko/20100101 Firefox/71.0',\n",
    "'Cookie':'SPC_IA=-1; SPC_EC=-; SPC_F=L07IMDECRHjifEKyg7XuNCJ00GNdJGTA; REC_T_ID=246cfcdc-18fa-11ea-b254-f8f21e2be0b8; SPC_T_ID=\"Fyr1skVDq7FDiJOuTYHBmMfMr2Cw1eZyPbYJhBYoRmf/gvfvkOf5zgjIVXLrYYlg32aSx1PfmhWq7QsQzwM86mdeXG8VU7ERK4N+gfPFd14=\"; SPC_U=-; SPC_T_IV=\"/oJN8EB7iQwg7+n5mXd6cw==\"; _gcl_au=1.1.788704691.1575727322; _fbp=fb.1.1575727322914.443117835; _ga=GA1.2.1422761069.1575727324; __BWfp=c1575727332595xf5a099d8b; cto_lwid=7ea874b3-f31f-47d7-aef9-60eed0156d33; cto_bundle=0tgQ7V9rU3JlRTU4aWlTc09JNXRaN014Y3ZXa1BtVVcwT2RhOU1UZ0tweUFvWUo2WHRPQjd0JTJCM1duaG5iWXFFRWxpbHZkTFluWUZLSEFudTFreGJueFoxU0EyanhnMWN6ZEVIUVV6cFlhd050emhFMWQ4bmhVelZwVSUyRmwwQUp5c29lOEhPT2ZobE10S1dvT09HYWNhVXV1YWx5R3dSOGw0MHcwZWpiZ2pXU2VHSzdrJTNE; _med=refer; G_ENABLED_IDPS=google; fbm_382498665271383=base_domain=.shopee.tw; SPC_SI=jq6hwq6ju6hig9hfulumcagdqaiopatc; _gid=GA1.2.143857303.1577796150; csrftoken=3Pya3o5WYEvhLOj9FqCqbV3angfwBlko; AMP_TOKEN=%24NOT_FOUND; _dc_gtm_UA-61915057-6=1'\n",
    "}\n",
    "\n",
    "r = requests.get(url,headers=headers,allow_redirects=True)\n",
    "print(r.status_code)\n",
    "print(r.history)\n",
    "print(r.url)\n",
    "\n",
    "driver = webdriver.Chrome()\n",
    "driver.get(url)\n",
    "\n",
    "soup = BeautifulSoup(r.text, 'html.parser')\n",
    "items = soup.find_all(\"div\", class_=\"col-xs-2-4 shopee-search-item-result__item\")\n",
    "print(len(items))"
   ]
  },
  {
   "cell_type": "code",
   "execution_count": 24,
   "metadata": {},
   "outputs": [
    {
     "name": "stdout",
     "output_type": "stream",
     "text": [
      "No Such Element Exception 1\n",
      "No Such Element Exception 2\n",
      "No Such Element Exception 3\n",
      "No Such Element Exception 4\n",
      "No Such Element Exception 5\n",
      "No Such Element Exception 6\n"
     ]
    }
   ],
   "source": [
    "discount_percent_list = []\n",
    "for i in range(1, 7):\n",
    "    try:\n",
    "        discount_percent = driver.find_element(\"xpath\", \"/html/body/div[1]/div/div[2]/div[1]/div/div/div/div[2]/div[3]/div/div[1]/div[2]/div/div/div[3]/div[1]/div[{}]/div/div[3]\".format(i))\n",
    "        print(discount_percent.text)\n",
    "        discount_percent_list.append(discount_percent.text)\n",
    "        discount_idx.append(i)\n",
    "    except NoSuchElementException:\n",
    "        print(\"No Such Element Exception \" + str(i))"
   ]
  },
  {
   "cell_type": "code",
   "execution_count": 23,
   "metadata": {},
   "outputs": [
    {
     "name": "stdout",
     "output_type": "stream",
     "text": [
      "[]\n"
     ]
    }
   ],
   "source": [
    "print(discount_percent_list)"
   ]
  },
  {
   "cell_type": "code",
   "execution_count": 31,
   "metadata": {},
   "outputs": [
    {
     "ename": "TimeoutException",
     "evalue": "Message: \nStacktrace:\n\tGetHandleVerifier [0x00007FF62CE8EEA2+31554]\n\t(No symbol) [0x00007FF62CE07ED9]\n\t(No symbol) [0x00007FF62CCC872A]\n\t(No symbol) [0x00007FF62CD18434]\n\t(No symbol) [0x00007FF62CD1853C]\n\t(No symbol) [0x00007FF62CD5F6A7]\n\t(No symbol) [0x00007FF62CD3D06F]\n\t(No symbol) [0x00007FF62CD5C977]\n\t(No symbol) [0x00007FF62CD3CDD3]\n\t(No symbol) [0x00007FF62CD0A33B]\n\t(No symbol) [0x00007FF62CD0AED1]\n\tGetHandleVerifier [0x00007FF62D198B1D+3217341]\n\tGetHandleVerifier [0x00007FF62D1E5AE3+3532675]\n\tGetHandleVerifier [0x00007FF62D1DB0E0+3489152]\n\tGetHandleVerifier [0x00007FF62CF3E776+750614]\n\t(No symbol) [0x00007FF62CE1375F]\n\t(No symbol) [0x00007FF62CE0EB14]\n\t(No symbol) [0x00007FF62CE0ECA2]\n\t(No symbol) [0x00007FF62CDFE16F]\n\tBaseThreadInitThunk [0x00007FFA99487374+20]\n\tRtlUserThreadStart [0x00007FFA9B33CC91+33]\n",
     "output_type": "error",
     "traceback": [
      "\u001b[1;31m---------------------------------------------------------------------------\u001b[0m",
      "\u001b[1;31mTimeoutException\u001b[0m                          Traceback (most recent call last)",
      "Cell \u001b[1;32mIn[31], line 13\u001b[0m\n\u001b[0;32m     11\u001b[0m browserdriver \u001b[38;5;241m=\u001b[39m webdriver\u001b[38;5;241m.\u001b[39mChrome()\n\u001b[0;32m     12\u001b[0m browserdriver\u001b[38;5;241m.\u001b[39mget(\u001b[38;5;124m'\u001b[39m\u001b[38;5;124mhttps://shopee.com.my/search?keyword=h370m\u001b[39m\u001b[38;5;124m'\u001b[39m)\n\u001b[1;32m---> 13\u001b[0m WebDriverWait(browserdriver, \u001b[38;5;241m20\u001b[39m)\u001b[38;5;241m.\u001b[39muntil(EC\u001b[38;5;241m.\u001b[39melement_to_be_clickable((By\u001b[38;5;241m.\u001b[39mXPATH, \u001b[38;5;124m\"\u001b[39m\u001b[38;5;124m//div[@class=\u001b[39m\u001b[38;5;124m'\u001b[39m\u001b[38;5;124mshopee-modal__container\u001b[39m\u001b[38;5;124m'\u001b[39m\u001b[38;5;124m]//button[text()=\u001b[39m\u001b[38;5;124m'\u001b[39m\u001b[38;5;124mEnglish\u001b[39m\u001b[38;5;124m'\u001b[39m\u001b[38;5;124m]\u001b[39m\u001b[38;5;124m\"\u001b[39m)))\u001b[38;5;241m.\u001b[39mclick()\n\u001b[0;32m     14\u001b[0m \u001b[38;5;28mprint\u001b[39m([my_element\u001b[38;5;241m.\u001b[39mget_attribute(\u001b[38;5;124m'\u001b[39m\u001b[38;5;124minnerHTML\u001b[39m\u001b[38;5;124m'\u001b[39m) \u001b[38;5;28;01mfor\u001b[39;00m my_element \u001b[38;5;129;01min\u001b[39;00m WebDriverWait(browserdriver, \u001b[38;5;241m10\u001b[39m)\u001b[38;5;241m.\u001b[39muntil(EC\u001b[38;5;241m.\u001b[39mpresence_of_all_elements_located((By\u001b[38;5;241m.\u001b[39mXPATH, \u001b[38;5;124m'\u001b[39m\u001b[38;5;124m//*[@class=\u001b[39m\u001b[38;5;124m\"\u001b[39m\u001b[38;5;124m_1NoI8_ _2gr36I\u001b[39m\u001b[38;5;124m\"\u001b[39m\u001b[38;5;124m]\u001b[39m\u001b[38;5;124m'\u001b[39m)))])\n\u001b[0;32m     15\u001b[0m \u001b[38;5;28mprint\u001b[39m(\u001b[38;5;124m\"\u001b[39m\u001b[38;5;124mProgram Ended\u001b[39m\u001b[38;5;124m\"\u001b[39m)\n",
      "File \u001b[1;32mc:\\Users\\vinh.nt2\\AppData\\Local\\anaconda3\\Lib\\site-packages\\selenium\\webdriver\\support\\wait.py:105\u001b[0m, in \u001b[0;36mWebDriverWait.until\u001b[1;34m(self, method, message)\u001b[0m\n\u001b[0;32m    103\u001b[0m     \u001b[38;5;28;01mif\u001b[39;00m time\u001b[38;5;241m.\u001b[39mmonotonic() \u001b[38;5;241m>\u001b[39m end_time:\n\u001b[0;32m    104\u001b[0m         \u001b[38;5;28;01mbreak\u001b[39;00m\n\u001b[1;32m--> 105\u001b[0m \u001b[38;5;28;01mraise\u001b[39;00m TimeoutException(message, screen, stacktrace)\n",
      "\u001b[1;31mTimeoutException\u001b[0m: Message: \nStacktrace:\n\tGetHandleVerifier [0x00007FF62CE8EEA2+31554]\n\t(No symbol) [0x00007FF62CE07ED9]\n\t(No symbol) [0x00007FF62CCC872A]\n\t(No symbol) [0x00007FF62CD18434]\n\t(No symbol) [0x00007FF62CD1853C]\n\t(No symbol) [0x00007FF62CD5F6A7]\n\t(No symbol) [0x00007FF62CD3D06F]\n\t(No symbol) [0x00007FF62CD5C977]\n\t(No symbol) [0x00007FF62CD3CDD3]\n\t(No symbol) [0x00007FF62CD0A33B]\n\t(No symbol) [0x00007FF62CD0AED1]\n\tGetHandleVerifier [0x00007FF62D198B1D+3217341]\n\tGetHandleVerifier [0x00007FF62D1E5AE3+3532675]\n\tGetHandleVerifier [0x00007FF62D1DB0E0+3489152]\n\tGetHandleVerifier [0x00007FF62CF3E776+750614]\n\t(No symbol) [0x00007FF62CE1375F]\n\t(No symbol) [0x00007FF62CE0EB14]\n\t(No symbol) [0x00007FF62CE0ECA2]\n\t(No symbol) [0x00007FF62CDFE16F]\n\tBaseThreadInitThunk [0x00007FFA99487374+20]\n\tRtlUserThreadStart [0x00007FFA9B33CC91+33]\n"
     ]
    }
   ],
   "source": [
    "from selenium import webdriver\n",
    "from selenium.webdriver.support.ui import WebDriverWait\n",
    "from selenium.webdriver.common.by import By\n",
    "from selenium.webdriver.support import expected_conditions as EC\n",
    "\n",
    "options = webdriver.ChromeOptions()\n",
    "options.add_argument('--headless')\n",
    "options.add_argument('start-maximized')\n",
    "options.add_argument('disable-infobars')\n",
    "options.add_argument('--disable-extensions')\n",
    "browserdriver = webdriver.Chrome()\n",
    "browserdriver.get('https://shopee.com.my/search?keyword=h370m')\n",
    "WebDriverWait(browserdriver, 20).until(EC.element_to_be_clickable((By.XPATH, \"//div[@class='shopee-modal__container']//button[text()='English']\"))).click()\n",
    "print([my_element.get_attribute('innerHTML') for my_element in WebDriverWait(browserdriver, 10).until(EC.presence_of_all_elements_located((By.XPATH, '//*[@class=\"_1NoI8_ _2gr36I\"]')))])\n",
    "print(\"Program Ended\")"
   ]
  },
  {
   "cell_type": "markdown",
   "metadata": {},
   "source": [
    "# CRAWL DATA SHOPEE"
   ]
  },
  {
   "cell_type": "code",
   "execution_count": 9,
   "metadata": {},
   "outputs": [],
   "source": [
    "id_item = '19787998337'\n",
    "id_shop = '703090265'\n",
    "page_50 = '1'"
   ]
  },
  {
   "cell_type": "code",
   "execution_count": 10,
   "metadata": {},
   "outputs": [],
   "source": [
    "link_crawl = 'https://shopee.vn/api/v2/item/get_ratings?itemid=' + id_item + '&shopid=' + 'id_shop' + '&limit=50&offset=' + page_50"
   ]
  },
  {
   "cell_type": "code",
   "execution_count": null,
   "metadata": {},
   "outputs": [],
   "source": [
    "from selenium import webdriver\n",
    "from webdriver_manager.chrome import ChromeDriverManager\n",
    "import numpy as np\n",
    "from selenium import webdriver\n",
    "from time import sleep\n",
    "import random\n",
    "from selenium.common.exceptions import NoSuchElementException, ElementNotInteractableException\n",
    "from selenium.webdriver.common.by import By\n",
    "import pandas as pd\n",
    "import json\n",
    "# URL của API hoặc trang web\n",
    "\n",
    "comments = pd.Series()\n",
    "\n",
    "for i in range(1, 502):\n",
    "\n",
    "    # Gửi yêu cầu GET\n",
    "    driver = webdriver.Chrome()\n",
    "    driver.get(\"https://my.lazada.vn/pdp/review/getReviewList?itemId=982542751&pageSize=50&filter=0&sort=0&pageNo={}\".format(i))\n",
    "    sleep(random.randint(5, 10))\n",
    "\n",
    "    elems_content = driver.find_element(\"xpath\", \"/html/body/pre\")\n",
    "    print(elems_content.text)\n",
    "\n",
    "    file_path = 'data.json'\n",
    "\n",
    "    with open(file_path, 'w') as file:\n",
    "        file.write(elems_content.text)\n",
    "\n",
    "    # Mở file và đọc dữ liệu vào dictionary\n",
    "    with open(file_path, 'r') as file:\n",
    "        data = json.load(file)\n",
    "\n",
    "    for i in data['data']['ratings']:\n",
    "        comments[len(comments)] = i"
   ]
  },
  {
   "cell_type": "code",
   "execution_count": 85,
   "metadata": {},
   "outputs": [
    {
     "data": {
      "text/plain": [
       "0      Lần đầu mua dùng thử, áo đẹp, form xinh săn sa...\n",
       "1      Chất liệu:cotton\\nMàu sắc:xanh tim than\\nĐúng ...\n",
       "2      Chất liệu:cotton\\nMàu sắc:trắng\\nĐúng với mô t...\n",
       "3      Chất liệu:tốt\\nMàu sắc:đẹp\\nĐúng với mô tả:đún...\n",
       "4      Đúng với mô tả:giống với ảnh mẫu\\nChất liệu:vả...\n",
       "                             ...                        \n",
       "545    okila nhé mọi người giao nhanh đóng gói cẩn th...\n",
       "546    Đúng với mô tả:xinhh\\nMàu sắc:Xanh navi\\n\\nÁo ...\n",
       "547    Màu sắc:naau,xam\\nChất liệu:cotton\\nĐúng với m...\n",
       "548    Đúng với mô tả:dung\\nChất liệu:vải cũng đc\\nMà...\n",
       "549    Màu sắc:trawsng\\nĐúng với mô tả:đings\\nChất li...\n",
       "Length: 550, dtype: object"
      ]
     },
     "execution_count": 85,
     "metadata": {},
     "output_type": "execute_result"
    }
   ],
   "source": [
    "comments"
   ]
  },
  {
   "cell_type": "code",
   "execution_count": null,
   "metadata": {},
   "outputs": [],
   "source": [
    "from selenium import webdriver\n",
    "from webdriver_manager.chrome import ChromeDriverManager\n",
    "import numpy as np\n",
    "from selenium import webdriver\n",
    "from time import sleep\n",
    "import random\n",
    "from selenium.common.exceptions import NoSuchElementException, ElementNotInteractableException\n",
    "from selenium.webdriver.common.by import By\n",
    "import pandas as pd\n",
    "import json\n",
    "# URL của API hoặc trang web\n",
    "\n",
    "driver = webdriver.Chrome()\n",
    "driver.get(\"https://my.lazada.vn/pdp/review/getReviewList?itemId=982542751&pageSize=50&filter=0&sort=0&pageNo=1\")\n",
    "sleep(random.randint(5, 10))\n",
    "\n",
    "elems_content = driver.find_element(\"xpath\", \"/html/body/pre\")\n",
    "print(elems_content.text)\n",
    "\n",
    "file_path = 'data.json'\n",
    "\n",
    "with open(file_path, 'w') as file:\n",
    "    file.write(elems_content.text)\n",
    "\n",
    "# Mở file và đọc dữ liệu vào dictionary\n",
    "with open(file_path, 'r') as file:\n",
    "    data = json.load(file)\n",
    "\n",
    "comments = pd.Series()\n",
    "for i in data['model']['items']:\n",
    "    comments[len(comments)] = i"
   ]
  },
  {
   "cell_type": "code",
   "execution_count": 14,
   "metadata": {},
   "outputs": [
    {
     "name": "stdout",
     "output_type": "stream",
     "text": [
      "items [{'reviewRateId': 296100678542751, 'reviewType': 'PRODUCT_REVIEW', 'tradeOrderId': None, 'boughtDate': '09 thg 9 2021', 'zonedBoughtDate': None, 'reviewStatus': 'approved', 'reviewTitle': None, 'reviewContent': 'Giao hơi lâu\\nNhưng giao đúng và đủ sản phẩm\\nMua lazada mall nên rất an tâm\\nCần là mua 👍👍👍👍👍', 'reviewContentList': [{'attribute': '', 'content': 'Giao hơi lâu\\nNhưng giao đúng và đủ sản phẩm\\nMua lazada mall nên rất an tâm\\nCần là mua 👍👍👍👍👍', 'selected': None}], 'reviewTime': '21 thg 9 2021', 'zonedReviewTime': None, 'imageQCStatus': 'approved', 'images': [{'title': None, 'url': 'https://sg-test-11.slatic.net/other/roc/c5e2e4253428ecc5f814b49a8ac2a083.jpg', 'sort': 1, 'uploadTime': None, 'legal': True, 'status': 'approved', 'checkedByPeople': None, 'width': 2731, 'height': 2048, 'size': 563874}], 'videoId': 30029790743, 'isVideoReady': True, 'videoCoverUrl': 'https://vn-live-02.slatic.net/p/97baf0919f9180344d443cdbad511a84.jpg', 'reviewRateThreadId': None, 'mediaList': [{'reviewRateId': 296100678542751, 'reviewType': 'PRODUCT_REVIEW', 'mediaType': 2, 'coverUrl': 'https://vn-live-02.slatic.net/p/97baf0919f9180344d443cdbad511a84.jpg', 'videoId': 30029790743, 'videoUrl': 'https://lazvideo.lazcdn.com/psp/20210921/1522b0a8-1bfb-49d5-8a87-d89c35af41c1@@ld.mp4?auth_key=1726641599-0-0-29fc4a80575fbf86436e9bbe4bf965a6', 'width': None, 'height': None, 'size': None}, {'reviewRateId': 296100678542751, 'reviewType': 'PRODUCT_REVIEW', 'mediaType': 1, 'coverUrl': 'https://sg-test-11.slatic.net/other/roc/c5e2e4253428ecc5f814b49a8ac2a083.jpg', 'videoId': None, 'videoUrl': None, 'width': 2731, 'height': 2048, 'size': 563874}], 'buyerId': 200091027406, 'buyerName': '0***6', 'buyerEmail': None, 'realBuyerName': None, 'isAnonymous': True, 'source': None, 'clientType': 'iosApp', 'rating': 5, 'originalRating': None, 'likeCount': 0, 'likeText': None, 'isMeLike': None, 'helpful': True, 'rejected': False, 'rejectionReason': None, 'resubmissionTooltip': None, 'resubmissionMessage': None, 'qcReasonId': None, 'qcDate': None, 'isPurchased': True, 'isGuest': False, 'sellerId': 200164296998, 'sellerName': None, 'isBuyerShowEnabled': True, 'qcScore': None, 'isQced': False, 'itemId': 982542751, 'itemPic': 'https://vn-live.slatic.net/p/25a89e64c130669edf1aa291371672a9.jpg', 'itemTitle': '[COMBO 17] 2 Bột ngọt AJI-NO-MOTO 1kg', 'itemUrl': 'https://www.lazada.vn/combo-17-2-bot-ngot-aji-no-moto-1kg-i982542751-s3110240830.html', 'originPrice': None, 'salesPrice': None, 'promotion': None, 'skuInfo': None, 'tags': None, 'skuId': '3110240830', 'configSku': '982542751_VNAMZ', 'lastReviewer': 'mtee', 'isReportable': 0, 'reportStatus': None, 'reportDate': None, 'reportTimes': 0, 'upVotes': 0, 'downVotes': 0, 'isExternal': 0, 'replies': [{'reviewRateId': 297048420142751, 'reviewTime': '3 năm trước', 'reviewContent': 'Ajinomoto xin chào! Chân thành cảm ơn Quý khách vì đã dành thời gian chia sẻ trải nghiệm mua hàng cùng Ajinomoto. Mong rằng Quý khách sẽ luôn ủng hộ gian hàng ạ! Cảm ơn và chúc Quý khách mọi điều tốt lành.', 'reviewerName': '0***6', 'reviewerBadge': None, 'isFollowUp': False, 'isMeLike': None, 'likeCount': 0, 'helpful': None, 'canReply': False, 'rejected': False, 'rejectionReason': None, 'resubmissionTooltip': None, 'resubmissionMessage': None, 'reviewStatus': 'approved'}], 'isSocialCommentsEnabled': True, 'comments': None, 'canEdit': False, 'isAlreadyRevised': None, 'submitInfo': None, 'imageHost': '//vn-live.slatic.net', 'showUploader': True, 'showVideoUploader': True, 'relevanceScore': 86.7299213223, 'isCompleted': 1, 'avatar': None, 'reviewerType': None, 'replyAuthor': None, 'sourceReviewTags': None, 'reviewTags': None, 'contentTag': None, 'contentTags': None, 'canDownloadImage': None, 'commentsCount': 0, 'originalCountry': None, 'isCrossVenture': False, 'isAutoTranslated': None, 'viewCounts': 3, 'isGoodReview': True, 'categoryId': 10003322, 'imageCount': None, 'videoCount': None, 'followUpReviews': None, 'reviewBenefit': None, 'gradeItems': {}, 'foreignContent': None, 'targetId': 982542751, 'targetType': 'item'}, {'reviewRateId': 411257875042751, 'reviewType': 'PRODUCT_REVIEW', 'tradeOrderId': None, 'boughtDate': '15 thg 2 2024', 'zonedBoughtDate': None, 'reviewStatus': 'approved', 'reviewTitle': None, 'reviewContent': 'Hàng mall chính hãng, giao hàng nhanh.. mua sale giá rẻ nên mua ạ ', 'reviewContentList': [{'attribute': '', 'content': 'Hàng mall chính hãng, giao hàng nhanh.. mua sale giá rẻ nên mua ạ', 'selected': None}], 'reviewTime': '17 thg 2 2024', 'zonedReviewTime': None, 'imageQCStatus': 'approved', 'images': [{'title': None, 'url': 'https://lzd-u.slatic.net/1d11ffdd6ee94a42874be9caebda84c0_6_1708167910.979155.jpg', 'sort': 0, 'uploadTime': None, 'legal': True, 'status': 'approved', 'checkedByPeople': None, 'width': 0, 'height': 0, 'size': 0}], 'videoId': 30224428673, 'isVideoReady': True, 'videoCoverUrl': 'https://sg-test-11.slatic.net/p/01d0ae2b42e6f84737e62660f7896ea8.jpg', 'reviewRateThreadId': None, 'mediaList': [{'reviewRateId': 411257875042751, 'reviewType': 'PRODUCT_REVIEW', 'mediaType': 2, 'coverUrl': 'https://sg-test-11.slatic.net/p/01d0ae2b42e6f84737e62660f7896ea8.jpg', 'videoId': 30224428673, 'videoUrl': 'https://lazvideo.lazcdn.com/psp/20240217/f4830d8e-04be-46ad-acec-3eafe65dea48@@ld.mp4?auth_key=1726641599-0-0-bef1a7c7a48520a08501b54bf3a9f5a8', 'width': None, 'height': None, 'size': None}, {'reviewRateId': 411257875042751, 'reviewType': 'PRODUCT_REVIEW', 'mediaType': 1, 'coverUrl': 'https://lzd-u.slatic.net/1d11ffdd6ee94a42874be9caebda84c0_6_1708167910.979155.jpg', 'videoId': None, 'videoUrl': None, 'width': 0, 'height': 0, 'size': 0}], 'buyerId': 200087625171, 'buyerName': 'M***.', 'buyerEmail': None, 'realBuyerName': None, 'isAnonymous': True, 'source': 'pop_up_write_review_next_review', 'clientType': '', 'rating': 5, 'originalRating': None, 'likeCount': 0, 'likeText': None, 'isMeLike': None, 'helpful': True, 'rejected': False, 'rejectionReason': None, 'resubmissionTooltip': None, 'resubmissionMessage': None, 'qcReasonId': None, 'qcDate': None, 'isPurchased': True, 'isGuest': False, 'sellerId': 200164296998, 'sellerName': None, 'isBuyerShowEnabled': True, 'qcScore': None, 'isQced': False, 'itemId': 982542751, 'itemPic': 'https://vn-live.slatic.net/p/395e2723573e82260634890f1ee6a79a.jpg', 'itemTitle': 'Combo 2 Gói Bột Ngọt AJI-NO-MOTO® Hạt Lớn 1kg/Gói', 'itemUrl': 'https://www.lazada.vn/products/combo-2-goi-bot-ngot-aji-no-moto-hat-lon-1kggoi-i982542751-s3110240830.html', 'originPrice': None, 'salesPrice': None, 'promotion': None, 'skuInfo': None, 'tags': None, 'skuId': '3110240830', 'configSku': '982542751_VNAMZ', 'lastReviewer': None, 'isReportable': 0, 'reportStatus': None, 'reportDate': None, 'reportTimes': 0, 'upVotes': 0, 'downVotes': 0, 'isExternal': 0, 'replies': [], 'isSocialCommentsEnabled': True, 'comments': None, 'canEdit': False, 'isAlreadyRevised': None, 'submitInfo': None, 'imageHost': '//vn-live.slatic.net', 'showUploader': True, 'showVideoUploader': True, 'relevanceScore': 83.2086167328, 'isCompleted': 1, 'avatar': None, 'reviewerType': None, 'replyAuthor': None, 'sourceReviewTags': None, 'reviewTags': None, 'contentTag': None, 'contentTags': None, 'canDownloadImage': None, 'commentsCount': 0, 'originalCountry': None, 'isCrossVenture': False, 'isAutoTranslated': None, 'viewCounts': 0, 'isGoodReview': False, 'categoryId': 10003322, 'imageCount': None, 'videoCount': None, 'followUpReviews': None, 'reviewBenefit': None, 'gradeItems': {'PRODUCT_REVIEW': 5, 'LOGISTICS_REVIEW': 5, 'SELLER_REVIEW': 5}, 'foreignContent': None, 'targetId': 982542751, 'targetType': 'item'}, {'reviewRateId': 368167316042751, 'reviewType': 'PRODUCT_REVIEW', 'tradeOrderId': None, 'boughtDate': '12 thg 1 2023', 'zonedBoughtDate': None, 'reviewStatus': 'approved', 'reviewTitle': None, 'reviewContent': 'gdhd djhd jdud jdjd jdusj nshs jdhd jdud ndhd ndhd ndhd jsus jsus', 'reviewContentList': [{'attribute': '', 'content': 'gdhd djhd jdud jdjd jdusj nshs jdhd jdud ndhd ndhd ndhd jsus jsus', 'selected': None}], 'reviewTime': '15 thg 1 2023', 'zonedReviewTime': None, 'imageQCStatus': 'approved', 'images': [{'title': None, 'url': 'https://lzd-u.slatic.net/e20acfbe392a4539872e403900df9a6c_8ed295809c05466aa0851e27051b9336.jpg', 'sort': 0, 'uploadTime': None, 'legal': True, 'status': 'approved', 'checkedByPeople': None, 'width': 0, 'height': 0, 'size': 0}], 'videoId': 30119588889, 'isVideoReady': True, 'videoCoverUrl': 'https://vn-live-02.slatic.net/p/0835b7084dec40513c2db039f8a750b2.jpg', 'reviewRateThreadId': None, 'mediaList': [{'reviewRateId': 368167316042751, 'reviewType': 'PRODUCT_REVIEW', 'mediaType': 2, 'coverUrl': 'https://vn-live-02.slatic.net/p/0835b7084dec40513c2db039f8a750b2.jpg', 'videoId': 30119588889, 'videoUrl': 'https://lazvideo.lazcdn.com/psp/20230115/df6bae5b-9095-487a-93e4-b4c92e449b39@@ld.mp4?auth_key=1726641599-0-0-cd9dd1196a83a837c51f1c81d36f40b6', 'width': None, 'height': None, 'size': None}, {'reviewRateId': 368167316042751, 'reviewType': 'PRODUCT_REVIEW', 'mediaType': 1, 'coverUrl': 'https://lzd-u.slatic.net/e20acfbe392a4539872e403900df9a6c_8ed295809c05466aa0851e27051b9336.jpg', 'videoId': None, 'videoUrl': None, 'width': 0, 'height': 0, 'size': 0}], 'buyerId': 200104341238, 'buyerName': '*******025', 'buyerEmail': None, 'realBuyerName': None, 'isAnonymous': False, 'source': 'myreview', 'clientType': None, 'rating': 5, 'originalRating': None, 'likeCount': 0, 'likeText': None, 'isMeLike': None, 'helpful': True, 'rejected': False, 'rejectionReason': None, 'resubmissionTooltip': None, 'resubmissionMessage': None, 'qcReasonId': None, 'qcDate': None, 'isPurchased': True, 'isGuest': False, 'sellerId': 200164296998, 'sellerName': None, 'isBuyerShowEnabled': True, 'qcScore': None, 'isQced': False, 'itemId': 982542751, 'itemPic': 'https://vn-live.slatic.net/p/1c405a8369b8064c32062450119796ba.jpg', 'itemTitle': 'Combo 2 Bịch Bột Ngọt AJI-NO-MOTO® 1kgx2', 'itemUrl': 'https://www.lazada.vn/combo-2-bich-bot-ngot-aji-no-moto-1kgx2-i982542751-s3110240830.html', 'originPrice': None, 'salesPrice': None, 'promotion': None, 'skuInfo': None, 'tags': None, 'skuId': '3110240830', 'configSku': '982542751_VNAMZ', 'lastReviewer': None, 'isReportable': 0, 'reportStatus': None, 'reportDate': None, 'reportTimes': 0, 'upVotes': 0, 'downVotes': 0, 'isExternal': 0, 'replies': [{'reviewRateId': 368202043742751, 'reviewTime': '2 năm trước', 'reviewContent': 'Ajinomoto xin chào! Thật sự rất vui khi nhận được phản hồi tích cực từ Quý khách dành cho Ajinomoto. Mong rằng Quý khách sẽ luôn ủng hộ Ajinomoto ạ! Cảm ơn và chúc Quý khách mọi điều tốt lành.', 'reviewerName': 'Lazada Guest', 'reviewerBadge': None, 'isFollowUp': False, 'isMeLike': None, 'likeCount': 0, 'helpful': None, 'canReply': False, 'rejected': False, 'rejectionReason': None, 'resubmissionTooltip': None, 'resubmissionMessage': None, 'reviewStatus': 'approved'}], 'isSocialCommentsEnabled': True, 'comments': None, 'canEdit': False, 'isAlreadyRevised': None, 'submitInfo': None, 'imageHost': '//vn-live.slatic.net', 'showUploader': True, 'showVideoUploader': True, 'relevanceScore': 80.0148185766, 'isCompleted': 1, 'avatar': '', 'reviewerType': None, 'replyAuthor': None, 'sourceReviewTags': None, 'reviewTags': None, 'contentTag': None, 'contentTags': None, 'canDownloadImage': None, 'commentsCount': 0, 'originalCountry': None, 'isCrossVenture': False, 'isAutoTranslated': None, 'viewCounts': 2, 'isGoodReview': False, 'categoryId': 10003322, 'imageCount': None, 'videoCount': None, 'followUpReviews': None, 'reviewBenefit': None, 'gradeItems': {'PRODUCT_REVIEW': 5, 'LOGISTICS_REVIEW': 5, 'SELLER_REVIEW': 5}, 'foreignContent': None, 'targetId': 982542751, 'targetType': 'item'}, {'reviewRateId': 430000333242751, 'reviewType': 'PRODUCT_REVIEW', 'tradeOrderId': None, 'boughtDate': '27 thg 8 2024', 'zonedBoughtDate': None, 'reviewStatus': 'approved', 'reviewTitle': None, 'reviewContent': 'Thành phần an toàn và tự nhiên, Nâng cao nấu ăn của bạn lên một tầm cao mới, Hương vị ngon và đậm đà,  ', 'reviewContentList': [{'attribute': '', 'content': 'Thành phần an toàn và tự nhiên, Nâng cao nấu ăn của bạn lên một tầm cao mới, Hương vị ngon và đậm đà,', 'selected': None}], 'reviewTime': '2 tuần trước', 'zonedReviewTime': None, 'imageQCStatus': 'approved', 'images': [{'title': None, 'url': 'https://lzd-u.slatic.net/bd926c8b8beb48f5af189b7fbb729bf0_f82ee741f9dd401f9edc17e008bea94b.jpg', 'sort': 0, 'uploadTime': None, 'legal': True, 'status': 'approved', 'checkedByPeople': None, 'width': 0, 'height': 0, 'size': 0}], 'videoId': None, 'isVideoReady': None, 'videoCoverUrl': None, 'reviewRateThreadId': None, 'mediaList': [{'reviewRateId': 430000333242751, 'reviewType': 'PRODUCT_REVIEW', 'mediaType': 1, 'coverUrl': 'https://lzd-u.slatic.net/bd926c8b8beb48f5af189b7fbb729bf0_f82ee741f9dd401f9edc17e008bea94b.jpg', 'videoId': None, 'videoUrl': None, 'width': 0, 'height': 0, 'size': 0}], 'buyerId': 3408993, 'buyerName': 'Hoàng K.', 'buyerEmail': None, 'realBuyerName': None, 'isAnonymous': False, 'source': 'orderDetail', 'clientType': '', 'rating': 5, 'originalRating': None, 'likeCount': 0, 'likeText': None, 'isMeLike': None, 'helpful': True, 'rejected': False, 'rejectionReason': None, 'resubmissionTooltip': None, 'resubmissionMessage': None, 'qcReasonId': None, 'qcDate': None, 'isPurchased': True, 'isGuest': False, 'sellerId': 200164296998, 'sellerName': None, 'isBuyerShowEnabled': True, 'qcScore': None, 'isQced': False, 'itemId': 982542751, 'itemPic': 'https://vn-live.slatic.net/p/395e2723573e82260634890f1ee6a79a.jpg', 'itemTitle': 'Combo 2 Gói Bột Ngọt AJI-NO-MOTO® Hạt Lớn 1kg/Gói', 'itemUrl': 'https://www.lazada.vn/products/combo-2-goi-bot-ngot-aji-no-moto-hat-lon-1kggoi-i982542751-s3110240830.html', 'originPrice': None, 'salesPrice': None, 'promotion': None, 'skuInfo': None, 'tags': None, 'skuId': '3110240830', 'configSku': '982542751_VNAMZ', 'lastReviewer': None, 'isReportable': 0, 'reportStatus': None, 'reportDate': None, 'reportTimes': 0, 'upVotes': 0, 'downVotes': 0, 'isExternal': 0, 'replies': [], 'isSocialCommentsEnabled': True, 'comments': None, 'canEdit': True, 'isAlreadyRevised': None, 'submitInfo': None, 'imageHost': '//vn-live.slatic.net', 'showUploader': True, 'showVideoUploader': True, 'relevanceScore': 80, 'isCompleted': 1, 'avatar': 'https://lh4.googleusercontent.com/-OcckaN2TmpY/AAAAAAAAAAI/AAAAAAAAAAA/APUIFaPdLsJv3wyoH88DcEtmh_3q7r1JDg/s96-c/photo.jpg', 'reviewerType': None, 'replyAuthor': None, 'sourceReviewTags': None, 'reviewTags': None, 'contentTag': None, 'contentTags': None, 'canDownloadImage': None, 'commentsCount': 0, 'originalCountry': None, 'isCrossVenture': False, 'isAutoTranslated': None, 'viewCounts': 0, 'isGoodReview': False, 'categoryId': 10003322, 'imageCount': None, 'videoCount': None, 'followUpReviews': None, 'reviewBenefit': None, 'gradeItems': {'PRODUCT_REVIEW': 5, 'LOGISTICS_REVIEW': 5, 'SELLER_REVIEW': 5}, 'foreignContent': None, 'targetId': 982542751, 'targetType': 'item'}, {'reviewRateId': 428127120542751, 'reviewType': 'PRODUCT_REVIEW', 'tradeOrderId': None, 'boughtDate': '01 thg 8 2024', 'zonedBoughtDate': None, 'reviewStatus': 'approved', 'reviewTitle': None, 'reviewContent': 'Đóng gói tiện lợi với nhiều gói, Nâng cao hương vị của các công thức món ăn yêu thích của bạn, Nâng cao kỹ năng nấu nướng của bạn lên một tầm cao mới,  ', 'reviewContentList': [{'attribute': '', 'content': 'Đóng gói tiện lợi với nhiều gói, Nâng cao hương vị của các công thức món ăn yêu thích của bạn, Nâng cao kỹ năng nấu nướng của bạn lên một tầm cao mới,', 'selected': None}], 'reviewTime': '03 thg 8 2024', 'zonedReviewTime': None, 'imageQCStatus': 'approved', 'images': [{'title': None, 'url': 'https://lzd-u.slatic.net/74b7441d01b442a58be26922e21632b0_2_1722664213.421635.jpg', 'sort': 0, 'uploadTime': None, 'legal': True, 'status': 'approved', 'checkedByPeople': None, 'width': 0, 'height': 0, 'size': 0}], 'videoId': None, 'isVideoReady': None, 'videoCoverUrl': None, 'reviewRateThreadId': None, 'mediaList': [{'reviewRateId': 428127120542751, 'reviewType': 'PRODUCT_REVIEW', 'mediaType': 1, 'coverUrl': 'https://lzd-u.slatic.net/74b7441d01b442a58be26922e21632b0_2_1722664213.421635.jpg', 'videoId': None, 'videoUrl': None, 'width': 0, 'height': 0, 'size': 0}], 'buyerId': 200123778453, 'buyerName': 'Nguyễn V.', 'buyerEmail': None, 'realBuyerName': None, 'isAnonymous': False, 'source': 'write_review_next_review', 'clientType': '', 'rating': 5, 'originalRating': None, 'likeCount': 0, 'likeText': None, 'isMeLike': None, 'helpful': True, 'rejected': False, 'rejectionReason': None, 'resubmissionTooltip': None, 'resubmissionMessage': None, 'qcReasonId': None, 'qcDate': None, 'isPurchased': True, 'isGuest': False, 'sellerId': 200164296998, 'sellerName': None, 'isBuyerShowEnabled': True, 'qcScore': None, 'isQced': False, 'itemId': 982542751, 'itemPic': 'https://vn-live.slatic.net/p/395e2723573e82260634890f1ee6a79a.jpg', 'itemTitle': 'Combo 2 Gói Bột Ngọt AJI-NO-MOTO® Hạt Lớn 1kg/Gói', 'itemUrl': 'https://www.lazada.vn/products/combo-2-goi-bot-ngot-aji-no-moto-hat-lon-1kggoi-i982542751-s3110240830.html', 'originPrice': None, 'salesPrice': None, 'promotion': None, 'skuInfo': None, 'tags': None, 'skuId': '3110240830', 'configSku': '982542751_VNAMZ', 'lastReviewer': None, 'isReportable': 0, 'reportStatus': None, 'reportDate': None, 'reportTimes': 0, 'upVotes': 0, 'downVotes': 0, 'isExternal': 0, 'replies': [], 'isSocialCommentsEnabled': True, 'comments': None, 'canEdit': False, 'isAlreadyRevised': None, 'submitInfo': None, 'imageHost': '//vn-live.slatic.net', 'showUploader': True, 'showVideoUploader': True, 'relevanceScore': 80, 'isCompleted': 1, 'avatar': 'https://vn-live-02.slatic.net/p/72476c73dd7bcba8c5e0dea03eb5574c.jpg', 'reviewerType': None, 'replyAuthor': None, 'sourceReviewTags': None, 'reviewTags': None, 'contentTag': None, 'contentTags': None, 'canDownloadImage': None, 'commentsCount': 0, 'originalCountry': None, 'isCrossVenture': False, 'isAutoTranslated': None, 'viewCounts': 0, 'isGoodReview': False, 'categoryId': 10003322, 'imageCount': None, 'videoCount': None, 'followUpReviews': None, 'reviewBenefit': None, 'gradeItems': {'PRODUCT_REVIEW': 5, 'LOGISTICS_REVIEW': 5, 'SELLER_REVIEW': 5}, 'foreignContent': None, 'targetId': 982542751, 'targetType': 'item'}, {'reviewRateId': 428020876842751, 'reviewType': 'PRODUCT_REVIEW', 'tradeOrderId': None, 'boughtDate': '31 thg 7 2024', 'zonedBoughtDate': None, 'reviewStatus': 'approved', 'reviewTitle': None, 'reviewContent': 'Đóng gói tiện lợi với nhiều gói, Thành phần an toàn và tự nhiên, Một sản phẩm không thể thiếu trong mỗi căn bếp,  ', 'reviewContentList': [{'attribute': '', 'content': 'Đóng gói tiện lợi với nhiều gói, Thành phần an toàn và tự nhiên, Một sản phẩm không thể thiếu trong mỗi căn bếp,', 'selected': None}], 'reviewTime': '01 thg 8 2024', 'zonedReviewTime': None, 'imageQCStatus': 'approved', 'images': [{'title': None, 'url': 'https://lzd-u.slatic.net/3eea6f129e3f4607976572749f0e24ce_595ad4a4a1a64657ad83ff5918734222.jpg', 'sort': 0, 'uploadTime': None, 'legal': True, 'status': 'approved', 'checkedByPeople': None, 'width': 0, 'height': 0, 'size': 0}], 'videoId': None, 'isVideoReady': None, 'videoCoverUrl': None, 'reviewRateThreadId': None, 'mediaList': [{'reviewRateId': 428020876842751, 'reviewType': 'PRODUCT_REVIEW', 'mediaType': 1, 'coverUrl': 'https://lzd-u.slatic.net/3eea6f129e3f4607976572749f0e24ce_595ad4a4a1a64657ad83ff5918734222.jpg', 'videoId': None, 'videoUrl': None, 'width': 0, 'height': 0, 'size': 0}], 'buyerId': 200041758853, 'buyerName': 'Kimhoa N.', 'buyerEmail': None, 'realBuyerName': None, 'isAnonymous': False, 'source': 'write_review_next_review', 'clientType': '', 'rating': 5, 'originalRating': None, 'likeCount': 0, 'likeText': None, 'isMeLike': None, 'helpful': True, 'rejected': False, 'rejectionReason': None, 'resubmissionTooltip': None, 'resubmissionMessage': None, 'qcReasonId': None, 'qcDate': None, 'isPurchased': True, 'isGuest': False, 'sellerId': 200164296998, 'sellerName': None, 'isBuyerShowEnabled': True, 'qcScore': None, 'isQced': False, 'itemId': 982542751, 'itemPic': 'https://vn-live.slatic.net/p/395e2723573e82260634890f1ee6a79a.jpg', 'itemTitle': 'Combo 2 Gói Bột Ngọt AJI-NO-MOTO® Hạt Lớn 1kg/Gói', 'itemUrl': 'https://www.lazada.vn/products/combo-2-goi-bot-ngot-aji-no-moto-hat-lon-1kggoi-i982542751-s3110240830.html', 'originPrice': None, 'salesPrice': None, 'promotion': None, 'skuInfo': None, 'tags': None, 'skuId': '3110240830', 'configSku': '982542751_VNAMZ', 'lastReviewer': None, 'isReportable': 0, 'reportStatus': None, 'reportDate': None, 'reportTimes': 0, 'upVotes': 0, 'downVotes': 0, 'isExternal': 0, 'replies': [], 'isSocialCommentsEnabled': True, 'comments': None, 'canEdit': False, 'isAlreadyRevised': None, 'submitInfo': None, 'imageHost': '//vn-live.slatic.net', 'showUploader': True, 'showVideoUploader': True, 'relevanceScore': 80, 'isCompleted': 1, 'avatar': 'https://lh4.googleusercontent.com/-9biFAJ0XvQ4/AAAAAAAAAAI/AAAAAAAAAAA/ACHi3reawgeIePk5qyNapAi77uGDEE5hcQ/s96-c/photo.jpg', 'reviewerType': None, 'replyAuthor': None, 'sourceReviewTags': None, 'reviewTags': None, 'contentTag': None, 'contentTags': None, 'canDownloadImage': None, 'commentsCount': 0, 'originalCountry': None, 'isCrossVenture': False, 'isAutoTranslated': None, 'viewCounts': 0, 'isGoodReview': False, 'categoryId': 10003322, 'imageCount': None, 'videoCount': None, 'followUpReviews': None, 'reviewBenefit': None, 'gradeItems': {'PRODUCT_REVIEW': 5, 'LOGISTICS_REVIEW': 5, 'SELLER_REVIEW': 5}, 'foreignContent': None, 'targetId': 982542751, 'targetType': 'item'}, {'reviewRateId': 427857102642751, 'reviewType': 'PRODUCT_REVIEW', 'tradeOrderId': None, 'boughtDate': '29 thg 7 2024', 'zonedBoughtDate': None, 'reviewStatus': 'approved', 'reviewTitle': None, 'reviewContent': 'Một sản phẩm không thể thiếu trong mỗi căn bếp, Một sản phẩm không thể thiếu trong mỗi căn bếp, Hương vị ngon và thơm lừng,  ', 'reviewContentList': [{'attribute': '', 'content': 'Một sản phẩm không thể thiếu trong mỗi căn bếp, Một sản phẩm không thể thiếu trong mỗi căn bếp, Hương vị ngon và thơm lừng,', 'selected': None}], 'reviewTime': '30 thg 7 2024', 'zonedReviewTime': None, 'imageQCStatus': 'approved', 'images': [{'title': None, 'url': 'https://lzd-u.slatic.net/3083097f6028427da04a3f4963270c50_332b7ae806454d299a0326757d9c29fa.jpg', 'sort': 0, 'uploadTime': None, 'legal': True, 'status': 'approved', 'checkedByPeople': None, 'width': 0, 'height': 0, 'size': 0}], 'videoId': None, 'isVideoReady': None, 'videoCoverUrl': None, 'reviewRateThreadId': None, 'mediaList': [{'reviewRateId': 427857102642751, 'reviewType': 'PRODUCT_REVIEW', 'mediaType': 1, 'coverUrl': 'https://lzd-u.slatic.net/3083097f6028427da04a3f4963270c50_332b7ae806454d299a0326757d9c29fa.jpg', 'videoId': None, 'videoUrl': None, 'width': 0, 'height': 0, 'size': 0}], 'buyerId': 3408993, 'buyerName': 'Hoàng K.', 'buyerEmail': None, 'realBuyerName': None, 'isAnonymous': False, 'source': 'orderDetail', 'clientType': '', 'rating': 5, 'originalRating': None, 'likeCount': 0, 'likeText': None, 'isMeLike': None, 'helpful': True, 'rejected': False, 'rejectionReason': None, 'resubmissionTooltip': None, 'resubmissionMessage': None, 'qcReasonId': None, 'qcDate': None, 'isPurchased': True, 'isGuest': False, 'sellerId': 200164296998, 'sellerName': None, 'isBuyerShowEnabled': True, 'qcScore': None, 'isQced': False, 'itemId': 982542751, 'itemPic': 'https://vn-live.slatic.net/p/395e2723573e82260634890f1ee6a79a.jpg', 'itemTitle': 'Combo 2 Gói Bột Ngọt AJI-NO-MOTO® Hạt Lớn 1kg/Gói', 'itemUrl': 'https://www.lazada.vn/products/combo-2-goi-bot-ngot-aji-no-moto-hat-lon-1kggoi-i982542751-s3110240830.html', 'originPrice': None, 'salesPrice': None, 'promotion': None, 'skuInfo': None, 'tags': None, 'skuId': '3110240830', 'configSku': '982542751_VNAMZ', 'lastReviewer': None, 'isReportable': 0, 'reportStatus': None, 'reportDate': None, 'reportTimes': 0, 'upVotes': 0, 'downVotes': 0, 'isExternal': 0, 'replies': [], 'isSocialCommentsEnabled': True, 'comments': None, 'canEdit': False, 'isAlreadyRevised': None, 'submitInfo': None, 'imageHost': '//vn-live.slatic.net', 'showUploader': True, 'showVideoUploader': True, 'relevanceScore': 80, 'isCompleted': 1, 'avatar': 'https://lh4.googleusercontent.com/-OcckaN2TmpY/AAAAAAAAAAI/AAAAAAAAAAA/APUIFaPdLsJv3wyoH88DcEtmh_3q7r1JDg/s96-c/photo.jpg', 'reviewerType': None, 'replyAuthor': None, 'sourceReviewTags': None, 'reviewTags': None, 'contentTag': None, 'contentTags': None, 'canDownloadImage': None, 'commentsCount': 0, 'originalCountry': None, 'isCrossVenture': False, 'isAutoTranslated': None, 'viewCounts': 0, 'isGoodReview': False, 'categoryId': 10003322, 'imageCount': None, 'videoCount': None, 'followUpReviews': None, 'reviewBenefit': None, 'gradeItems': {'PRODUCT_REVIEW': 5, 'LOGISTICS_REVIEW': 5, 'SELLER_REVIEW': 5}, 'foreignContent': None, 'targetId': 982542751, 'targetType': 'item'}, {'reviewRateId': 427665841642751, 'reviewType': 'PRODUCT_REVIEW', 'tradeOrderId': None, 'boughtDate': '25 thg 7 2024', 'zonedBoughtDate': None, 'reviewStatus': 'approved', 'reviewTitle': None, 'reviewContent': 'Hương vị ngon và thơm lừng, Một sản phẩm không thể thiếu trong mỗi căn bếp, Thành phần an toàn và tự nhiên, Đóng gói tiện lợi với nhiều gói,  ', 'reviewContentList': [{'attribute': '', 'content': 'Hương vị ngon và thơm lừng, Một sản phẩm không thể thiếu trong mỗi căn bếp, Thành phần an toàn và tự nhiên, Đóng gói tiện lợi với nhiều gói,', 'selected': None}], 'reviewTime': '27 thg 7 2024', 'zonedReviewTime': None, 'imageQCStatus': 'approved', 'images': [{'title': None, 'url': 'https://lzd-u.slatic.net/bfdc1383a9c94c4eb36fab0fe7ac3c4c_5e99ec762ce0446982a7278a2ca97bda.jpg', 'sort': 0, 'uploadTime': None, 'legal': True, 'status': 'approved', 'checkedByPeople': None, 'width': 0, 'height': 0, 'size': 0}], 'videoId': None, 'isVideoReady': None, 'videoCoverUrl': None, 'reviewRateThreadId': None, 'mediaList': [{'reviewRateId': 427665841642751, 'reviewType': 'PRODUCT_REVIEW', 'mediaType': 1, 'coverUrl': 'https://lzd-u.slatic.net/bfdc1383a9c94c4eb36fab0fe7ac3c4c_5e99ec762ce0446982a7278a2ca97bda.jpg', 'videoId': None, 'videoUrl': None, 'width': 0, 'height': 0, 'size': 0}], 'buyerId': 200053317882, 'buyerName': 'Bảo A.', 'buyerEmail': None, 'realBuyerName': None, 'isAnonymous': False, 'source': 'orderDetail', 'clientType': '', 'rating': 5, 'originalRating': None, 'likeCount': 0, 'likeText': None, 'isMeLike': None, 'helpful': True, 'rejected': False, 'rejectionReason': None, 'resubmissionTooltip': None, 'resubmissionMessage': None, 'qcReasonId': None, 'qcDate': None, 'isPurchased': True, 'isGuest': False, 'sellerId': 200164296998, 'sellerName': None, 'isBuyerShowEnabled': True, 'qcScore': None, 'isQced': False, 'itemId': 982542751, 'itemPic': 'https://vn-live.slatic.net/p/395e2723573e82260634890f1ee6a79a.jpg', 'itemTitle': 'Combo 2 Gói Bột Ngọt AJI-NO-MOTO® Hạt Lớn 1kg/Gói', 'itemUrl': 'https://www.lazada.vn/products/combo-2-goi-bot-ngot-aji-no-moto-hat-lon-1kggoi-i982542751-s3110240830.html', 'originPrice': None, 'salesPrice': None, 'promotion': None, 'skuInfo': None, 'tags': None, 'skuId': '3110240830', 'configSku': '982542751_VNAMZ', 'lastReviewer': None, 'isReportable': 0, 'reportStatus': None, 'reportDate': None, 'reportTimes': 0, 'upVotes': 0, 'downVotes': 0, 'isExternal': 0, 'replies': [], 'isSocialCommentsEnabled': True, 'comments': None, 'canEdit': False, 'isAlreadyRevised': None, 'submitInfo': None, 'imageHost': '//vn-live.slatic.net', 'showUploader': True, 'showVideoUploader': True, 'relevanceScore': 80, 'isCompleted': 1, 'avatar': 'https://vn-live-02.slatic.net/p/a190fd998fbae70d5188211542f21c75.jpg', 'reviewerType': None, 'replyAuthor': None, 'sourceReviewTags': None, 'reviewTags': None, 'contentTag': None, 'contentTags': None, 'canDownloadImage': None, 'commentsCount': 0, 'originalCountry': None, 'isCrossVenture': False, 'isAutoTranslated': None, 'viewCounts': 0, 'isGoodReview': False, 'categoryId': 10003322, 'imageCount': None, 'videoCount': None, 'followUpReviews': None, 'reviewBenefit': None, 'gradeItems': {'PRODUCT_REVIEW': 5, 'LOGISTICS_REVIEW': 5, 'SELLER_REVIEW': 5}, 'foreignContent': None, 'targetId': 982542751, 'targetType': 'item'}, {'reviewRateId': 427657762742751, 'reviewType': 'PRODUCT_REVIEW', 'tradeOrderId': None, 'boughtDate': '26 thg 7 2024', 'zonedBoughtDate': None, 'reviewStatus': 'approved', 'reviewTitle': None, 'reviewContent': 'Thành phần an toàn và tự nhiên, Thêm sâu sắc và phong phú cho món ăn của bạn, Thành phần an toàn và tự nhiên,  ', 'reviewContentList': [{'attribute': '', 'content': 'Thành phần an toàn và tự nhiên, Thêm sâu sắc và phong phú cho món ăn của bạn, Thành phần an toàn và tự nhiên,', 'selected': None}], 'reviewTime': '01 thg 8 2024', 'zonedReviewTime': None, 'imageQCStatus': 'approved', 'images': [{'title': None, 'url': 'https://lzd-u.slatic.net/b894dedf9fb64767a9064cc2fe44a354_1b84d9bedcfd4830bea4d3aa953952b6.jpg', 'sort': 0, 'uploadTime': None, 'legal': True, 'status': 'approved', 'checkedByPeople': None, 'width': 0, 'height': 0, 'size': 0}], 'videoId': None, 'isVideoReady': None, 'videoCoverUrl': None, 'reviewRateThreadId': None, 'mediaList': [{'reviewRateId': 427657762742751, 'reviewType': 'PRODUCT_REVIEW', 'mediaType': 1, 'coverUrl': 'https://lzd-u.slatic.net/b894dedf9fb64767a9064cc2fe44a354_1b84d9bedcfd4830bea4d3aa953952b6.jpg', 'videoId': None, 'videoUrl': None, 'width': 0, 'height': 0, 'size': 0}], 'buyerId': 200122005719, 'buyerName': 'Hà T.', 'buyerEmail': None, 'realBuyerName': None, 'isAnonymous': False, 'source': 'autopush2', 'clientType': '', 'rating': 5, 'originalRating': None, 'likeCount': 0, 'likeText': None, 'isMeLike': None, 'helpful': True, 'rejected': False, 'rejectionReason': None, 'resubmissionTooltip': None, 'resubmissionMessage': None, 'qcReasonId': None, 'qcDate': None, 'isPurchased': True, 'isGuest': False, 'sellerId': 200164296998, 'sellerName': None, 'isBuyerShowEnabled': True, 'qcScore': None, 'isQced': False, 'itemId': 982542751, 'itemPic': 'https://vn-live.slatic.net/p/395e2723573e82260634890f1ee6a79a.jpg', 'itemTitle': 'Combo 2 Gói Bột Ngọt AJI-NO-MOTO® Hạt Lớn 1kg/Gói', 'itemUrl': 'https://www.lazada.vn/products/combo-2-goi-bot-ngot-aji-no-moto-hat-lon-1kggoi-i982542751-s3110240830.html', 'originPrice': None, 'salesPrice': None, 'promotion': None, 'skuInfo': None, 'tags': None, 'skuId': '3110240830', 'configSku': '982542751_VNAMZ', 'lastReviewer': None, 'isReportable': 0, 'reportStatus': None, 'reportDate': None, 'reportTimes': 0, 'upVotes': 0, 'downVotes': 0, 'isExternal': 0, 'replies': [], 'isSocialCommentsEnabled': True, 'comments': None, 'canEdit': False, 'isAlreadyRevised': None, 'submitInfo': None, 'imageHost': '//vn-live.slatic.net', 'showUploader': True, 'showVideoUploader': True, 'relevanceScore': 80, 'isCompleted': 1, 'avatar': None, 'reviewerType': None, 'replyAuthor': None, 'sourceReviewTags': None, 'reviewTags': None, 'contentTag': None, 'contentTags': None, 'canDownloadImage': None, 'commentsCount': 0, 'originalCountry': None, 'isCrossVenture': False, 'isAutoTranslated': None, 'viewCounts': 0, 'isGoodReview': False, 'categoryId': 10003322, 'imageCount': None, 'videoCount': None, 'followUpReviews': None, 'reviewBenefit': None, 'gradeItems': {'PRODUCT_REVIEW': 5, 'LOGISTICS_REVIEW': 5, 'SELLER_REVIEW': 5}, 'foreignContent': None, 'targetId': 982542751, 'targetType': 'item'}, {'reviewRateId': 427592020742751, 'reviewType': 'PRODUCT_REVIEW', 'tradeOrderId': None, 'boughtDate': '25 thg 7 2024', 'zonedBoughtDate': None, 'reviewStatus': 'approved', 'reviewTitle': None, 'reviewContent': 'Thành phần an toàn và tự nhiên, Hương vị ngon và thơm lừng, Nâng cao hương vị của các công thức món ăn yêu thích của bạn, Nâng cao hương vị của các công thức món ăn yêu thích của bạn,  ', 'reviewContentList': [{'attribute': '', 'content': 'Thành phần an toàn và tự nhiên, Hương vị ngon và thơm lừng, Nâng cao hương vị của các công thức món ăn yêu thích của bạn, Nâng cao hương vị của các công thức món ăn yêu thích của bạn,', 'selected': None}], 'reviewTime': '26 thg 7 2024', 'zonedReviewTime': None, 'imageQCStatus': 'approved', 'images': [{'title': None, 'url': 'https://lzd-u.slatic.net/138f196b7a04434aaefa4299da4fc96b_2815b0d89df945f68881e69d0b943bc1.jpg', 'sort': 0, 'uploadTime': None, 'legal': True, 'status': 'approved', 'checkedByPeople': None, 'width': 0, 'height': 0, 'size': 0}], 'videoId': None, 'isVideoReady': None, 'videoCoverUrl': None, 'reviewRateThreadId': None, 'mediaList': [{'reviewRateId': 427592020742751, 'reviewType': 'PRODUCT_REVIEW', 'mediaType': 1, 'coverUrl': 'https://lzd-u.slatic.net/138f196b7a04434aaefa4299da4fc96b_2815b0d89df945f68881e69d0b943bc1.jpg', 'videoId': None, 'videoUrl': None, 'width': 0, 'height': 0, 'size': 0}], 'buyerId': 3408993, 'buyerName': 'Hoàng K.', 'buyerEmail': None, 'realBuyerName': None, 'isAnonymous': False, 'source': 'orderDetail', 'clientType': '', 'rating': 5, 'originalRating': None, 'likeCount': 0, 'likeText': None, 'isMeLike': None, 'helpful': True, 'rejected': False, 'rejectionReason': None, 'resubmissionTooltip': None, 'resubmissionMessage': None, 'qcReasonId': None, 'qcDate': None, 'isPurchased': True, 'isGuest': False, 'sellerId': 200164296998, 'sellerName': None, 'isBuyerShowEnabled': True, 'qcScore': None, 'isQced': False, 'itemId': 982542751, 'itemPic': 'https://vn-live.slatic.net/p/395e2723573e82260634890f1ee6a79a.jpg', 'itemTitle': 'Combo 2 Gói Bột Ngọt AJI-NO-MOTO® Hạt Lớn 1kg/Gói', 'itemUrl': 'https://www.lazada.vn/products/combo-2-goi-bot-ngot-aji-no-moto-hat-lon-1kggoi-i982542751-s3110240830.html', 'originPrice': None, 'salesPrice': None, 'promotion': None, 'skuInfo': None, 'tags': None, 'skuId': '3110240830', 'configSku': '982542751_VNAMZ', 'lastReviewer': None, 'isReportable': 0, 'reportStatus': None, 'reportDate': None, 'reportTimes': 0, 'upVotes': 0, 'downVotes': 0, 'isExternal': 0, 'replies': [], 'isSocialCommentsEnabled': True, 'comments': None, 'canEdit': False, 'isAlreadyRevised': None, 'submitInfo': None, 'imageHost': '//vn-live.slatic.net', 'showUploader': True, 'showVideoUploader': True, 'relevanceScore': 80, 'isCompleted': 1, 'avatar': 'https://lh4.googleusercontent.com/-OcckaN2TmpY/AAAAAAAAAAI/AAAAAAAAAAA/APUIFaPdLsJv3wyoH88DcEtmh_3q7r1JDg/s96-c/photo.jpg', 'reviewerType': None, 'replyAuthor': None, 'sourceReviewTags': None, 'reviewTags': None, 'contentTag': None, 'contentTags': None, 'canDownloadImage': None, 'commentsCount': 0, 'originalCountry': None, 'isCrossVenture': False, 'isAutoTranslated': None, 'viewCounts': 0, 'isGoodReview': False, 'categoryId': 10003322, 'imageCount': None, 'videoCount': None, 'followUpReviews': None, 'reviewBenefit': None, 'gradeItems': {'PRODUCT_REVIEW': 5, 'LOGISTICS_REVIEW': 5, 'SELLER_REVIEW': 5}, 'foreignContent': None, 'targetId': 982542751, 'targetType': 'item'}, {'reviewRateId': 427055598442751, 'reviewType': 'PRODUCT_REVIEW', 'tradeOrderId': None, 'boughtDate': '17 thg 7 2024', 'zonedBoughtDate': None, 'reviewStatus': 'approved', 'reviewTitle': None, 'reviewContent': 'Nâng cao hương vị của các công thức món ăn yêu thích của bạn, Gia vị linh hoạt cho mọi loại ẩm thực, Nâng cao hương vị của các công thức món ăn yêu thích của bạn,  ', 'reviewContentList': [{'attribute': '', 'content': 'Nâng cao hương vị của các công thức món ăn yêu thích của bạn, Gia vị linh hoạt cho mọi loại ẩm thực, Nâng cao hương vị của các công thức món ăn yêu thích của bạn,', 'selected': None}], 'reviewTime': '23 thg 7 2024', 'zonedReviewTime': None, 'imageQCStatus': 'approved', 'images': [{'title': None, 'url': 'https://lzd-u.slatic.net/e934123f41b84e91abda829af59fd258_3_1721669100.145725.jpg', 'sort': 0, 'uploadTime': None, 'legal': True, 'status': 'approved', 'checkedByPeople': None, 'width': 0, 'height': 0, 'size': 0}], 'videoId': None, 'isVideoReady': None, 'videoCoverUrl': None, 'reviewRateThreadId': None, 'mediaList': [{'reviewRateId': 427055598442751, 'reviewType': 'PRODUCT_REVIEW', 'mediaType': 1, 'coverUrl': 'https://lzd-u.slatic.net/e934123f41b84e91abda829af59fd258_3_1721669100.145725.jpg', 'videoId': None, 'videoUrl': None, 'width': 0, 'height': 0, 'size': 0}], 'buyerId': 200614272094, 'buyerName': '9***8', 'buyerEmail': None, 'realBuyerName': None, 'isAnonymous': True, 'source': 'myreview', 'clientType': '', 'rating': 5, 'originalRating': None, 'likeCount': 0, 'likeText': None, 'isMeLike': None, 'helpful': True, 'rejected': False, 'rejectionReason': None, 'resubmissionTooltip': None, 'resubmissionMessage': None, 'qcReasonId': None, 'qcDate': None, 'isPurchased': True, 'isGuest': False, 'sellerId': 200164296998, 'sellerName': None, 'isBuyerShowEnabled': True, 'qcScore': None, 'isQced': False, 'itemId': 982542751, 'itemPic': 'https://vn-live.slatic.net/p/395e2723573e82260634890f1ee6a79a.jpg', 'itemTitle': 'Combo 2 Gói Bột Ngọt AJI-NO-MOTO® Hạt Lớn 1kg/Gói', 'itemUrl': 'https://www.lazada.vn/products/combo-2-goi-bot-ngot-aji-no-moto-hat-lon-1kggoi-i982542751-s3110240830.html', 'originPrice': None, 'salesPrice': None, 'promotion': None, 'skuInfo': None, 'tags': None, 'skuId': '3110240830', 'configSku': '982542751_VNAMZ', 'lastReviewer': None, 'isReportable': 0, 'reportStatus': None, 'reportDate': None, 'reportTimes': 0, 'upVotes': 0, 'downVotes': 0, 'isExternal': 0, 'replies': [], 'isSocialCommentsEnabled': True, 'comments': None, 'canEdit': False, 'isAlreadyRevised': None, 'submitInfo': None, 'imageHost': '//vn-live.slatic.net', 'showUploader': True, 'showVideoUploader': True, 'relevanceScore': 80, 'isCompleted': 1, 'avatar': None, 'reviewerType': None, 'replyAuthor': None, 'sourceReviewTags': None, 'reviewTags': None, 'contentTag': None, 'contentTags': None, 'canDownloadImage': None, 'commentsCount': 0, 'originalCountry': None, 'isCrossVenture': False, 'isAutoTranslated': None, 'viewCounts': 0, 'isGoodReview': False, 'categoryId': 10003322, 'imageCount': None, 'videoCount': None, 'followUpReviews': None, 'reviewBenefit': None, 'gradeItems': {'PRODUCT_REVIEW': 5, 'LOGISTICS_REVIEW': 5, 'SELLER_REVIEW': 5}, 'foreignContent': None, 'targetId': 982542751, 'targetType': 'item'}, {'reviewRateId': 426926517742751, 'reviewType': 'PRODUCT_REVIEW', 'tradeOrderId': None, 'boughtDate': '17 thg 7 2024', 'zonedBoughtDate': None, 'reviewStatus': 'approved', 'reviewTitle': None, 'reviewContent': 'Thêm sâu sắc và phong phú cho món ăn của bạn, Nâng cao hương vị của các công thức món ăn yêu thích của bạn,  ', 'reviewContentList': [{'attribute': '', 'content': 'Thêm sâu sắc và phong phú cho món ăn của bạn, Nâng cao hương vị của các công thức món ăn yêu thích của bạn,', 'selected': None}], 'reviewTime': '18 thg 7 2024', 'zonedReviewTime': None, 'imageQCStatus': 'approved', 'images': [{'title': None, 'url': 'https://lzd-u.slatic.net/79a3b1b111c64c05a701c2d3fe612011_aabf3c8a6dcc4c39b66f2a0701c1fba0.jpg', 'sort': 0, 'uploadTime': None, 'legal': True, 'status': 'approved', 'checkedByPeople': None, 'width': 0, 'height': 0, 'size': 0}], 'videoId': None, 'isVideoReady': None, 'videoCoverUrl': None, 'reviewRateThreadId': None, 'mediaList': [{'reviewRateId': 426926517742751, 'reviewType': 'PRODUCT_REVIEW', 'mediaType': 1, 'coverUrl': 'https://lzd-u.slatic.net/79a3b1b111c64c05a701c2d3fe612011_aabf3c8a6dcc4c39b66f2a0701c1fba0.jpg', 'videoId': None, 'videoUrl': None, 'width': 0, 'height': 0, 'size': 0}], 'buyerId': 200041758853, 'buyerName': 'Kimhoa N.', 'buyerEmail': None, 'realBuyerName': None, 'isAnonymous': False, 'source': 'orderList_to_receive', 'clientType': '', 'rating': 5, 'originalRating': None, 'likeCount': 0, 'likeText': None, 'isMeLike': None, 'helpful': True, 'rejected': False, 'rejectionReason': None, 'resubmissionTooltip': None, 'resubmissionMessage': None, 'qcReasonId': None, 'qcDate': None, 'isPurchased': True, 'isGuest': False, 'sellerId': 200164296998, 'sellerName': None, 'isBuyerShowEnabled': True, 'qcScore': None, 'isQced': False, 'itemId': 982542751, 'itemPic': 'https://vn-live.slatic.net/p/395e2723573e82260634890f1ee6a79a.jpg', 'itemTitle': 'Combo 2 Gói Bột Ngọt AJI-NO-MOTO® Hạt Lớn 1kg/Gói', 'itemUrl': 'https://www.lazada.vn/products/combo-2-goi-bot-ngot-aji-no-moto-hat-lon-1kggoi-i982542751-s3110240830.html', 'originPrice': None, 'salesPrice': None, 'promotion': None, 'skuInfo': None, 'tags': None, 'skuId': '3110240830', 'configSku': '982542751_VNAMZ', 'lastReviewer': None, 'isReportable': 0, 'reportStatus': None, 'reportDate': None, 'reportTimes': 0, 'upVotes': 0, 'downVotes': 0, 'isExternal': 0, 'replies': [], 'isSocialCommentsEnabled': True, 'comments': None, 'canEdit': False, 'isAlreadyRevised': None, 'submitInfo': None, 'imageHost': '//vn-live.slatic.net', 'showUploader': True, 'showVideoUploader': True, 'relevanceScore': 80, 'isCompleted': 1, 'avatar': 'https://lh4.googleusercontent.com/-9biFAJ0XvQ4/AAAAAAAAAAI/AAAAAAAAAAA/ACHi3reawgeIePk5qyNapAi77uGDEE5hcQ/s96-c/photo.jpg', 'reviewerType': None, 'replyAuthor': None, 'sourceReviewTags': None, 'reviewTags': None, 'contentTag': None, 'contentTags': None, 'canDownloadImage': None, 'commentsCount': 0, 'originalCountry': None, 'isCrossVenture': False, 'isAutoTranslated': None, 'viewCounts': 0, 'isGoodReview': False, 'categoryId': 10003322, 'imageCount': None, 'videoCount': None, 'followUpReviews': None, 'reviewBenefit': None, 'gradeItems': {'PRODUCT_REVIEW': 5, 'LOGISTICS_REVIEW': 5, 'SELLER_REVIEW': 5}, 'foreignContent': None, 'targetId': 982542751, 'targetType': 'item'}, {'reviewRateId': 426926224742751, 'reviewType': 'PRODUCT_REVIEW', 'tradeOrderId': None, 'boughtDate': '17 thg 7 2024', 'zonedBoughtDate': None, 'reviewStatus': 'approved', 'reviewTitle': None, 'reviewContent': 'Lý tưởng cho những người quan tâm đến sức khỏe, Thêm sâu sắc và phong phú cho món ăn của bạn, Thêm sâu sắc và phong phú cho món ăn của bạn,  ', 'reviewContentList': [{'attribute': '', 'content': 'Lý tưởng cho những người quan tâm đến sức khỏe, Thêm sâu sắc và phong phú cho món ăn của bạn, Thêm sâu sắc và phong phú cho món ăn của bạn,', 'selected': None}], 'reviewTime': '18 thg 7 2024', 'zonedReviewTime': None, 'imageQCStatus': 'approved', 'images': [{'title': None, 'url': 'https://lzd-u.slatic.net/3fefc2f0d3194b079c1aa026bda4bba7_3bf971daf8594755ae4577d531a1faa4.jpg', 'sort': 0, 'uploadTime': None, 'legal': True, 'status': 'approved', 'checkedByPeople': None, 'width': 0, 'height': 0, 'size': 0}], 'videoId': None, 'isVideoReady': None, 'videoCoverUrl': None, 'reviewRateThreadId': None, 'mediaList': [{'reviewRateId': 426926224742751, 'reviewType': 'PRODUCT_REVIEW', 'mediaType': 1, 'coverUrl': 'https://lzd-u.slatic.net/3fefc2f0d3194b079c1aa026bda4bba7_3bf971daf8594755ae4577d531a1faa4.jpg', 'videoId': None, 'videoUrl': None, 'width': 0, 'height': 0, 'size': 0}], 'buyerId': 3408993, 'buyerName': 'Hoàng K.', 'buyerEmail': None, 'realBuyerName': None, 'isAnonymous': False, 'source': 'orderList_to_receive', 'clientType': '', 'rating': 5, 'originalRating': None, 'likeCount': 0, 'likeText': None, 'isMeLike': None, 'helpful': True, 'rejected': False, 'rejectionReason': None, 'resubmissionTooltip': None, 'resubmissionMessage': None, 'qcReasonId': None, 'qcDate': None, 'isPurchased': True, 'isGuest': False, 'sellerId': 200164296998, 'sellerName': None, 'isBuyerShowEnabled': True, 'qcScore': None, 'isQced': False, 'itemId': 982542751, 'itemPic': 'https://vn-live.slatic.net/p/395e2723573e82260634890f1ee6a79a.jpg', 'itemTitle': 'Combo 2 Gói Bột Ngọt AJI-NO-MOTO® Hạt Lớn 1kg/Gói', 'itemUrl': 'https://www.lazada.vn/products/combo-2-goi-bot-ngot-aji-no-moto-hat-lon-1kggoi-i982542751-s3110240830.html', 'originPrice': None, 'salesPrice': None, 'promotion': None, 'skuInfo': None, 'tags': None, 'skuId': '3110240830', 'configSku': '982542751_VNAMZ', 'lastReviewer': None, 'isReportable': 0, 'reportStatus': None, 'reportDate': None, 'reportTimes': 0, 'upVotes': 0, 'downVotes': 0, 'isExternal': 0, 'replies': [], 'isSocialCommentsEnabled': True, 'comments': None, 'canEdit': False, 'isAlreadyRevised': None, 'submitInfo': None, 'imageHost': '//vn-live.slatic.net', 'showUploader': True, 'showVideoUploader': True, 'relevanceScore': 80, 'isCompleted': 1, 'avatar': 'https://lh4.googleusercontent.com/-OcckaN2TmpY/AAAAAAAAAAI/AAAAAAAAAAA/APUIFaPdLsJv3wyoH88DcEtmh_3q7r1JDg/s96-c/photo.jpg', 'reviewerType': None, 'replyAuthor': None, 'sourceReviewTags': None, 'reviewTags': None, 'contentTag': None, 'contentTags': None, 'canDownloadImage': None, 'commentsCount': 0, 'originalCountry': None, 'isCrossVenture': False, 'isAutoTranslated': None, 'viewCounts': 0, 'isGoodReview': False, 'categoryId': 10003322, 'imageCount': None, 'videoCount': None, 'followUpReviews': None, 'reviewBenefit': None, 'gradeItems': {'PRODUCT_REVIEW': 5, 'LOGISTICS_REVIEW': 5, 'SELLER_REVIEW': 5}, 'foreignContent': None, 'targetId': 982542751, 'targetType': 'item'}, {'reviewRateId': 426926222342751, 'reviewType': 'PRODUCT_REVIEW', 'tradeOrderId': None, 'boughtDate': '17 thg 7 2024', 'zonedBoughtDate': None, 'reviewStatus': 'approved', 'reviewTitle': None, 'reviewContent': 'Nâng cao hương vị của các công thức món ăn yêu thích của bạn, Nâng cao hương vị của các công thức món ăn yêu thích của bạn, Một sản phẩm không thể thiếu trong mỗi căn bếp,  ', 'reviewContentList': [{'attribute': '', 'content': 'Nâng cao hương vị của các công thức món ăn yêu thích của bạn, Nâng cao hương vị của các công thức món ăn yêu thích của bạn, Một sản phẩm không thể thiếu trong mỗi căn bếp,', 'selected': None}], 'reviewTime': '18 thg 7 2024', 'zonedReviewTime': None, 'imageQCStatus': 'approved', 'images': [{'title': None, 'url': 'https://lzd-u.slatic.net/72e96ca73b4b49c1b9379a661025fa68_1f7956a90573437db98fc32e77109057.jpg', 'sort': 0, 'uploadTime': None, 'legal': True, 'status': 'approved', 'checkedByPeople': None, 'width': 0, 'height': 0, 'size': 0}], 'videoId': None, 'isVideoReady': None, 'videoCoverUrl': None, 'reviewRateThreadId': None, 'mediaList': [{'reviewRateId': 426926222342751, 'reviewType': 'PRODUCT_REVIEW', 'mediaType': 1, 'coverUrl': 'https://lzd-u.slatic.net/72e96ca73b4b49c1b9379a661025fa68_1f7956a90573437db98fc32e77109057.jpg', 'videoId': None, 'videoUrl': None, 'width': 0, 'height': 0, 'size': 0}], 'buyerId': 200053317882, 'buyerName': 'Bảo A.', 'buyerEmail': None, 'realBuyerName': None, 'isAnonymous': False, 'source': 'orderDetail', 'clientType': '', 'rating': 5, 'originalRating': None, 'likeCount': 0, 'likeText': None, 'isMeLike': None, 'helpful': True, 'rejected': False, 'rejectionReason': None, 'resubmissionTooltip': None, 'resubmissionMessage': None, 'qcReasonId': None, 'qcDate': None, 'isPurchased': True, 'isGuest': False, 'sellerId': 200164296998, 'sellerName': None, 'isBuyerShowEnabled': True, 'qcScore': None, 'isQced': False, 'itemId': 982542751, 'itemPic': 'https://vn-live.slatic.net/p/395e2723573e82260634890f1ee6a79a.jpg', 'itemTitle': 'Combo 2 Gói Bột Ngọt AJI-NO-MOTO® Hạt Lớn 1kg/Gói', 'itemUrl': 'https://www.lazada.vn/products/combo-2-goi-bot-ngot-aji-no-moto-hat-lon-1kggoi-i982542751-s3110240830.html', 'originPrice': None, 'salesPrice': None, 'promotion': None, 'skuInfo': None, 'tags': None, 'skuId': '3110240830', 'configSku': '982542751_VNAMZ', 'lastReviewer': None, 'isReportable': 0, 'reportStatus': None, 'reportDate': None, 'reportTimes': 0, 'upVotes': 0, 'downVotes': 0, 'isExternal': 0, 'replies': [], 'isSocialCommentsEnabled': True, 'comments': None, 'canEdit': False, 'isAlreadyRevised': None, 'submitInfo': None, 'imageHost': '//vn-live.slatic.net', 'showUploader': True, 'showVideoUploader': True, 'relevanceScore': 80, 'isCompleted': 1, 'avatar': 'https://vn-live-02.slatic.net/p/a190fd998fbae70d5188211542f21c75.jpg', 'reviewerType': None, 'replyAuthor': None, 'sourceReviewTags': None, 'reviewTags': None, 'contentTag': None, 'contentTags': None, 'canDownloadImage': None, 'commentsCount': 0, 'originalCountry': None, 'isCrossVenture': False, 'isAutoTranslated': None, 'viewCounts': 0, 'isGoodReview': False, 'categoryId': 10003322, 'imageCount': None, 'videoCount': None, 'followUpReviews': None, 'reviewBenefit': None, 'gradeItems': {'PRODUCT_REVIEW': 5, 'LOGISTICS_REVIEW': 5, 'SELLER_REVIEW': 5}, 'foreignContent': None, 'targetId': 982542751, 'targetType': 'item'}, {'reviewRateId': 426569638842751, 'reviewType': 'PRODUCT_REVIEW', 'tradeOrderId': None, 'boughtDate': '16 thg 7 2024', 'zonedBoughtDate': None, 'reviewStatus': 'approved', 'reviewTitle': None, 'reviewContent': 'Đóng gói tiện lợi với nhiều gói, Lý tưởng cho những người quan tâm đến sức khỏe, Thành phần an toàn và tự nhiên, Hương vị ngon và thơm lừng,  ', 'reviewContentList': [{'attribute': '', 'content': 'Đóng gói tiện lợi với nhiều gói, Lý tưởng cho những người quan tâm đến sức khỏe, Thành phần an toàn và tự nhiên, Hương vị ngon và thơm lừng,', 'selected': None}], 'reviewTime': '17 thg 7 2024', 'zonedReviewTime': None, 'imageQCStatus': 'approved', 'images': [{'title': None, 'url': 'https://lzd-u.slatic.net/da785306e5d140b59b9f3aa6b4ccfc3d_f8b709e45a424e3797f246452d58e018.jpg', 'sort': 0, 'uploadTime': None, 'legal': True, 'status': 'approved', 'checkedByPeople': None, 'width': 0, 'height': 0, 'size': 0}], 'videoId': None, 'isVideoReady': None, 'videoCoverUrl': None, 'reviewRateThreadId': None, 'mediaList': [{'reviewRateId': 426569638842751, 'reviewType': 'PRODUCT_REVIEW', 'mediaType': 1, 'coverUrl': 'https://lzd-u.slatic.net/da785306e5d140b59b9f3aa6b4ccfc3d_f8b709e45a424e3797f246452d58e018.jpg', 'videoId': None, 'videoUrl': None, 'width': 0, 'height': 0, 'size': 0}], 'buyerId': 200053317882, 'buyerName': 'Bảo A.', 'buyerEmail': None, 'realBuyerName': None, 'isAnonymous': False, 'source': 'write_review_next_review', 'clientType': '', 'rating': 5, 'originalRating': None, 'likeCount': 0, 'likeText': None, 'isMeLike': None, 'helpful': True, 'rejected': False, 'rejectionReason': None, 'resubmissionTooltip': None, 'resubmissionMessage': None, 'qcReasonId': None, 'qcDate': None, 'isPurchased': True, 'isGuest': False, 'sellerId': 200164296998, 'sellerName': None, 'isBuyerShowEnabled': True, 'qcScore': None, 'isQced': False, 'itemId': 982542751, 'itemPic': 'https://vn-live.slatic.net/p/395e2723573e82260634890f1ee6a79a.jpg', 'itemTitle': 'Combo 2 Gói Bột Ngọt AJI-NO-MOTO® Hạt Lớn 1kg/Gói', 'itemUrl': 'https://www.lazada.vn/products/combo-2-goi-bot-ngot-aji-no-moto-hat-lon-1kggoi-i982542751-s3110240830.html', 'originPrice': None, 'salesPrice': None, 'promotion': None, 'skuInfo': None, 'tags': None, 'skuId': '3110240830', 'configSku': '982542751_VNAMZ', 'lastReviewer': None, 'isReportable': 0, 'reportStatus': None, 'reportDate': None, 'reportTimes': 0, 'upVotes': 0, 'downVotes': 0, 'isExternal': 0, 'replies': [], 'isSocialCommentsEnabled': True, 'comments': None, 'canEdit': False, 'isAlreadyRevised': None, 'submitInfo': None, 'imageHost': '//vn-live.slatic.net', 'showUploader': True, 'showVideoUploader': True, 'relevanceScore': 80, 'isCompleted': 1, 'avatar': 'https://vn-live-02.slatic.net/p/a190fd998fbae70d5188211542f21c75.jpg', 'reviewerType': None, 'replyAuthor': None, 'sourceReviewTags': None, 'reviewTags': None, 'contentTag': None, 'contentTags': None, 'canDownloadImage': None, 'commentsCount': 0, 'originalCountry': None, 'isCrossVenture': False, 'isAutoTranslated': None, 'viewCounts': 0, 'isGoodReview': False, 'categoryId': 10003322, 'imageCount': None, 'videoCount': None, 'followUpReviews': None, 'reviewBenefit': None, 'gradeItems': {'PRODUCT_REVIEW': 5, 'LOGISTICS_REVIEW': 5, 'SELLER_REVIEW': 5}, 'foreignContent': None, 'targetId': 982542751, 'targetType': 'item'}, {'reviewRateId': 426569237742751, 'reviewType': 'PRODUCT_REVIEW', 'tradeOrderId': None, 'boughtDate': '16 thg 7 2024', 'zonedBoughtDate': None, 'reviewStatus': 'approved', 'reviewTitle': None, 'reviewContent': 'Nâng cao kỹ năng nấu nướng của bạn lên một tầm cao mới, Thành phần an toàn và tự nhiên, Gia vị linh hoạt cho mọi loại ẩm thực,  ', 'reviewContentList': [{'attribute': '', 'content': 'Nâng cao kỹ năng nấu nướng của bạn lên một tầm cao mới, Thành phần an toàn và tự nhiên, Gia vị linh hoạt cho mọi loại ẩm thực,', 'selected': None}], 'reviewTime': '19 thg 7 2024', 'zonedReviewTime': None, 'imageQCStatus': 'approved', 'images': [{'title': None, 'url': 'https://lzd-u.slatic.net/c0da64834b6d41cbbb116cef37a70506_23a7a75ad537434fbcd2e60520355345.jpg', 'sort': 0, 'uploadTime': None, 'legal': True, 'status': 'approved', 'checkedByPeople': None, 'width': 0, 'height': 0, 'size': 0}], 'videoId': None, 'isVideoReady': None, 'videoCoverUrl': None, 'reviewRateThreadId': None, 'mediaList': [{'reviewRateId': 426569237742751, 'reviewType': 'PRODUCT_REVIEW', 'mediaType': 1, 'coverUrl': 'https://lzd-u.slatic.net/c0da64834b6d41cbbb116cef37a70506_23a7a75ad537434fbcd2e60520355345.jpg', 'videoId': None, 'videoUrl': None, 'width': 0, 'height': 0, 'size': 0}], 'buyerId': 200050248773, 'buyerName': 'Hoa K.', 'buyerEmail': None, 'realBuyerName': None, 'isAnonymous': False, 'source': 'orderDetail', 'clientType': '', 'rating': 5, 'originalRating': None, 'likeCount': 0, 'likeText': None, 'isMeLike': None, 'helpful': True, 'rejected': False, 'rejectionReason': None, 'resubmissionTooltip': None, 'resubmissionMessage': None, 'qcReasonId': None, 'qcDate': None, 'isPurchased': True, 'isGuest': False, 'sellerId': 200164296998, 'sellerName': None, 'isBuyerShowEnabled': True, 'qcScore': None, 'isQced': False, 'itemId': 982542751, 'itemPic': 'https://vn-live.slatic.net/p/395e2723573e82260634890f1ee6a79a.jpg', 'itemTitle': 'Combo 2 Gói Bột Ngọt AJI-NO-MOTO® Hạt Lớn 1kg/Gói', 'itemUrl': 'https://www.lazada.vn/products/combo-2-goi-bot-ngot-aji-no-moto-hat-lon-1kggoi-i982542751-s3110240830.html', 'originPrice': None, 'salesPrice': None, 'promotion': None, 'skuInfo': None, 'tags': None, 'skuId': '3110240830', 'configSku': '982542751_VNAMZ', 'lastReviewer': None, 'isReportable': 0, 'reportStatus': None, 'reportDate': None, 'reportTimes': 0, 'upVotes': 0, 'downVotes': 0, 'isExternal': 0, 'replies': [], 'isSocialCommentsEnabled': True, 'comments': None, 'canEdit': False, 'isAlreadyRevised': None, 'submitInfo': None, 'imageHost': '//vn-live.slatic.net', 'showUploader': True, 'showVideoUploader': True, 'relevanceScore': 80, 'isCompleted': 1, 'avatar': 'https://lh6.googleusercontent.com/-lyrt8Z3tD3o/AAAAAAAAAAI/AAAAAAAAAAA/ACHi3rcUijkkPwoW8zWUUsj6c3SXhLElbQ/s96-c/photo.jpg', 'reviewerType': None, 'replyAuthor': None, 'sourceReviewTags': None, 'reviewTags': None, 'contentTag': None, 'contentTags': None, 'canDownloadImage': None, 'commentsCount': 0, 'originalCountry': None, 'isCrossVenture': False, 'isAutoTranslated': None, 'viewCounts': 0, 'isGoodReview': False, 'categoryId': 10003322, 'imageCount': None, 'videoCount': None, 'followUpReviews': None, 'reviewBenefit': None, 'gradeItems': {'PRODUCT_REVIEW': 5, 'LOGISTICS_REVIEW': 5, 'SELLER_REVIEW': 5}, 'foreignContent': None, 'targetId': 982542751, 'targetType': 'item'}, {'reviewRateId': 426463301342751, 'reviewType': 'PRODUCT_REVIEW', 'tradeOrderId': None, 'boughtDate': '15 thg 7 2024', 'zonedBoughtDate': None, 'reviewStatus': 'approved', 'reviewTitle': None, 'reviewContent': 'Nâng cao hương vị của các công thức món ăn yêu thích của bạn, Lý tưởng cho những người quan tâm đến sức khỏe, Lý tưởng cho những người quan tâm đến sức khỏe, Lý tưởng cho những người quan tâm đến sức khỏe,  ', 'reviewContentList': [{'attribute': '', 'content': 'Nâng cao hương vị của các công thức món ăn yêu thích của bạn, Lý tưởng cho những người quan tâm đến sức khỏe, Lý tưởng cho những người quan tâm đến sức khỏe, Lý tưởng cho những người quan tâm đến sức khỏe,', 'selected': None}], 'reviewTime': '16 thg 7 2024', 'zonedReviewTime': None, 'imageQCStatus': 'approved', 'images': [{'title': None, 'url': 'https://lzd-u.slatic.net/c9767edda6ea4794a7fa71940ce62394_2f013aa8536b4dc3825089dfe1bc2ff1.jpg', 'sort': 0, 'uploadTime': None, 'legal': True, 'status': 'approved', 'checkedByPeople': None, 'width': 0, 'height': 0, 'size': 0}], 'videoId': None, 'isVideoReady': None, 'videoCoverUrl': None, 'reviewRateThreadId': None, 'mediaList': [{'reviewRateId': 426463301342751, 'reviewType': 'PRODUCT_REVIEW', 'mediaType': 1, 'coverUrl': 'https://lzd-u.slatic.net/c9767edda6ea4794a7fa71940ce62394_2f013aa8536b4dc3825089dfe1bc2ff1.jpg', 'videoId': None, 'videoUrl': None, 'width': 0, 'height': 0, 'size': 0}], 'buyerId': 3408993, 'buyerName': 'Hoàng K.', 'buyerEmail': None, 'realBuyerName': None, 'isAnonymous': False, 'source': 'write_review_next_review', 'clientType': '', 'rating': 5, 'originalRating': None, 'likeCount': 0, 'likeText': None, 'isMeLike': None, 'helpful': True, 'rejected': False, 'rejectionReason': None, 'resubmissionTooltip': None, 'resubmissionMessage': None, 'qcReasonId': None, 'qcDate': None, 'isPurchased': True, 'isGuest': False, 'sellerId': 200164296998, 'sellerName': None, 'isBuyerShowEnabled': True, 'qcScore': None, 'isQced': False, 'itemId': 982542751, 'itemPic': 'https://vn-live.slatic.net/p/395e2723573e82260634890f1ee6a79a.jpg', 'itemTitle': 'Combo 2 Gói Bột Ngọt AJI-NO-MOTO® Hạt Lớn 1kg/Gói', 'itemUrl': 'https://www.lazada.vn/products/combo-2-goi-bot-ngot-aji-no-moto-hat-lon-1kggoi-i982542751-s3110240830.html', 'originPrice': None, 'salesPrice': None, 'promotion': None, 'skuInfo': None, 'tags': None, 'skuId': '3110240830', 'configSku': '982542751_VNAMZ', 'lastReviewer': None, 'isReportable': 0, 'reportStatus': None, 'reportDate': None, 'reportTimes': 0, 'upVotes': 0, 'downVotes': 0, 'isExternal': 0, 'replies': [], 'isSocialCommentsEnabled': True, 'comments': None, 'canEdit': False, 'isAlreadyRevised': None, 'submitInfo': None, 'imageHost': '//vn-live.slatic.net', 'showUploader': True, 'showVideoUploader': True, 'relevanceScore': 80, 'isCompleted': 1, 'avatar': 'https://lh4.googleusercontent.com/-OcckaN2TmpY/AAAAAAAAAAI/AAAAAAAAAAA/APUIFaPdLsJv3wyoH88DcEtmh_3q7r1JDg/s96-c/photo.jpg', 'reviewerType': None, 'replyAuthor': None, 'sourceReviewTags': None, 'reviewTags': None, 'contentTag': None, 'contentTags': None, 'canDownloadImage': None, 'commentsCount': 0, 'originalCountry': None, 'isCrossVenture': False, 'isAutoTranslated': None, 'viewCounts': 0, 'isGoodReview': False, 'categoryId': 10003322, 'imageCount': None, 'videoCount': None, 'followUpReviews': None, 'reviewBenefit': None, 'gradeItems': {'PRODUCT_REVIEW': 5, 'LOGISTICS_REVIEW': 5, 'SELLER_REVIEW': 5}, 'foreignContent': None, 'targetId': 982542751, 'targetType': 'item'}, {'reviewRateId': 426113027342751, 'reviewType': 'PRODUCT_REVIEW', 'tradeOrderId': None, 'boughtDate': '09 thg 7 2024', 'zonedBoughtDate': None, 'reviewStatus': 'approved', 'reviewTitle': None, 'reviewContent': 'Nâng cao hương vị của các công thức món ăn yêu thích của bạn, Thêm sâu sắc và phong phú cho món ăn của bạn, Thêm sâu sắc và phong phú cho món ăn của bạn, Thêm sâu sắc và phong phú cho món ăn của bạn, Thêm sâu sắc và phong phú cho món ăn của bạn,  ', 'reviewContentList': [{'attribute': '', 'content': 'Nâng cao hương vị của các công thức món ăn yêu thích của bạn, Thêm sâu sắc và phong phú cho món ăn của bạn, Thêm sâu sắc và phong phú cho món ăn của bạn, Thêm sâu sắc và phong phú cho món ăn của bạn, Thêm sâu sắc và phong phú cho món ăn của bạn,', 'selected': None}], 'reviewTime': '13 thg 7 2024', 'zonedReviewTime': None, 'imageQCStatus': 'approved', 'images': [{'title': None, 'url': 'https://lzd-u.slatic.net/b6d037b8b58943d883eb57f578c5ed77_09acc40ae8b94aca906522f638983b2f.jpg', 'sort': 0, 'uploadTime': None, 'legal': True, 'status': 'approved', 'checkedByPeople': None, 'width': 0, 'height': 0, 'size': 0}], 'videoId': None, 'isVideoReady': None, 'videoCoverUrl': None, 'reviewRateThreadId': None, 'mediaList': [{'reviewRateId': 426113027342751, 'reviewType': 'PRODUCT_REVIEW', 'mediaType': 1, 'coverUrl': 'https://lzd-u.slatic.net/b6d037b8b58943d883eb57f578c5ed77_09acc40ae8b94aca906522f638983b2f.jpg', 'videoId': None, 'videoUrl': None, 'width': 0, 'height': 0, 'size': 0}], 'buyerId': 210178980828, 'buyerName': 'Tuyền N.', 'buyerEmail': None, 'realBuyerName': None, 'isAnonymous': False, 'source': 'write_review_next_review', 'clientType': '', 'rating': 5, 'originalRating': None, 'likeCount': 0, 'likeText': None, 'isMeLike': None, 'helpful': True, 'rejected': False, 'rejectionReason': None, 'resubmissionTooltip': None, 'resubmissionMessage': None, 'qcReasonId': None, 'qcDate': None, 'isPurchased': True, 'isGuest': False, 'sellerId': 200164296998, 'sellerName': None, 'isBuyerShowEnabled': True, 'qcScore': None, 'isQced': False, 'itemId': 982542751, 'itemPic': 'https://vn-live.slatic.net/p/395e2723573e82260634890f1ee6a79a.jpg', 'itemTitle': 'Combo 2 Gói Bột Ngọt AJI-NO-MOTO® Hạt Lớn 1kg/Gói', 'itemUrl': 'https://www.lazada.vn/products/combo-2-goi-bot-ngot-aji-no-moto-hat-lon-1kggoi-i982542751-s3110240830.html', 'originPrice': None, 'salesPrice': None, 'promotion': None, 'skuInfo': None, 'tags': None, 'skuId': '3110240830', 'configSku': '982542751_VNAMZ', 'lastReviewer': None, 'isReportable': 0, 'reportStatus': None, 'reportDate': None, 'reportTimes': 0, 'upVotes': 0, 'downVotes': 0, 'isExternal': 0, 'replies': [], 'isSocialCommentsEnabled': True, 'comments': None, 'canEdit': False, 'isAlreadyRevised': None, 'submitInfo': None, 'imageHost': '//vn-live.slatic.net', 'showUploader': True, 'showVideoUploader': True, 'relevanceScore': 80, 'isCompleted': 1, 'avatar': 'https://graph.facebook.com/671822747528577/picture', 'reviewerType': None, 'replyAuthor': None, 'sourceReviewTags': None, 'reviewTags': None, 'contentTag': None, 'contentTags': None, 'canDownloadImage': None, 'commentsCount': 0, 'originalCountry': None, 'isCrossVenture': False, 'isAutoTranslated': None, 'viewCounts': 0, 'isGoodReview': False, 'categoryId': 10003322, 'imageCount': None, 'videoCount': None, 'followUpReviews': None, 'reviewBenefit': None, 'gradeItems': {'PRODUCT_REVIEW': 5, 'LOGISTICS_REVIEW': 5, 'SELLER_REVIEW': 5}, 'foreignContent': None, 'targetId': 982542751, 'targetType': 'item'}, {'reviewRateId': 426112130642751, 'reviewType': 'PRODUCT_REVIEW', 'tradeOrderId': None, 'boughtDate': '09 thg 7 2024', 'zonedBoughtDate': None, 'reviewStatus': 'approved', 'reviewTitle': None, 'reviewContent': 'Hương vị ngon và thơm lừng, Thành phần an toàn và tự nhiên, Thêm sâu sắc và phong phú cho món ăn của bạn, Gia vị linh hoạt cho mọi loại ẩm thực,  ', 'reviewContentList': [{'attribute': '', 'content': 'Hương vị ngon và thơm lừng, Thành phần an toàn và tự nhiên, Thêm sâu sắc và phong phú cho món ăn của bạn, Gia vị linh hoạt cho mọi loại ẩm thực,', 'selected': None}], 'reviewTime': '23 thg 7 2024', 'zonedReviewTime': None, 'imageQCStatus': 'approved', 'images': [{'title': None, 'url': 'https://lzd-u.slatic.net/53c1de147d674a3ab3f603738c994af4_c447f1fb03374cf08169fe8ba21e5bfd.jpg', 'sort': 0, 'uploadTime': None, 'legal': True, 'status': 'approved', 'checkedByPeople': None, 'width': 0, 'height': 0, 'size': 0}], 'videoId': None, 'isVideoReady': None, 'videoCoverUrl': None, 'reviewRateThreadId': None, 'mediaList': [{'reviewRateId': 426112130642751, 'reviewType': 'PRODUCT_REVIEW', 'mediaType': 1, 'coverUrl': 'https://lzd-u.slatic.net/53c1de147d674a3ab3f603738c994af4_c447f1fb03374cf08169fe8ba21e5bfd.jpg', 'videoId': None, 'videoUrl': None, 'width': 0, 'height': 0, 'size': 0}], 'buyerId': 200098818660, 'buyerName': 'Bé H.', 'buyerEmail': None, 'realBuyerName': None, 'isAnonymous': False, 'source': 'write_review_next_review', 'clientType': '', 'rating': 5, 'originalRating': None, 'likeCount': 0, 'likeText': None, 'isMeLike': None, 'helpful': True, 'rejected': False, 'rejectionReason': None, 'resubmissionTooltip': None, 'resubmissionMessage': None, 'qcReasonId': None, 'qcDate': None, 'isPurchased': True, 'isGuest': False, 'sellerId': 200164296998, 'sellerName': None, 'isBuyerShowEnabled': True, 'qcScore': None, 'isQced': False, 'itemId': 982542751, 'itemPic': 'https://vn-live.slatic.net/p/395e2723573e82260634890f1ee6a79a.jpg', 'itemTitle': 'Combo 2 Gói Bột Ngọt AJI-NO-MOTO® Hạt Lớn 1kg/Gói', 'itemUrl': 'https://www.lazada.vn/products/combo-2-goi-bot-ngot-aji-no-moto-hat-lon-1kggoi-i982542751-s3110240830.html', 'originPrice': None, 'salesPrice': None, 'promotion': None, 'skuInfo': None, 'tags': None, 'skuId': '3110240830', 'configSku': '982542751_VNAMZ', 'lastReviewer': None, 'isReportable': 0, 'reportStatus': None, 'reportDate': None, 'reportTimes': 0, 'upVotes': 0, 'downVotes': 0, 'isExternal': 0, 'replies': [], 'isSocialCommentsEnabled': True, 'comments': None, 'canEdit': False, 'isAlreadyRevised': None, 'submitInfo': None, 'imageHost': '//vn-live.slatic.net', 'showUploader': True, 'showVideoUploader': True, 'relevanceScore': 80, 'isCompleted': 1, 'avatar': None, 'reviewerType': None, 'replyAuthor': None, 'sourceReviewTags': None, 'reviewTags': None, 'contentTag': None, 'contentTags': None, 'canDownloadImage': None, 'commentsCount': 0, 'originalCountry': None, 'isCrossVenture': False, 'isAutoTranslated': None, 'viewCounts': 0, 'isGoodReview': False, 'categoryId': 10003322, 'imageCount': None, 'videoCount': None, 'followUpReviews': None, 'reviewBenefit': None, 'gradeItems': {'PRODUCT_REVIEW': 5, 'LOGISTICS_REVIEW': 5, 'SELLER_REVIEW': 5}, 'foreignContent': None, 'targetId': 982542751, 'targetType': 'item'}, {'reviewRateId': 426111246542751, 'reviewType': 'PRODUCT_REVIEW', 'tradeOrderId': None, 'boughtDate': '09 thg 7 2024', 'zonedBoughtDate': None, 'reviewStatus': 'approved', 'reviewTitle': None, 'reviewContent': 'Hương vị ngon và thơm lừng, Gia vị linh hoạt cho mọi loại ẩm thực, Tăng cường hương vị cho mọi món ăn, Thêm sâu sắc và phong phú cho món ăn của bạn,  ', 'reviewContentList': [{'attribute': '', 'content': 'Hương vị ngon và thơm lừng, Gia vị linh hoạt cho mọi loại ẩm thực, Tăng cường hương vị cho mọi món ăn, Thêm sâu sắc và phong phú cho món ăn của bạn,', 'selected': None}], 'reviewTime': '11 thg 7 2024', 'zonedReviewTime': None, 'imageQCStatus': 'approved', 'images': [{'title': None, 'url': 'https://lzd-u.slatic.net/b1c3f49d70e548dbb6e7c7693c7f03bd_24da8291622f473c91221f13d96c48a7.jpg', 'sort': 0, 'uploadTime': None, 'legal': True, 'status': 'approved', 'checkedByPeople': None, 'width': 0, 'height': 0, 'size': 0}], 'videoId': None, 'isVideoReady': None, 'videoCoverUrl': None, 'reviewRateThreadId': None, 'mediaList': [{'reviewRateId': 426111246542751, 'reviewType': 'PRODUCT_REVIEW', 'mediaType': 1, 'coverUrl': 'https://lzd-u.slatic.net/b1c3f49d70e548dbb6e7c7693c7f03bd_24da8291622f473c91221f13d96c48a7.jpg', 'videoId': None, 'videoUrl': None, 'width': 0, 'height': 0, 'size': 0}], 'buyerId': 7146910, 'buyerName': 'Hiền C.', 'buyerEmail': None, 'realBuyerName': None, 'isAnonymous': False, 'source': 'myreview', 'clientType': '', 'rating': 5, 'originalRating': None, 'likeCount': 0, 'likeText': None, 'isMeLike': None, 'helpful': True, 'rejected': False, 'rejectionReason': None, 'resubmissionTooltip': None, 'resubmissionMessage': None, 'qcReasonId': None, 'qcDate': None, 'isPurchased': True, 'isGuest': False, 'sellerId': 200164296998, 'sellerName': None, 'isBuyerShowEnabled': True, 'qcScore': None, 'isQced': False, 'itemId': 982542751, 'itemPic': 'https://vn-live.slatic.net/p/395e2723573e82260634890f1ee6a79a.jpg', 'itemTitle': 'Combo 2 Gói Bột Ngọt AJI-NO-MOTO® Hạt Lớn 1kg/Gói', 'itemUrl': 'https://www.lazada.vn/products/combo-2-goi-bot-ngot-aji-no-moto-hat-lon-1kggoi-i982542751-s3110240830.html', 'originPrice': None, 'salesPrice': None, 'promotion': None, 'skuInfo': None, 'tags': None, 'skuId': '3110240830', 'configSku': '982542751_VNAMZ', 'lastReviewer': None, 'isReportable': 0, 'reportStatus': None, 'reportDate': None, 'reportTimes': 0, 'upVotes': 0, 'downVotes': 0, 'isExternal': 0, 'replies': [], 'isSocialCommentsEnabled': True, 'comments': None, 'canEdit': False, 'isAlreadyRevised': None, 'submitInfo': None, 'imageHost': '//vn-live.slatic.net', 'showUploader': True, 'showVideoUploader': True, 'relevanceScore': 80, 'isCompleted': 1, 'avatar': 'https://lzd-live-vn-member.oss-ap-southeast-1.aliyuncs.com/da71bf59eed54c5d9baa3f968ed9d685_d7d13914780a4c99aac6431c826a35a9.jpg', 'reviewerType': None, 'replyAuthor': None, 'sourceReviewTags': None, 'reviewTags': None, 'contentTag': None, 'contentTags': None, 'canDownloadImage': None, 'commentsCount': 0, 'originalCountry': None, 'isCrossVenture': False, 'isAutoTranslated': None, 'viewCounts': 0, 'isGoodReview': True, 'categoryId': 10003322, 'imageCount': None, 'videoCount': None, 'followUpReviews': None, 'reviewBenefit': None, 'gradeItems': {'PRODUCT_REVIEW': 5, 'LOGISTICS_REVIEW': 5, 'SELLER_REVIEW': 5}, 'foreignContent': None, 'targetId': 982542751, 'targetType': 'item'}, {'reviewRateId': 426108690142751, 'reviewType': 'PRODUCT_REVIEW', 'tradeOrderId': None, 'boughtDate': '09 thg 7 2024', 'zonedBoughtDate': None, 'reviewStatus': 'approved', 'reviewTitle': None, 'reviewContent': 'Hương vị ngon và thơm lừng, Nâng cao kỹ năng nấu nướng của bạn lên một tầm cao mới, Một sản phẩm không thể thiếu trong mỗi căn bếp, Một sản phẩm không thể thiếu trong mỗi căn bếp, Một sản phẩm không thể thiếu trong mỗi căn bếp,  ', 'reviewContentList': [{'attribute': '', 'content': 'Hương vị ngon và thơm lừng, Nâng cao kỹ năng nấu nướng của bạn lên một tầm cao mới, Một sản phẩm không thể thiếu trong mỗi căn bếp, Một sản phẩm không thể thiếu trong mỗi căn bếp, Một sản phẩm không thể thiếu trong mỗi căn bếp,', 'selected': None}], 'reviewTime': '13 thg 7 2024', 'zonedReviewTime': None, 'imageQCStatus': 'approved', 'images': [{'title': None, 'url': 'https://lzd-u.slatic.net/1b4bc4dadaff40c88649f1befc355bde_75baa94556434150a8f3ad966b52fcdb.jpg', 'sort': 0, 'uploadTime': None, 'legal': True, 'status': 'approved', 'checkedByPeople': None, 'width': 0, 'height': 0, 'size': 0}], 'videoId': None, 'isVideoReady': None, 'videoCoverUrl': None, 'reviewRateThreadId': None, 'mediaList': [{'reviewRateId': 426108690142751, 'reviewType': 'PRODUCT_REVIEW', 'mediaType': 1, 'coverUrl': 'https://lzd-u.slatic.net/1b4bc4dadaff40c88649f1befc355bde_75baa94556434150a8f3ad966b52fcdb.jpg', 'videoId': None, 'videoUrl': None, 'width': 0, 'height': 0, 'size': 0}], 'buyerId': 200418816147, 'buyerName': 'Bối B.', 'buyerEmail': None, 'realBuyerName': None, 'isAnonymous': False, 'source': 'write_review_next_review', 'clientType': '', 'rating': 5, 'originalRating': None, 'likeCount': 0, 'likeText': None, 'isMeLike': None, 'helpful': True, 'rejected': False, 'rejectionReason': None, 'resubmissionTooltip': None, 'resubmissionMessage': None, 'qcReasonId': None, 'qcDate': None, 'isPurchased': True, 'isGuest': False, 'sellerId': 200164296998, 'sellerName': None, 'isBuyerShowEnabled': True, 'qcScore': None, 'isQced': False, 'itemId': 982542751, 'itemPic': 'https://vn-live.slatic.net/p/395e2723573e82260634890f1ee6a79a.jpg', 'itemTitle': 'Combo 2 Gói Bột Ngọt AJI-NO-MOTO® Hạt Lớn 1kg/Gói', 'itemUrl': 'https://www.lazada.vn/products/combo-2-goi-bot-ngot-aji-no-moto-hat-lon-1kggoi-i982542751-s3110240830.html', 'originPrice': None, 'salesPrice': None, 'promotion': None, 'skuInfo': None, 'tags': None, 'skuId': '3110240830', 'configSku': '982542751_VNAMZ', 'lastReviewer': None, 'isReportable': 0, 'reportStatus': None, 'reportDate': None, 'reportTimes': 0, 'upVotes': 0, 'downVotes': 0, 'isExternal': 0, 'replies': [], 'isSocialCommentsEnabled': True, 'comments': None, 'canEdit': False, 'isAlreadyRevised': None, 'submitInfo': None, 'imageHost': '//vn-live.slatic.net', 'showUploader': True, 'showVideoUploader': True, 'relevanceScore': 80, 'isCompleted': 1, 'avatar': 'https://lh3.googleusercontent.com/a/AAcHTtehwRwoeWZYkVC_5ZLS-AKcC2V5sqIfA8rjnT9-=s96-c', 'reviewerType': None, 'replyAuthor': None, 'sourceReviewTags': None, 'reviewTags': None, 'contentTag': None, 'contentTags': None, 'canDownloadImage': None, 'commentsCount': 0, 'originalCountry': None, 'isCrossVenture': False, 'isAutoTranslated': None, 'viewCounts': 0, 'isGoodReview': False, 'categoryId': 10003322, 'imageCount': None, 'videoCount': None, 'followUpReviews': None, 'reviewBenefit': None, 'gradeItems': {'PRODUCT_REVIEW': 5, 'LOGISTICS_REVIEW': 5, 'SELLER_REVIEW': 5}, 'foreignContent': None, 'targetId': 982542751, 'targetType': 'item'}, {'reviewRateId': 426108482142751, 'reviewType': 'PRODUCT_REVIEW', 'tradeOrderId': None, 'boughtDate': '09 thg 7 2024', 'zonedBoughtDate': None, 'reviewStatus': 'approved', 'reviewTitle': None, 'reviewContent': 'Một sản phẩm không thể thiếu trong mỗi căn bếp, Nâng cao hương vị của các công thức món ăn yêu thích của bạn,  ', 'reviewContentList': [{'attribute': '', 'content': 'Một sản phẩm không thể thiếu trong mỗi căn bếp, Nâng cao hương vị của các công thức món ăn yêu thích của bạn,', 'selected': None}], 'reviewTime': '11 thg 7 2024', 'zonedReviewTime': None, 'imageQCStatus': 'approved', 'images': [{'title': None, 'url': 'https://lzd-u.slatic.net/5f7adaa9b13843999d2508a7a3c6ae59_35bb20fc05ed44c28e6127c9872c1849.jpg', 'sort': 0, 'uploadTime': None, 'legal': True, 'status': 'approved', 'checkedByPeople': None, 'width': 0, 'height': 0, 'size': 0}], 'videoId': None, 'isVideoReady': None, 'videoCoverUrl': None, 'reviewRateThreadId': None, 'mediaList': [{'reviewRateId': 426108482142751, 'reviewType': 'PRODUCT_REVIEW', 'mediaType': 1, 'coverUrl': 'https://lzd-u.slatic.net/5f7adaa9b13843999d2508a7a3c6ae59_35bb20fc05ed44c28e6127c9872c1849.jpg', 'videoId': None, 'videoUrl': None, 'width': 0, 'height': 0, 'size': 0}], 'buyerId': 200577520189, 'buyerName': 'THỜI T.', 'buyerEmail': None, 'realBuyerName': None, 'isAnonymous': False, 'source': 'orderList_to_receive', 'clientType': '', 'rating': 5, 'originalRating': None, 'likeCount': 0, 'likeText': None, 'isMeLike': None, 'helpful': True, 'rejected': False, 'rejectionReason': None, 'resubmissionTooltip': None, 'resubmissionMessage': None, 'qcReasonId': None, 'qcDate': None, 'isPurchased': True, 'isGuest': False, 'sellerId': 200164296998, 'sellerName': None, 'isBuyerShowEnabled': True, 'qcScore': None, 'isQced': False, 'itemId': 982542751, 'itemPic': 'https://vn-live.slatic.net/p/395e2723573e82260634890f1ee6a79a.jpg', 'itemTitle': 'Combo 2 Gói Bột Ngọt AJI-NO-MOTO® Hạt Lớn 1kg/Gói', 'itemUrl': 'https://www.lazada.vn/products/combo-2-goi-bot-ngot-aji-no-moto-hat-lon-1kggoi-i982542751-s3110240830.html', 'originPrice': None, 'salesPrice': None, 'promotion': None, 'skuInfo': None, 'tags': None, 'skuId': '3110240830', 'configSku': '982542751_VNAMZ', 'lastReviewer': None, 'isReportable': 0, 'reportStatus': None, 'reportDate': None, 'reportTimes': 0, 'upVotes': 0, 'downVotes': 0, 'isExternal': 0, 'replies': [], 'isSocialCommentsEnabled': True, 'comments': None, 'canEdit': False, 'isAlreadyRevised': None, 'submitInfo': None, 'imageHost': '//vn-live.slatic.net', 'showUploader': True, 'showVideoUploader': True, 'relevanceScore': 80, 'isCompleted': 1, 'avatar': None, 'reviewerType': None, 'replyAuthor': None, 'sourceReviewTags': None, 'reviewTags': None, 'contentTag': None, 'contentTags': None, 'canDownloadImage': None, 'commentsCount': 0, 'originalCountry': None, 'isCrossVenture': False, 'isAutoTranslated': None, 'viewCounts': 0, 'isGoodReview': False, 'categoryId': 10003322, 'imageCount': None, 'videoCount': None, 'followUpReviews': None, 'reviewBenefit': None, 'gradeItems': {'PRODUCT_REVIEW': 5, 'LOGISTICS_REVIEW': 5, 'SELLER_REVIEW': 5}, 'foreignContent': None, 'targetId': 982542751, 'targetType': 'item'}, {'reviewRateId': 426039089642751, 'reviewType': 'PRODUCT_REVIEW', 'tradeOrderId': None, 'boughtDate': '09 thg 7 2024', 'zonedBoughtDate': None, 'reviewStatus': 'approved', 'reviewTitle': None, 'reviewContent': 'Thêm sâu sắc và phong phú cho món ăn của bạn, Lý tưởng cho những người quan tâm đến sức khỏe, Lý tưởng cho những người quan tâm đến sức khỏe,  ', 'reviewContentList': [{'attribute': '', 'content': 'Thêm sâu sắc và phong phú cho món ăn của bạn, Lý tưởng cho những người quan tâm đến sức khỏe, Lý tưởng cho những người quan tâm đến sức khỏe,', 'selected': None}], 'reviewTime': '11 thg 7 2024', 'zonedReviewTime': None, 'imageQCStatus': 'approved', 'images': [{'title': None, 'url': 'https://lzd-u.slatic.net/29f9f9b4507c4349bfdc37c9d9756978_1_1720669836.924823.jpg', 'sort': 0, 'uploadTime': None, 'legal': True, 'status': 'approved', 'checkedByPeople': None, 'width': 0, 'height': 0, 'size': 0}], 'videoId': None, 'isVideoReady': None, 'videoCoverUrl': None, 'reviewRateThreadId': None, 'mediaList': [{'reviewRateId': 426039089642751, 'reviewType': 'PRODUCT_REVIEW', 'mediaType': 1, 'coverUrl': 'https://lzd-u.slatic.net/29f9f9b4507c4349bfdc37c9d9756978_1_1720669836.924823.jpg', 'videoId': None, 'videoUrl': None, 'width': 0, 'height': 0, 'size': 0}], 'buyerId': 200030352460, 'buyerName': 'Quách H.', 'buyerEmail': None, 'realBuyerName': None, 'isAnonymous': False, 'source': 'orderDetail', 'clientType': '', 'rating': 5, 'originalRating': None, 'likeCount': 0, 'likeText': None, 'isMeLike': None, 'helpful': True, 'rejected': False, 'rejectionReason': None, 'resubmissionTooltip': None, 'resubmissionMessage': None, 'qcReasonId': None, 'qcDate': None, 'isPurchased': True, 'isGuest': False, 'sellerId': 200164296998, 'sellerName': None, 'isBuyerShowEnabled': True, 'qcScore': None, 'isQced': False, 'itemId': 982542751, 'itemPic': 'https://vn-live.slatic.net/p/395e2723573e82260634890f1ee6a79a.jpg', 'itemTitle': 'Combo 2 Gói Bột Ngọt AJI-NO-MOTO® Hạt Lớn 1kg/Gói', 'itemUrl': 'https://www.lazada.vn/products/combo-2-goi-bot-ngot-aji-no-moto-hat-lon-1kggoi-i982542751-s3110240830.html', 'originPrice': None, 'salesPrice': None, 'promotion': None, 'skuInfo': None, 'tags': None, 'skuId': '3110240830', 'configSku': '982542751_VNAMZ', 'lastReviewer': None, 'isReportable': 0, 'reportStatus': None, 'reportDate': None, 'reportTimes': 0, 'upVotes': 0, 'downVotes': 0, 'isExternal': 0, 'replies': [], 'isSocialCommentsEnabled': True, 'comments': None, 'canEdit': False, 'isAlreadyRevised': None, 'submitInfo': None, 'imageHost': '//vn-live.slatic.net', 'showUploader': True, 'showVideoUploader': True, 'relevanceScore': 80, 'isCompleted': 1, 'avatar': None, 'reviewerType': None, 'replyAuthor': None, 'sourceReviewTags': None, 'reviewTags': None, 'contentTag': None, 'contentTags': None, 'canDownloadImage': None, 'commentsCount': 0, 'originalCountry': None, 'isCrossVenture': False, 'isAutoTranslated': None, 'viewCounts': 0, 'isGoodReview': False, 'categoryId': 10003322, 'imageCount': None, 'videoCount': None, 'followUpReviews': None, 'reviewBenefit': None, 'gradeItems': {'PRODUCT_REVIEW': 5, 'LOGISTICS_REVIEW': 5, 'SELLER_REVIEW': 5}, 'foreignContent': None, 'targetId': 982542751, 'targetType': 'item'}, {'reviewRateId': 424963690542751, 'reviewType': 'PRODUCT_REVIEW', 'tradeOrderId': None, 'boughtDate': '27 thg 6 2024', 'zonedBoughtDate': None, 'reviewStatus': 'approved', 'reviewTitle': None, 'reviewContent': 'Thành phần an toàn và tự nhiên, Một sản phẩm không thể thiếu trong mỗi căn bếp, Thêm sâu sắc và phong phú cho món ăn của bạn, Lý tưởng cho những người quan tâm đến sức khỏe,  ', 'reviewContentList': [{'attribute': '', 'content': 'Thành phần an toàn và tự nhiên, Một sản phẩm không thể thiếu trong mỗi căn bếp, Thêm sâu sắc và phong phú cho món ăn của bạn, Lý tưởng cho những người quan tâm đến sức khỏe,', 'selected': None}], 'reviewTime': '02 thg 7 2024', 'zonedReviewTime': None, 'imageQCStatus': 'approved', 'images': [{'title': None, 'url': 'https://lzd-u.slatic.net/137ca243158240c1b05fb88bc75091e6_2_1719928178.796267.jpg', 'sort': 0, 'uploadTime': None, 'legal': True, 'status': 'approved', 'checkedByPeople': None, 'width': 0, 'height': 0, 'size': 0}], 'videoId': None, 'isVideoReady': None, 'videoCoverUrl': None, 'reviewRateThreadId': None, 'mediaList': [{'reviewRateId': 424963690542751, 'reviewType': 'PRODUCT_REVIEW', 'mediaType': 1, 'coverUrl': 'https://lzd-u.slatic.net/137ca243158240c1b05fb88bc75091e6_2_1719928178.796267.jpg', 'videoId': None, 'videoUrl': None, 'width': 0, 'height': 0, 'size': 0}], 'buyerId': 200577760901, 'buyerName': '0***3', 'buyerEmail': None, 'realBuyerName': None, 'isAnonymous': True, 'source': 'success_page_to_review', 'clientType': '', 'rating': 5, 'originalRating': None, 'likeCount': 0, 'likeText': None, 'isMeLike': None, 'helpful': True, 'rejected': False, 'rejectionReason': None, 'resubmissionTooltip': None, 'resubmissionMessage': None, 'qcReasonId': None, 'qcDate': None, 'isPurchased': True, 'isGuest': False, 'sellerId': 200164296998, 'sellerName': None, 'isBuyerShowEnabled': True, 'qcScore': None, 'isQced': False, 'itemId': 982542751, 'itemPic': 'https://vn-live.slatic.net/p/395e2723573e82260634890f1ee6a79a.jpg', 'itemTitle': 'Combo 2 Gói Bột Ngọt AJI-NO-MOTO® Hạt Lớn 1kg/Gói', 'itemUrl': 'https://www.lazada.vn/products/combo-2-goi-bot-ngot-aji-no-moto-hat-lon-1kggoi-i982542751-s3110240830.html', 'originPrice': None, 'salesPrice': None, 'promotion': None, 'skuInfo': None, 'tags': None, 'skuId': '3110240830', 'configSku': '982542751_VNAMZ', 'lastReviewer': None, 'isReportable': 0, 'reportStatus': None, 'reportDate': None, 'reportTimes': 0, 'upVotes': 0, 'downVotes': 0, 'isExternal': 0, 'replies': [], 'isSocialCommentsEnabled': True, 'comments': None, 'canEdit': False, 'isAlreadyRevised': None, 'submitInfo': None, 'imageHost': '//vn-live.slatic.net', 'showUploader': True, 'showVideoUploader': True, 'relevanceScore': 80, 'isCompleted': 1, 'avatar': None, 'reviewerType': None, 'replyAuthor': None, 'sourceReviewTags': None, 'reviewTags': None, 'contentTag': None, 'contentTags': None, 'canDownloadImage': None, 'commentsCount': 0, 'originalCountry': None, 'isCrossVenture': False, 'isAutoTranslated': None, 'viewCounts': 0, 'isGoodReview': False, 'categoryId': 10003322, 'imageCount': None, 'videoCount': None, 'followUpReviews': None, 'reviewBenefit': None, 'gradeItems': {'PRODUCT_REVIEW': 5, 'LOGISTICS_REVIEW': 5, 'SELLER_REVIEW': 5}, 'foreignContent': None, 'targetId': 982542751, 'targetType': 'item'}, {'reviewRateId': 423886165042751, 'reviewType': 'PRODUCT_REVIEW', 'tradeOrderId': None, 'boughtDate': '15 thg 6 2024', 'zonedBoughtDate': None, 'reviewStatus': 'approved', 'reviewTitle': None, 'reviewContent': 'Giao hàng nhanh. Đóng gói cẩn thận. Hàng chính hãng chất lượng. Shop giao đúng phân loại, đủ số lượng đã đặt. Date xa. Giá cạnh trạnh. Shop phục vụ tốt 👍🏻👍🏻👍🏻 ', 'reviewContentList': [{'attribute': '', 'content': 'Giao hàng nhanh. Đóng gói cẩn thận. Hàng chính hãng chất lượng. Shop giao đúng phân loại, đủ số lượng đã đặt. Date xa. Giá cạnh trạnh. Shop phục vụ tốt 👍🏻👍🏻👍🏻', 'selected': None}], 'reviewTime': '26 thg 6 2024', 'zonedReviewTime': None, 'imageQCStatus': 'approved', 'images': [{'title': None, 'url': 'https://lzd-u.slatic.net/75b00f3bbadb488ca03df4c84477d95c_5_1719414875.900493.jpg', 'sort': 0, 'uploadTime': None, 'legal': True, 'status': 'approved', 'checkedByPeople': None, 'width': 0, 'height': 0, 'size': 0}], 'videoId': None, 'isVideoReady': None, 'videoCoverUrl': None, 'reviewRateThreadId': None, 'mediaList': [{'reviewRateId': 423886165042751, 'reviewType': 'PRODUCT_REVIEW', 'mediaType': 1, 'coverUrl': 'https://lzd-u.slatic.net/75b00f3bbadb488ca03df4c84477d95c_5_1719414875.900493.jpg', 'videoId': None, 'videoUrl': None, 'width': 0, 'height': 0, 'size': 0}], 'buyerId': 353058, 'buyerName': 'Đ***.', 'buyerEmail': None, 'realBuyerName': None, 'isAnonymous': True, 'source': 'success_page_to_review', 'clientType': '', 'rating': 5, 'originalRating': None, 'likeCount': 0, 'likeText': None, 'isMeLike': None, 'helpful': True, 'rejected': False, 'rejectionReason': None, 'resubmissionTooltip': None, 'resubmissionMessage': None, 'qcReasonId': None, 'qcDate': None, 'isPurchased': True, 'isGuest': False, 'sellerId': 200164296998, 'sellerName': None, 'isBuyerShowEnabled': True, 'qcScore': None, 'isQced': False, 'itemId': 982542751, 'itemPic': 'https://vn-live.slatic.net/p/395e2723573e82260634890f1ee6a79a.jpg', 'itemTitle': 'Combo 2 Gói Bột Ngọt AJI-NO-MOTO® Hạt Lớn 1kg/Gói', 'itemUrl': 'https://www.lazada.vn/products/combo-2-goi-bot-ngot-aji-no-moto-hat-lon-1kggoi-i982542751-s3110240830.html', 'originPrice': None, 'salesPrice': None, 'promotion': None, 'skuInfo': None, 'tags': None, 'skuId': '3110240830', 'configSku': '982542751_VNAMZ', 'lastReviewer': None, 'isReportable': 0, 'reportStatus': None, 'reportDate': None, 'reportTimes': 0, 'upVotes': 0, 'downVotes': 0, 'isExternal': 0, 'replies': [], 'isSocialCommentsEnabled': True, 'comments': None, 'canEdit': False, 'isAlreadyRevised': None, 'submitInfo': None, 'imageHost': '//vn-live.slatic.net', 'showUploader': True, 'showVideoUploader': True, 'relevanceScore': 80, 'isCompleted': 1, 'avatar': None, 'reviewerType': None, 'replyAuthor': None, 'sourceReviewTags': None, 'reviewTags': None, 'contentTag': None, 'contentTags': None, 'canDownloadImage': None, 'commentsCount': 0, 'originalCountry': None, 'isCrossVenture': False, 'isAutoTranslated': None, 'viewCounts': 0, 'isGoodReview': False, 'categoryId': 10003322, 'imageCount': None, 'videoCount': None, 'followUpReviews': None, 'reviewBenefit': None, 'gradeItems': {'PRODUCT_REVIEW': 5, 'LOGISTICS_REVIEW': 5, 'SELLER_REVIEW': 5}, 'foreignContent': None, 'targetId': 982542751, 'targetType': 'item'}, {'reviewRateId': 422197377642751, 'reviewType': 'PRODUCT_REVIEW', 'tradeOrderId': None, 'boughtDate': '27 thg 5 2024', 'zonedBoughtDate': None, 'reviewStatus': 'approved', 'reviewTitle': None, 'reviewContent': 'Hương vị ngon và thơm lừng, Nâng cao kỹ năng nấu nướng của bạn lên một tầm cao mới, Đóng gói tiện lợi với nhiều gói,  ', 'reviewContentList': [{'attribute': '', 'content': 'Hương vị ngon và thơm lừng, Nâng cao kỹ năng nấu nướng của bạn lên một tầm cao mới, Đóng gói tiện lợi với nhiều gói,', 'selected': None}], 'reviewTime': '30 thg 5 2024', 'zonedReviewTime': None, 'imageQCStatus': 'approved', 'images': [{'title': None, 'url': 'https://lzd-u.slatic.net/6b3cf4d2c42f41549c86377db7f10739_5c4b02ebcb1648d3bc690d58a3f4d40e.jpg', 'sort': 0, 'uploadTime': None, 'legal': True, 'status': 'approved', 'checkedByPeople': None, 'width': 0, 'height': 0, 'size': 0}], 'videoId': None, 'isVideoReady': None, 'videoCoverUrl': None, 'reviewRateThreadId': None, 'mediaList': [{'reviewRateId': 422197377642751, 'reviewType': 'PRODUCT_REVIEW', 'mediaType': 1, 'coverUrl': 'https://lzd-u.slatic.net/6b3cf4d2c42f41549c86377db7f10739_5c4b02ebcb1648d3bc690d58a3f4d40e.jpg', 'videoId': None, 'videoUrl': None, 'width': 0, 'height': 0, 'size': 0}], 'buyerId': 200050248773, 'buyerName': 'Hoa K.', 'buyerEmail': None, 'realBuyerName': None, 'isAnonymous': False, 'source': 'orderDetail', 'clientType': '', 'rating': 5, 'originalRating': None, 'likeCount': 0, 'likeText': None, 'isMeLike': None, 'helpful': True, 'rejected': False, 'rejectionReason': None, 'resubmissionTooltip': None, 'resubmissionMessage': None, 'qcReasonId': None, 'qcDate': None, 'isPurchased': True, 'isGuest': False, 'sellerId': 200164296998, 'sellerName': None, 'isBuyerShowEnabled': True, 'qcScore': None, 'isQced': False, 'itemId': 982542751, 'itemPic': 'https://vn-live.slatic.net/p/395e2723573e82260634890f1ee6a79a.jpg', 'itemTitle': 'Combo 2 Gói Bột Ngọt AJI-NO-MOTO® Hạt Lớn 1kg/Gói', 'itemUrl': 'https://www.lazada.vn/products/combo-2-goi-bot-ngot-aji-no-moto-hat-lon-1kggoi-i982542751-s3110240830.html', 'originPrice': None, 'salesPrice': None, 'promotion': None, 'skuInfo': None, 'tags': None, 'skuId': '3110240830', 'configSku': '982542751_VNAMZ', 'lastReviewer': None, 'isReportable': 0, 'reportStatus': None, 'reportDate': None, 'reportTimes': 0, 'upVotes': 0, 'downVotes': 0, 'isExternal': 0, 'replies': [], 'isSocialCommentsEnabled': True, 'comments': None, 'canEdit': False, 'isAlreadyRevised': None, 'submitInfo': None, 'imageHost': '//vn-live.slatic.net', 'showUploader': True, 'showVideoUploader': True, 'relevanceScore': 80, 'isCompleted': 1, 'avatar': 'https://lh6.googleusercontent.com/-lyrt8Z3tD3o/AAAAAAAAAAI/AAAAAAAAAAA/ACHi3rcUijkkPwoW8zWUUsj6c3SXhLElbQ/s96-c/photo.jpg', 'reviewerType': None, 'replyAuthor': None, 'sourceReviewTags': None, 'reviewTags': None, 'contentTag': None, 'contentTags': None, 'canDownloadImage': None, 'commentsCount': 0, 'originalCountry': None, 'isCrossVenture': False, 'isAutoTranslated': None, 'viewCounts': 0, 'isGoodReview': False, 'categoryId': 10003322, 'imageCount': None, 'videoCount': None, 'followUpReviews': None, 'reviewBenefit': None, 'gradeItems': {'PRODUCT_REVIEW': 5, 'LOGISTICS_REVIEW': 5, 'SELLER_REVIEW': 5}, 'foreignContent': None, 'targetId': 982542751, 'targetType': 'item'}, {'reviewRateId': 422029114142751, 'reviewType': 'PRODUCT_REVIEW', 'tradeOrderId': None, 'boughtDate': '26 thg 5 2024', 'zonedBoughtDate': None, 'reviewStatus': 'approved', 'reviewTitle': None, 'reviewContent': 'Nâng cao kỹ năng nấu nướng của bạn lên một tầm cao mới, Đóng gói tiện lợi với nhiều gói, Tăng cường hương vị cho mọi món ăn,  ', 'reviewContentList': [{'attribute': '', 'content': 'Nâng cao kỹ năng nấu nướng của bạn lên một tầm cao mới, Đóng gói tiện lợi với nhiều gói, Tăng cường hương vị cho mọi món ăn,', 'selected': None}], 'reviewTime': '29 thg 5 2024', 'zonedReviewTime': None, 'imageQCStatus': 'approved', 'images': [{'title': None, 'url': 'https://lzd-u.slatic.net/ab8cb992be0948c8b295cfea13a6a958_5542d34c4b194aeaba6a467abd3fb5e1.jpg', 'sort': 0, 'uploadTime': None, 'legal': True, 'status': 'approved', 'checkedByPeople': None, 'width': 0, 'height': 0, 'size': 0}], 'videoId': None, 'isVideoReady': None, 'videoCoverUrl': None, 'reviewRateThreadId': None, 'mediaList': [{'reviewRateId': 422029114142751, 'reviewType': 'PRODUCT_REVIEW', 'mediaType': 1, 'coverUrl': 'https://lzd-u.slatic.net/ab8cb992be0948c8b295cfea13a6a958_5542d34c4b194aeaba6a467abd3fb5e1.jpg', 'videoId': None, 'videoUrl': None, 'width': 0, 'height': 0, 'size': 0}], 'buyerId': 200098818660, 'buyerName': 'Bé H.', 'buyerEmail': None, 'realBuyerName': None, 'isAnonymous': False, 'source': 'myreview', 'clientType': '', 'rating': 5, 'originalRating': None, 'likeCount': 0, 'likeText': None, 'isMeLike': None, 'helpful': True, 'rejected': False, 'rejectionReason': None, 'resubmissionTooltip': None, 'resubmissionMessage': None, 'qcReasonId': None, 'qcDate': None, 'isPurchased': True, 'isGuest': False, 'sellerId': 200164296998, 'sellerName': None, 'isBuyerShowEnabled': True, 'qcScore': None, 'isQced': False, 'itemId': 982542751, 'itemPic': 'https://vn-live.slatic.net/p/395e2723573e82260634890f1ee6a79a.jpg', 'itemTitle': 'Combo 2 Gói Bột Ngọt AJI-NO-MOTO® Hạt Lớn 1kg/Gói', 'itemUrl': 'https://www.lazada.vn/products/combo-2-goi-bot-ngot-aji-no-moto-hat-lon-1kggoi-i982542751-s3110240830.html', 'originPrice': None, 'salesPrice': None, 'promotion': None, 'skuInfo': None, 'tags': None, 'skuId': '3110240830', 'configSku': '982542751_VNAMZ', 'lastReviewer': None, 'isReportable': 0, 'reportStatus': None, 'reportDate': None, 'reportTimes': 0, 'upVotes': 0, 'downVotes': 0, 'isExternal': 0, 'replies': [], 'isSocialCommentsEnabled': True, 'comments': None, 'canEdit': False, 'isAlreadyRevised': None, 'submitInfo': None, 'imageHost': '//vn-live.slatic.net', 'showUploader': True, 'showVideoUploader': True, 'relevanceScore': 80, 'isCompleted': 1, 'avatar': None, 'reviewerType': None, 'replyAuthor': None, 'sourceReviewTags': None, 'reviewTags': None, 'contentTag': None, 'contentTags': None, 'canDownloadImage': None, 'commentsCount': 0, 'originalCountry': None, 'isCrossVenture': False, 'isAutoTranslated': None, 'viewCounts': 0, 'isGoodReview': False, 'categoryId': 10003322, 'imageCount': None, 'videoCount': None, 'followUpReviews': None, 'reviewBenefit': None, 'gradeItems': {'PRODUCT_REVIEW': 5, 'LOGISTICS_REVIEW': 5, 'SELLER_REVIEW': 5}, 'foreignContent': None, 'targetId': 982542751, 'targetType': 'item'}, {'reviewRateId': 421989601142751, 'reviewType': 'PRODUCT_REVIEW', 'tradeOrderId': None, 'boughtDate': '26 thg 5 2024', 'zonedBoughtDate': None, 'reviewStatus': 'approved', 'reviewTitle': None, 'reviewContent': 'Nâng cao kỹ năng nấu nướng của bạn lên một tầm cao mới, Nâng cao kỹ năng nấu nướng của bạn lên một tầm cao mới, Lý tưởng cho những người quan tâm đến sức khỏe,  ', 'reviewContentList': [{'attribute': '', 'content': 'Nâng cao kỹ năng nấu nướng của bạn lên một tầm cao mới, Nâng cao kỹ năng nấu nướng của bạn lên một tầm cao mới, Lý tưởng cho những người quan tâm đến sức khỏe,', 'selected': None}], 'reviewTime': '28 thg 5 2024', 'zonedReviewTime': None, 'imageQCStatus': 'approved', 'images': [{'title': None, 'url': 'https://lzd-u.slatic.net/999ed684ca3d4cdcabb97ad70bd343ed_1_1716865970.692332.jpg', 'sort': 0, 'uploadTime': None, 'legal': True, 'status': 'approved', 'checkedByPeople': None, 'width': 0, 'height': 0, 'size': 0}], 'videoId': None, 'isVideoReady': None, 'videoCoverUrl': None, 'reviewRateThreadId': None, 'mediaList': [{'reviewRateId': 421989601142751, 'reviewType': 'PRODUCT_REVIEW', 'mediaType': 1, 'coverUrl': 'https://lzd-u.slatic.net/999ed684ca3d4cdcabb97ad70bd343ed_1_1716865970.692332.jpg', 'videoId': None, 'videoUrl': None, 'width': 0, 'height': 0, 'size': 0}], 'buyerId': 200030352460, 'buyerName': 'Quách H.', 'buyerEmail': None, 'realBuyerName': None, 'isAnonymous': False, 'source': 'orderDetail', 'clientType': '', 'rating': 5, 'originalRating': None, 'likeCount': 0, 'likeText': None, 'isMeLike': None, 'helpful': True, 'rejected': False, 'rejectionReason': None, 'resubmissionTooltip': None, 'resubmissionMessage': None, 'qcReasonId': None, 'qcDate': None, 'isPurchased': True, 'isGuest': False, 'sellerId': 200164296998, 'sellerName': None, 'isBuyerShowEnabled': True, 'qcScore': None, 'isQced': False, 'itemId': 982542751, 'itemPic': 'https://vn-live.slatic.net/p/395e2723573e82260634890f1ee6a79a.jpg', 'itemTitle': 'Combo 2 Gói Bột Ngọt AJI-NO-MOTO® Hạt Lớn 1kg/Gói', 'itemUrl': 'https://www.lazada.vn/products/combo-2-goi-bot-ngot-aji-no-moto-hat-lon-1kggoi-i982542751-s3110240830.html', 'originPrice': None, 'salesPrice': None, 'promotion': None, 'skuInfo': None, 'tags': None, 'skuId': '3110240830', 'configSku': '982542751_VNAMZ', 'lastReviewer': None, 'isReportable': 0, 'reportStatus': None, 'reportDate': None, 'reportTimes': 0, 'upVotes': 0, 'downVotes': 0, 'isExternal': 0, 'replies': [], 'isSocialCommentsEnabled': True, 'comments': None, 'canEdit': False, 'isAlreadyRevised': None, 'submitInfo': None, 'imageHost': '//vn-live.slatic.net', 'showUploader': True, 'showVideoUploader': True, 'relevanceScore': 80, 'isCompleted': 1, 'avatar': None, 'reviewerType': None, 'replyAuthor': None, 'sourceReviewTags': None, 'reviewTags': None, 'contentTag': None, 'contentTags': None, 'canDownloadImage': None, 'commentsCount': 0, 'originalCountry': None, 'isCrossVenture': False, 'isAutoTranslated': None, 'viewCounts': 0, 'isGoodReview': False, 'categoryId': 10003322, 'imageCount': None, 'videoCount': None, 'followUpReviews': None, 'reviewBenefit': None, 'gradeItems': {'PRODUCT_REVIEW': 5, 'LOGISTICS_REVIEW': 5, 'SELLER_REVIEW': 5}, 'foreignContent': None, 'targetId': 982542751, 'targetType': 'item'}, {'reviewRateId': 421989403242751, 'reviewType': 'PRODUCT_REVIEW', 'tradeOrderId': None, 'boughtDate': '27 thg 5 2024', 'zonedBoughtDate': None, 'reviewStatus': 'approved', 'reviewTitle': None, 'reviewContent': 'Thêm sâu sắc và phong phú cho món ăn của bạn, Lý tưởng cho những người quan tâm đến sức khỏe, Lý tưởng cho những người quan tâm đến sức khỏe,  ', 'reviewContentList': [{'attribute': '', 'content': 'Thêm sâu sắc và phong phú cho món ăn của bạn, Lý tưởng cho những người quan tâm đến sức khỏe, Lý tưởng cho những người quan tâm đến sức khỏe,', 'selected': None}], 'reviewTime': '28 thg 5 2024', 'zonedReviewTime': None, 'imageQCStatus': 'approved', 'images': [{'title': None, 'url': 'https://lzd-u.slatic.net/95f1b3f7d48b424ba301db7759c8e5ae_d30cafd4f39b4afd9563c04d97e68897.jpg', 'sort': 0, 'uploadTime': None, 'legal': True, 'status': 'approved', 'checkedByPeople': None, 'width': 0, 'height': 0, 'size': 0}], 'videoId': None, 'isVideoReady': None, 'videoCoverUrl': None, 'reviewRateThreadId': None, 'mediaList': [{'reviewRateId': 421989403242751, 'reviewType': 'PRODUCT_REVIEW', 'mediaType': 1, 'coverUrl': 'https://lzd-u.slatic.net/95f1b3f7d48b424ba301db7759c8e5ae_d30cafd4f39b4afd9563c04d97e68897.jpg', 'videoId': None, 'videoUrl': None, 'width': 0, 'height': 0, 'size': 0}], 'buyerId': 200203071864, 'buyerName': 'Chí N.', 'buyerEmail': None, 'realBuyerName': None, 'isAnonymous': False, 'source': 'write_review_next_review', 'clientType': '', 'rating': 5, 'originalRating': None, 'likeCount': 0, 'likeText': None, 'isMeLike': None, 'helpful': True, 'rejected': False, 'rejectionReason': None, 'resubmissionTooltip': None, 'resubmissionMessage': None, 'qcReasonId': None, 'qcDate': None, 'isPurchased': True, 'isGuest': False, 'sellerId': 200164296998, 'sellerName': None, 'isBuyerShowEnabled': True, 'qcScore': None, 'isQced': False, 'itemId': 982542751, 'itemPic': 'https://vn-live.slatic.net/p/395e2723573e82260634890f1ee6a79a.jpg', 'itemTitle': 'Combo 2 Gói Bột Ngọt AJI-NO-MOTO® Hạt Lớn 1kg/Gói', 'itemUrl': 'https://www.lazada.vn/products/combo-2-goi-bot-ngot-aji-no-moto-hat-lon-1kggoi-i982542751-s3110240830.html', 'originPrice': None, 'salesPrice': None, 'promotion': None, 'skuInfo': None, 'tags': None, 'skuId': '3110240830', 'configSku': '982542751_VNAMZ', 'lastReviewer': None, 'isReportable': 0, 'reportStatus': None, 'reportDate': None, 'reportTimes': 0, 'upVotes': 0, 'downVotes': 0, 'isExternal': 0, 'replies': [], 'isSocialCommentsEnabled': True, 'comments': None, 'canEdit': False, 'isAlreadyRevised': None, 'submitInfo': None, 'imageHost': '//vn-live.slatic.net', 'showUploader': True, 'showVideoUploader': True, 'relevanceScore': 80, 'isCompleted': 1, 'avatar': None, 'reviewerType': None, 'replyAuthor': None, 'sourceReviewTags': None, 'reviewTags': None, 'contentTag': None, 'contentTags': None, 'canDownloadImage': None, 'commentsCount': 0, 'originalCountry': None, 'isCrossVenture': False, 'isAutoTranslated': None, 'viewCounts': 1, 'isGoodReview': False, 'categoryId': 10003322, 'imageCount': None, 'videoCount': None, 'followUpReviews': None, 'reviewBenefit': None, 'gradeItems': {'PRODUCT_REVIEW': 5, 'LOGISTICS_REVIEW': 5, 'SELLER_REVIEW': 5}, 'foreignContent': None, 'targetId': 982542751, 'targetType': 'item'}, {'reviewRateId': 421988816742751, 'reviewType': 'PRODUCT_REVIEW', 'tradeOrderId': None, 'boughtDate': '27 thg 5 2024', 'zonedBoughtDate': None, 'reviewStatus': 'approved', 'reviewTitle': None, 'reviewContent': 'Lý tưởng cho những người quan tâm đến sức khỏe, Lý tưởng cho những người quan tâm đến sức khỏe, Một sản phẩm không thể thiếu trong mỗi căn bếp,  ', 'reviewContentList': [{'attribute': '', 'content': 'Lý tưởng cho những người quan tâm đến sức khỏe, Lý tưởng cho những người quan tâm đến sức khỏe, Một sản phẩm không thể thiếu trong mỗi căn bếp,', 'selected': None}], 'reviewTime': '28 thg 5 2024', 'zonedReviewTime': None, 'imageQCStatus': 'approved', 'images': [{'title': None, 'url': 'https://lzd-u.slatic.net/effabfefccf1485ca1af508a3a3fbde3_40e8bf2e27664c038583f6405e1c97e3.jpg', 'sort': 0, 'uploadTime': None, 'legal': True, 'status': 'approved', 'checkedByPeople': None, 'width': 0, 'height': 0, 'size': 0}], 'videoId': None, 'isVideoReady': None, 'videoCoverUrl': None, 'reviewRateThreadId': None, 'mediaList': [{'reviewRateId': 421988816742751, 'reviewType': 'PRODUCT_REVIEW', 'mediaType': 1, 'coverUrl': 'https://lzd-u.slatic.net/effabfefccf1485ca1af508a3a3fbde3_40e8bf2e27664c038583f6405e1c97e3.jpg', 'videoId': None, 'videoUrl': None, 'width': 0, 'height': 0, 'size': 0}], 'buyerId': 200053317882, 'buyerName': 'Bảo A.', 'buyerEmail': None, 'realBuyerName': None, 'isAnonymous': False, 'source': 'pop_up_write_review_next_review', 'clientType': '', 'rating': 5, 'originalRating': None, 'likeCount': 0, 'likeText': None, 'isMeLike': None, 'helpful': True, 'rejected': False, 'rejectionReason': None, 'resubmissionTooltip': None, 'resubmissionMessage': None, 'qcReasonId': None, 'qcDate': None, 'isPurchased': True, 'isGuest': False, 'sellerId': 200164296998, 'sellerName': None, 'isBuyerShowEnabled': True, 'qcScore': None, 'isQced': False, 'itemId': 982542751, 'itemPic': 'https://vn-live.slatic.net/p/395e2723573e82260634890f1ee6a79a.jpg', 'itemTitle': 'Combo 2 Gói Bột Ngọt AJI-NO-MOTO® Hạt Lớn 1kg/Gói', 'itemUrl': 'https://www.lazada.vn/products/combo-2-goi-bot-ngot-aji-no-moto-hat-lon-1kggoi-i982542751-s3110240830.html', 'originPrice': None, 'salesPrice': None, 'promotion': None, 'skuInfo': None, 'tags': None, 'skuId': '3110240830', 'configSku': '982542751_VNAMZ', 'lastReviewer': None, 'isReportable': 0, 'reportStatus': None, 'reportDate': None, 'reportTimes': 0, 'upVotes': 0, 'downVotes': 0, 'isExternal': 0, 'replies': [], 'isSocialCommentsEnabled': True, 'comments': None, 'canEdit': False, 'isAlreadyRevised': None, 'submitInfo': None, 'imageHost': '//vn-live.slatic.net', 'showUploader': True, 'showVideoUploader': True, 'relevanceScore': 80, 'isCompleted': 1, 'avatar': 'https://vn-live-02.slatic.net/p/a190fd998fbae70d5188211542f21c75.jpg', 'reviewerType': None, 'replyAuthor': None, 'sourceReviewTags': None, 'reviewTags': None, 'contentTag': None, 'contentTags': None, 'canDownloadImage': None, 'commentsCount': 0, 'originalCountry': None, 'isCrossVenture': False, 'isAutoTranslated': None, 'viewCounts': 0, 'isGoodReview': False, 'categoryId': 10003322, 'imageCount': None, 'videoCount': None, 'followUpReviews': None, 'reviewBenefit': None, 'gradeItems': {'PRODUCT_REVIEW': 5, 'LOGISTICS_REVIEW': 5, 'SELLER_REVIEW': 5}, 'foreignContent': None, 'targetId': 982542751, 'targetType': 'item'}, {'reviewRateId': 421985162242751, 'reviewType': 'PRODUCT_REVIEW', 'tradeOrderId': None, 'boughtDate': '27 thg 5 2024', 'zonedBoughtDate': None, 'reviewStatus': 'approved', 'reviewTitle': None, 'reviewContent': 'Thêm sâu sắc và phong phú cho món ăn của bạn, Nâng cao kỹ năng nấu nướng của bạn lên một tầm cao mới,  ', 'reviewContentList': [{'attribute': '', 'content': 'Thêm sâu sắc và phong phú cho món ăn của bạn, Nâng cao kỹ năng nấu nướng của bạn lên một tầm cao mới,', 'selected': None}], 'reviewTime': '28 thg 5 2024', 'zonedReviewTime': None, 'imageQCStatus': 'approved', 'images': [{'title': None, 'url': 'https://lzd-u.slatic.net/2e8115bfec504439a9544a592d3ca2b3_c9b93dbb7f8d4c22b97838e18b23cf40.jpg', 'sort': 0, 'uploadTime': None, 'legal': True, 'status': 'approved', 'checkedByPeople': None, 'width': 0, 'height': 0, 'size': 0}], 'videoId': None, 'isVideoReady': None, 'videoCoverUrl': None, 'reviewRateThreadId': None, 'mediaList': [{'reviewRateId': 421985162242751, 'reviewType': 'PRODUCT_REVIEW', 'mediaType': 1, 'coverUrl': 'https://lzd-u.slatic.net/2e8115bfec504439a9544a592d3ca2b3_c9b93dbb7f8d4c22b97838e18b23cf40.jpg', 'videoId': None, 'videoUrl': None, 'width': 0, 'height': 0, 'size': 0}], 'buyerId': 200041758853, 'buyerName': 'Kimhoa N.', 'buyerEmail': None, 'realBuyerName': None, 'isAnonymous': False, 'source': 'pop_up_write_review_next_review', 'clientType': '', 'rating': 5, 'originalRating': None, 'likeCount': 0, 'likeText': None, 'isMeLike': None, 'helpful': True, 'rejected': False, 'rejectionReason': None, 'resubmissionTooltip': None, 'resubmissionMessage': None, 'qcReasonId': None, 'qcDate': None, 'isPurchased': True, 'isGuest': False, 'sellerId': 200164296998, 'sellerName': None, 'isBuyerShowEnabled': True, 'qcScore': None, 'isQced': False, 'itemId': 982542751, 'itemPic': 'https://vn-live.slatic.net/p/395e2723573e82260634890f1ee6a79a.jpg', 'itemTitle': 'Combo 2 Gói Bột Ngọt AJI-NO-MOTO® Hạt Lớn 1kg/Gói', 'itemUrl': 'https://www.lazada.vn/products/combo-2-goi-bot-ngot-aji-no-moto-hat-lon-1kggoi-i982542751-s3110240830.html', 'originPrice': None, 'salesPrice': None, 'promotion': None, 'skuInfo': None, 'tags': None, 'skuId': '3110240830', 'configSku': '982542751_VNAMZ', 'lastReviewer': None, 'isReportable': 0, 'reportStatus': None, 'reportDate': None, 'reportTimes': 0, 'upVotes': 0, 'downVotes': 0, 'isExternal': 0, 'replies': [], 'isSocialCommentsEnabled': True, 'comments': None, 'canEdit': False, 'isAlreadyRevised': None, 'submitInfo': None, 'imageHost': '//vn-live.slatic.net', 'showUploader': True, 'showVideoUploader': True, 'relevanceScore': 80, 'isCompleted': 1, 'avatar': 'https://lh4.googleusercontent.com/-9biFAJ0XvQ4/AAAAAAAAAAI/AAAAAAAAAAA/ACHi3reawgeIePk5qyNapAi77uGDEE5hcQ/s96-c/photo.jpg', 'reviewerType': None, 'replyAuthor': None, 'sourceReviewTags': None, 'reviewTags': None, 'contentTag': None, 'contentTags': None, 'canDownloadImage': None, 'commentsCount': 0, 'originalCountry': None, 'isCrossVenture': False, 'isAutoTranslated': None, 'viewCounts': 0, 'isGoodReview': False, 'categoryId': 10003322, 'imageCount': None, 'videoCount': None, 'followUpReviews': None, 'reviewBenefit': None, 'gradeItems': {'PRODUCT_REVIEW': 5, 'LOGISTICS_REVIEW': 5, 'SELLER_REVIEW': 5}, 'foreignContent': None, 'targetId': 982542751, 'targetType': 'item'}, {'reviewRateId': 420530018542751, 'reviewType': 'PRODUCT_REVIEW', 'tradeOrderId': None, 'boughtDate': '09 thg 5 2024', 'zonedBoughtDate': None, 'reviewStatus': 'approved', 'reviewTitle': None, 'reviewContent': 'Nâng cao kỹ năng nấu nướng của bạn lên một tầm cao mới, Nâng cao kỹ năng nấu nướng của bạn lên một tầm cao mới, Thêm sâu sắc và phong phú cho món ăn của bạn,  ', 'reviewContentList': [{'attribute': '', 'content': 'Nâng cao kỹ năng nấu nướng của bạn lên một tầm cao mới, Nâng cao kỹ năng nấu nướng của bạn lên một tầm cao mới, Thêm sâu sắc và phong phú cho món ăn của bạn,', 'selected': None}], 'reviewTime': '11 thg 5 2024', 'zonedReviewTime': None, 'imageQCStatus': 'approved', 'images': [{'title': None, 'url': 'https://lzd-u.slatic.net/400438102a5043c9a13c080cc97830b2_4ecf666542a94459a9a650fe3d160c5c.jpg', 'sort': 0, 'uploadTime': None, 'legal': True, 'status': 'approved', 'checkedByPeople': None, 'width': 0, 'height': 0, 'size': 0}], 'videoId': None, 'isVideoReady': None, 'videoCoverUrl': None, 'reviewRateThreadId': None, 'mediaList': [{'reviewRateId': 420530018542751, 'reviewType': 'PRODUCT_REVIEW', 'mediaType': 1, 'coverUrl': 'https://lzd-u.slatic.net/400438102a5043c9a13c080cc97830b2_4ecf666542a94459a9a650fe3d160c5c.jpg', 'videoId': None, 'videoUrl': None, 'width': 0, 'height': 0, 'size': 0}], 'buyerId': 200041758853, 'buyerName': 'Kimhoa N.', 'buyerEmail': None, 'realBuyerName': None, 'isAnonymous': False, 'source': 'pop_up_write_review_next_review', 'clientType': '', 'rating': 5, 'originalRating': None, 'likeCount': 0, 'likeText': None, 'isMeLike': None, 'helpful': True, 'rejected': False, 'rejectionReason': None, 'resubmissionTooltip': None, 'resubmissionMessage': None, 'qcReasonId': None, 'qcDate': None, 'isPurchased': True, 'isGuest': False, 'sellerId': 200164296998, 'sellerName': None, 'isBuyerShowEnabled': True, 'qcScore': None, 'isQced': False, 'itemId': 982542751, 'itemPic': 'https://vn-live.slatic.net/p/395e2723573e82260634890f1ee6a79a.jpg', 'itemTitle': 'Combo 2 Gói Bột Ngọt AJI-NO-MOTO® Hạt Lớn 1kg/Gói', 'itemUrl': 'https://www.lazada.vn/products/combo-2-goi-bot-ngot-aji-no-moto-hat-lon-1kggoi-i982542751-s3110240830.html', 'originPrice': None, 'salesPrice': None, 'promotion': None, 'skuInfo': None, 'tags': None, 'skuId': '3110240830', 'configSku': '982542751_VNAMZ', 'lastReviewer': None, 'isReportable': 0, 'reportStatus': None, 'reportDate': None, 'reportTimes': 0, 'upVotes': 0, 'downVotes': 0, 'isExternal': 0, 'replies': [], 'isSocialCommentsEnabled': True, 'comments': None, 'canEdit': False, 'isAlreadyRevised': None, 'submitInfo': None, 'imageHost': '//vn-live.slatic.net', 'showUploader': True, 'showVideoUploader': True, 'relevanceScore': 80, 'isCompleted': 1, 'avatar': 'https://lh4.googleusercontent.com/-9biFAJ0XvQ4/AAAAAAAAAAI/AAAAAAAAAAA/ACHi3reawgeIePk5qyNapAi77uGDEE5hcQ/s96-c/photo.jpg', 'reviewerType': None, 'replyAuthor': None, 'sourceReviewTags': None, 'reviewTags': None, 'contentTag': None, 'contentTags': None, 'canDownloadImage': None, 'commentsCount': 0, 'originalCountry': None, 'isCrossVenture': False, 'isAutoTranslated': None, 'viewCounts': 0, 'isGoodReview': False, 'categoryId': 10003322, 'imageCount': None, 'videoCount': None, 'followUpReviews': None, 'reviewBenefit': None, 'gradeItems': {'PRODUCT_REVIEW': 5, 'LOGISTICS_REVIEW': 5, 'SELLER_REVIEW': 5}, 'foreignContent': None, 'targetId': 982542751, 'targetType': 'item'}, {'reviewRateId': 418545922242751, 'reviewType': 'PRODUCT_REVIEW', 'tradeOrderId': None, 'boughtDate': '16 thg 4 2024', 'zonedBoughtDate': None, 'reviewStatus': 'approved', 'reviewTitle': None, 'reviewContent': 'Hương vị ngon và thơm lừng, Thêm sâu sắc và phong phú cho món ăn của bạn, Nâng cao kỹ năng nấu nướng của bạn lên một tầm cao mới,  ', 'reviewContentList': [{'attribute': '', 'content': 'Hương vị ngon và thơm lừng, Thêm sâu sắc và phong phú cho món ăn của bạn, Nâng cao kỹ năng nấu nướng của bạn lên một tầm cao mới,', 'selected': None}], 'reviewTime': '19 thg 4 2024', 'zonedReviewTime': None, 'imageQCStatus': 'approved', 'images': [{'title': None, 'url': 'https://lzd-u.slatic.net/f0875c4fb0794cc483e999180dea46ed_56bcb3ec50e74e5cb289f4c8ea588f72.jpg', 'sort': 0, 'uploadTime': None, 'legal': True, 'status': 'approved', 'checkedByPeople': None, 'width': 0, 'height': 0, 'size': 0}], 'videoId': None, 'isVideoReady': None, 'videoCoverUrl': None, 'reviewRateThreadId': None, 'mediaList': [{'reviewRateId': 418545922242751, 'reviewType': 'PRODUCT_REVIEW', 'mediaType': 1, 'coverUrl': 'https://lzd-u.slatic.net/f0875c4fb0794cc483e999180dea46ed_56bcb3ec50e74e5cb289f4c8ea588f72.jpg', 'videoId': None, 'videoUrl': None, 'width': 0, 'height': 0, 'size': 0}], 'buyerId': 210175134722, 'buyerName': 'Phạm T.', 'buyerEmail': None, 'realBuyerName': None, 'isAnonymous': False, 'source': 'orderList_to_receive', 'clientType': '', 'rating': 5, 'originalRating': None, 'likeCount': 0, 'likeText': None, 'isMeLike': None, 'helpful': True, 'rejected': False, 'rejectionReason': None, 'resubmissionTooltip': None, 'resubmissionMessage': None, 'qcReasonId': None, 'qcDate': None, 'isPurchased': True, 'isGuest': False, 'sellerId': 200164296998, 'sellerName': None, 'isBuyerShowEnabled': True, 'qcScore': None, 'isQced': False, 'itemId': 982542751, 'itemPic': 'https://vn-live.slatic.net/p/395e2723573e82260634890f1ee6a79a.jpg', 'itemTitle': 'Combo 2 Gói Bột Ngọt AJI-NO-MOTO® Hạt Lớn 1kg/Gói', 'itemUrl': 'https://www.lazada.vn/products/combo-2-goi-bot-ngot-aji-no-moto-hat-lon-1kggoi-i982542751-s3110240830.html', 'originPrice': None, 'salesPrice': None, 'promotion': None, 'skuInfo': None, 'tags': None, 'skuId': '3110240830', 'configSku': '982542751_VNAMZ', 'lastReviewer': None, 'isReportable': 0, 'reportStatus': None, 'reportDate': None, 'reportTimes': 0, 'upVotes': 0, 'downVotes': 0, 'isExternal': 0, 'replies': [], 'isSocialCommentsEnabled': True, 'comments': None, 'canEdit': False, 'isAlreadyRevised': None, 'submitInfo': None, 'imageHost': '//vn-live.slatic.net', 'showUploader': True, 'showVideoUploader': True, 'relevanceScore': 80, 'isCompleted': 1, 'avatar': '', 'reviewerType': None, 'replyAuthor': None, 'sourceReviewTags': None, 'reviewTags': None, 'contentTag': None, 'contentTags': None, 'canDownloadImage': None, 'commentsCount': 0, 'originalCountry': None, 'isCrossVenture': False, 'isAutoTranslated': None, 'viewCounts': 0, 'isGoodReview': False, 'categoryId': 10003322, 'imageCount': None, 'videoCount': None, 'followUpReviews': None, 'reviewBenefit': None, 'gradeItems': {'PRODUCT_REVIEW': 5, 'LOGISTICS_REVIEW': 5, 'SELLER_REVIEW': 5}, 'foreignContent': None, 'targetId': 982542751, 'targetType': 'item'}, {'reviewRateId': 418506997942751, 'reviewType': 'PRODUCT_REVIEW', 'tradeOrderId': None, 'boughtDate': '17 thg 4 2024', 'zonedBoughtDate': None, 'reviewStatus': 'approved', 'reviewTitle': None, 'reviewContent': 'Gia vị linh hoạt cho mọi loại ẩm thực, Lý tưởng cho những người quan tâm đến sức khỏe, Thêm sâu sắc và phong phú cho món ăn của bạn, Đóng gói tiện lợi với nhiều gói, Một sản phẩm không thể thiếu trong mỗi căn bếp, Nâng cao hương vị của các công thức món ăn yêu thích của bạn, Hương vị ngon và thơm lừng, Nâng cao kỹ năng nấu nướng của bạn lên một tầm cao mới,  ', 'reviewContentList': [{'attribute': '', 'content': 'Gia vị linh hoạt cho mọi loại ẩm thực, Lý tưởng cho những người quan tâm đến sức khỏe, Thêm sâu sắc và phong phú cho món ăn của bạn, Đóng gói tiện lợi với nhiều gói, Một sản phẩm không thể thiếu trong mỗi căn bếp, Nâng cao hương vị của các công thức món ăn yêu thích của bạn, Hương vị ngon và thơm lừng, Nâng cao kỹ năng nấu nướng của bạn lên một tầm cao mới,', 'selected': None}], 'reviewTime': '19 thg 4 2024', 'zonedReviewTime': None, 'imageQCStatus': 'approved', 'images': [{'title': None, 'url': 'https://lzd-u.slatic.net/d00b6829787c4423a7a9a81e920a9f0a_3b3bedf3c7e847d99193c0abb517c005.jpg', 'sort': 0, 'uploadTime': None, 'legal': True, 'status': 'approved', 'checkedByPeople': None, 'width': 0, 'height': 0, 'size': 0}], 'videoId': None, 'isVideoReady': None, 'videoCoverUrl': None, 'reviewRateThreadId': None, 'mediaList': [{'reviewRateId': 418506997942751, 'reviewType': 'PRODUCT_REVIEW', 'mediaType': 1, 'coverUrl': 'https://lzd-u.slatic.net/d00b6829787c4423a7a9a81e920a9f0a_3b3bedf3c7e847d99193c0abb517c005.jpg', 'videoId': None, 'videoUrl': None, 'width': 0, 'height': 0, 'size': 0}], 'buyerId': 441869, 'buyerName': 'Đặng P.', 'buyerEmail': None, 'realBuyerName': None, 'isAnonymous': False, 'source': 'orderList_to_receive', 'clientType': '', 'rating': 5, 'originalRating': None, 'likeCount': 0, 'likeText': None, 'isMeLike': None, 'helpful': True, 'rejected': False, 'rejectionReason': None, 'resubmissionTooltip': None, 'resubmissionMessage': None, 'qcReasonId': None, 'qcDate': None, 'isPurchased': True, 'isGuest': False, 'sellerId': 200164296998, 'sellerName': None, 'isBuyerShowEnabled': True, 'qcScore': None, 'isQced': False, 'itemId': 982542751, 'itemPic': 'https://vn-live.slatic.net/p/395e2723573e82260634890f1ee6a79a.jpg', 'itemTitle': 'Combo 2 Gói Bột Ngọt AJI-NO-MOTO® Hạt Lớn 1kg/Gói', 'itemUrl': 'https://www.lazada.vn/products/combo-2-goi-bot-ngot-aji-no-moto-hat-lon-1kggoi-i982542751-s3110240830.html', 'originPrice': None, 'salesPrice': None, 'promotion': None, 'skuInfo': None, 'tags': None, 'skuId': '3110240830', 'configSku': '982542751_VNAMZ', 'lastReviewer': None, 'isReportable': 0, 'reportStatus': None, 'reportDate': None, 'reportTimes': 0, 'upVotes': 0, 'downVotes': 0, 'isExternal': 0, 'replies': [], 'isSocialCommentsEnabled': True, 'comments': None, 'canEdit': False, 'isAlreadyRevised': None, 'submitInfo': None, 'imageHost': '//vn-live.slatic.net', 'showUploader': True, 'showVideoUploader': True, 'relevanceScore': 80, 'isCompleted': 1, 'avatar': 'https://lzd-live-vn-member.oss-ap-southeast-1.aliyuncs.com/99324006a59b457fa5b4ef0a47cef752_68560d793a32414c80824c6f303a38ff.jpg', 'reviewerType': None, 'replyAuthor': None, 'sourceReviewTags': None, 'reviewTags': None, 'contentTag': None, 'contentTags': None, 'canDownloadImage': None, 'commentsCount': 0, 'originalCountry': None, 'isCrossVenture': False, 'isAutoTranslated': None, 'viewCounts': 0, 'isGoodReview': False, 'categoryId': 10003322, 'imageCount': None, 'videoCount': None, 'followUpReviews': None, 'reviewBenefit': None, 'gradeItems': {'PRODUCT_REVIEW': 5, 'LOGISTICS_REVIEW': 5, 'SELLER_REVIEW': 5}, 'foreignContent': None, 'targetId': 982542751, 'targetType': 'item'}, {'reviewRateId': 416358351042751, 'reviewType': 'PRODUCT_REVIEW', 'tradeOrderId': None, 'boughtDate': '28 thg 3 2024', 'zonedBoughtDate': None, 'reviewStatus': 'approved', 'reviewTitle': None, 'reviewContent': 'Mùi vị:\\nsản phẩm tốt sản phẩm tốt sản phẩm tốt sản phẩm tốt sản phẩm tốt sản phẩm tốt sản  ', 'reviewContentList': [{'attribute': 'Mùi vị', 'content': 'sản phẩm tốt sản phẩm tốt sản phẩm tốt sản phẩm tốt sản phẩm tốt sản phẩm tốt sản', 'selected': None}], 'reviewTime': '30 thg 3 2024', 'zonedReviewTime': None, 'imageQCStatus': 'approved', 'images': [{'title': None, 'url': 'https://lzd-u.slatic.net/bcf02f448eda4fcebfad03a250f3a47b_a402fd5fc5134331a748cf49898e3617.jpg', 'sort': 0, 'uploadTime': None, 'legal': True, 'status': 'approved', 'checkedByPeople': None, 'width': 0, 'height': 0, 'size': 0}], 'videoId': None, 'isVideoReady': None, 'videoCoverUrl': None, 'reviewRateThreadId': None, 'mediaList': [{'reviewRateId': 416358351042751, 'reviewType': 'PRODUCT_REVIEW', 'mediaType': 1, 'coverUrl': 'https://lzd-u.slatic.net/bcf02f448eda4fcebfad03a250f3a47b_a402fd5fc5134331a748cf49898e3617.jpg', 'videoId': None, 'videoUrl': None, 'width': 0, 'height': 0, 'size': 0}], 'buyerId': 200041758853, 'buyerName': 'Kimhoa N.', 'buyerEmail': None, 'realBuyerName': None, 'isAnonymous': False, 'source': 'pop_up_write_review_next_review', 'clientType': '', 'rating': 5, 'originalRating': None, 'likeCount': 0, 'likeText': None, 'isMeLike': None, 'helpful': True, 'rejected': False, 'rejectionReason': None, 'resubmissionTooltip': None, 'resubmissionMessage': None, 'qcReasonId': None, 'qcDate': None, 'isPurchased': True, 'isGuest': False, 'sellerId': 200164296998, 'sellerName': None, 'isBuyerShowEnabled': True, 'qcScore': None, 'isQced': False, 'itemId': 982542751, 'itemPic': 'https://vn-live.slatic.net/p/395e2723573e82260634890f1ee6a79a.jpg', 'itemTitle': 'Combo 2 Gói Bột Ngọt AJI-NO-MOTO® Hạt Lớn 1kg/Gói', 'itemUrl': 'https://www.lazada.vn/products/combo-2-goi-bot-ngot-aji-no-moto-hat-lon-1kggoi-i982542751-s3110240830.html', 'originPrice': None, 'salesPrice': None, 'promotion': None, 'skuInfo': None, 'tags': None, 'skuId': '3110240830', 'configSku': '982542751_VNAMZ', 'lastReviewer': None, 'isReportable': 0, 'reportStatus': None, 'reportDate': None, 'reportTimes': 0, 'upVotes': 0, 'downVotes': 0, 'isExternal': 0, 'replies': [], 'isSocialCommentsEnabled': True, 'comments': None, 'canEdit': False, 'isAlreadyRevised': None, 'submitInfo': None, 'imageHost': '//vn-live.slatic.net', 'showUploader': True, 'showVideoUploader': True, 'relevanceScore': 80, 'isCompleted': 1, 'avatar': 'https://lh4.googleusercontent.com/-9biFAJ0XvQ4/AAAAAAAAAAI/AAAAAAAAAAA/ACHi3reawgeIePk5qyNapAi77uGDEE5hcQ/s96-c/photo.jpg', 'reviewerType': None, 'replyAuthor': None, 'sourceReviewTags': None, 'reviewTags': None, 'contentTag': None, 'contentTags': None, 'canDownloadImage': None, 'commentsCount': 0, 'originalCountry': None, 'isCrossVenture': False, 'isAutoTranslated': None, 'viewCounts': 0, 'isGoodReview': False, 'categoryId': 10003322, 'imageCount': None, 'videoCount': None, 'followUpReviews': None, 'reviewBenefit': None, 'gradeItems': {'PRODUCT_REVIEW': 5, 'LOGISTICS_REVIEW': 5, 'SELLER_REVIEW': 5}, 'foreignContent': None, 'targetId': 982542751, 'targetType': 'item'}, {'reviewRateId': 416356762542751, 'reviewType': 'PRODUCT_REVIEW', 'tradeOrderId': None, 'boughtDate': '28 thg 3 2024', 'zonedBoughtDate': None, 'reviewStatus': 'approved', 'reviewTitle': None, 'reviewContent': 'Một sản phẩm không thể thiếu trong mỗi căn bếp, Thêm sâu sắc và phong phú cho món ăn của bạn, Nâng cao hương vị của các công thức món ăn yêu thích của bạn,  ', 'reviewContentList': [{'attribute': '', 'content': 'Một sản phẩm không thể thiếu trong mỗi căn bếp, Thêm sâu sắc và phong phú cho món ăn của bạn, Nâng cao hương vị của các công thức món ăn yêu thích của bạn,', 'selected': None}], 'reviewTime': '30 thg 3 2024', 'zonedReviewTime': None, 'imageQCStatus': 'approved', 'images': [{'title': None, 'url': 'https://lzd-u.slatic.net/90752b70c89440a88abd3ee3f507f825_c72ca27ae7384be3ab9571c7eca2d77a.jpg', 'sort': 0, 'uploadTime': None, 'legal': True, 'status': 'approved', 'checkedByPeople': None, 'width': 0, 'height': 0, 'size': 0}], 'videoId': None, 'isVideoReady': None, 'videoCoverUrl': None, 'reviewRateThreadId': None, 'mediaList': [{'reviewRateId': 416356762542751, 'reviewType': 'PRODUCT_REVIEW', 'mediaType': 1, 'coverUrl': 'https://lzd-u.slatic.net/90752b70c89440a88abd3ee3f507f825_c72ca27ae7384be3ab9571c7eca2d77a.jpg', 'videoId': None, 'videoUrl': None, 'width': 0, 'height': 0, 'size': 0}], 'buyerId': 200050248773, 'buyerName': 'Hoa K.', 'buyerEmail': None, 'realBuyerName': None, 'isAnonymous': False, 'source': 'orderDetail', 'clientType': '', 'rating': 5, 'originalRating': None, 'likeCount': 0, 'likeText': None, 'isMeLike': None, 'helpful': True, 'rejected': False, 'rejectionReason': None, 'resubmissionTooltip': None, 'resubmissionMessage': None, 'qcReasonId': None, 'qcDate': None, 'isPurchased': True, 'isGuest': False, 'sellerId': 200164296998, 'sellerName': None, 'isBuyerShowEnabled': True, 'qcScore': None, 'isQced': False, 'itemId': 982542751, 'itemPic': 'https://vn-live.slatic.net/p/395e2723573e82260634890f1ee6a79a.jpg', 'itemTitle': 'Combo 2 Gói Bột Ngọt AJI-NO-MOTO® Hạt Lớn 1kg/Gói', 'itemUrl': 'https://www.lazada.vn/products/combo-2-goi-bot-ngot-aji-no-moto-hat-lon-1kggoi-i982542751-s3110240830.html', 'originPrice': None, 'salesPrice': None, 'promotion': None, 'skuInfo': None, 'tags': None, 'skuId': '3110240830', 'configSku': '982542751_VNAMZ', 'lastReviewer': None, 'isReportable': 0, 'reportStatus': None, 'reportDate': None, 'reportTimes': 0, 'upVotes': 0, 'downVotes': 0, 'isExternal': 0, 'replies': [], 'isSocialCommentsEnabled': True, 'comments': None, 'canEdit': False, 'isAlreadyRevised': None, 'submitInfo': None, 'imageHost': '//vn-live.slatic.net', 'showUploader': True, 'showVideoUploader': True, 'relevanceScore': 80, 'isCompleted': 1, 'avatar': 'https://lh6.googleusercontent.com/-lyrt8Z3tD3o/AAAAAAAAAAI/AAAAAAAAAAA/ACHi3rcUijkkPwoW8zWUUsj6c3SXhLElbQ/s96-c/photo.jpg', 'reviewerType': None, 'replyAuthor': None, 'sourceReviewTags': None, 'reviewTags': None, 'contentTag': None, 'contentTags': None, 'canDownloadImage': None, 'commentsCount': 0, 'originalCountry': None, 'isCrossVenture': False, 'isAutoTranslated': None, 'viewCounts': 0, 'isGoodReview': False, 'categoryId': 10003322, 'imageCount': None, 'videoCount': None, 'followUpReviews': None, 'reviewBenefit': None, 'gradeItems': {'PRODUCT_REVIEW': 5, 'LOGISTICS_REVIEW': 5, 'SELLER_REVIEW': 5}, 'foreignContent': None, 'targetId': 982542751, 'targetType': 'item'}, {'reviewRateId': 426004139942751, 'reviewType': 'PRODUCT_REVIEW', 'tradeOrderId': None, 'boughtDate': '09 thg 7 2024', 'zonedBoughtDate': None, 'reviewStatus': 'approved', 'reviewTitle': None, 'reviewContent': 'Thành phần an toàn và tự nhiên, Hương vị ngon và thơm lừng, Tăng cường hương vị cho mọi món ăn,  ', 'reviewContentList': [{'attribute': '', 'content': 'Thành phần an toàn và tự nhiên, Hương vị ngon và thơm lừng, Tăng cường hương vị cho mọi món ăn,', 'selected': None}], 'reviewTime': '23 thg 7 2024', 'zonedReviewTime': None, 'imageQCStatus': 'approved', 'images': [{'title': None, 'url': 'https://lzd-u.slatic.net/e934123f41b84e91abda829af59fd258_2_1721669066.901471.jpg', 'sort': 0, 'uploadTime': None, 'legal': True, 'status': 'approved', 'checkedByPeople': None, 'width': 0, 'height': 0, 'size': 0}], 'videoId': None, 'isVideoReady': None, 'videoCoverUrl': None, 'reviewRateThreadId': None, 'mediaList': [{'reviewRateId': 426004139942751, 'reviewType': 'PRODUCT_REVIEW', 'mediaType': 1, 'coverUrl': 'https://lzd-u.slatic.net/e934123f41b84e91abda829af59fd258_2_1721669066.901471.jpg', 'videoId': None, 'videoUrl': None, 'width': 0, 'height': 0, 'size': 0}], 'buyerId': 200614272094, 'buyerName': '9***8', 'buyerEmail': None, 'realBuyerName': None, 'isAnonymous': True, 'source': 'myreview', 'clientType': '', 'rating': 5, 'originalRating': None, 'likeCount': 0, 'likeText': None, 'isMeLike': None, 'helpful': True, 'rejected': False, 'rejectionReason': None, 'resubmissionTooltip': None, 'resubmissionMessage': None, 'qcReasonId': None, 'qcDate': None, 'isPurchased': True, 'isGuest': False, 'sellerId': 200164296998, 'sellerName': None, 'isBuyerShowEnabled': True, 'qcScore': None, 'isQced': False, 'itemId': 982542751, 'itemPic': 'https://vn-live.slatic.net/p/395e2723573e82260634890f1ee6a79a.jpg', 'itemTitle': 'Combo 2 Gói Bột Ngọt AJI-NO-MOTO® Hạt Lớn 1kg/Gói', 'itemUrl': 'https://www.lazada.vn/products/combo-2-goi-bot-ngot-aji-no-moto-hat-lon-1kggoi-i982542751-s3110240830.html', 'originPrice': None, 'salesPrice': None, 'promotion': None, 'skuInfo': None, 'tags': None, 'skuId': '3110240830', 'configSku': '982542751_VNAMZ', 'lastReviewer': None, 'isReportable': 0, 'reportStatus': None, 'reportDate': None, 'reportTimes': 0, 'upVotes': 0, 'downVotes': 0, 'isExternal': 0, 'replies': [], 'isSocialCommentsEnabled': True, 'comments': None, 'canEdit': False, 'isAlreadyRevised': None, 'submitInfo': None, 'imageHost': '//vn-live.slatic.net', 'showUploader': True, 'showVideoUploader': True, 'relevanceScore': 79.7, 'isCompleted': 1, 'avatar': None, 'reviewerType': None, 'replyAuthor': None, 'sourceReviewTags': None, 'reviewTags': None, 'contentTag': None, 'contentTags': None, 'canDownloadImage': None, 'commentsCount': 0, 'originalCountry': None, 'isCrossVenture': False, 'isAutoTranslated': None, 'viewCounts': 0, 'isGoodReview': False, 'categoryId': 10003322, 'imageCount': None, 'videoCount': None, 'followUpReviews': None, 'reviewBenefit': None, 'gradeItems': {'PRODUCT_REVIEW': 5, 'LOGISTICS_REVIEW': 5, 'SELLER_REVIEW': 5}, 'foreignContent': None, 'targetId': 982542751, 'targetType': 'item'}, {'reviewRateId': 421986143942751, 'reviewType': 'PRODUCT_REVIEW', 'tradeOrderId': None, 'boughtDate': '27 thg 5 2024', 'zonedBoughtDate': None, 'reviewStatus': 'approved', 'reviewTitle': None, 'reviewContent': 'Hương vị ngon và thơm lừng, Thành phần an toàn và tự nhiên, Đóng gói tiện lợi với nhiều gói,  ', 'reviewContentList': [{'attribute': '', 'content': 'Hương vị ngon và thơm lừng, Thành phần an toàn và tự nhiên, Đóng gói tiện lợi với nhiều gói,', 'selected': None}], 'reviewTime': '28 thg 5 2024', 'zonedReviewTime': None, 'imageQCStatus': 'approved', 'images': [{'title': None, 'url': 'https://lzd-u.slatic.net/95f1b3f7d48b424ba301db7759c8e5ae_8a08a7e4c37d438896d526eebd5bad24.jpg', 'sort': 0, 'uploadTime': None, 'legal': True, 'status': 'approved', 'checkedByPeople': None, 'width': 0, 'height': 0, 'size': 0}], 'videoId': None, 'isVideoReady': None, 'videoCoverUrl': None, 'reviewRateThreadId': None, 'mediaList': [{'reviewRateId': 421986143942751, 'reviewType': 'PRODUCT_REVIEW', 'mediaType': 1, 'coverUrl': 'https://lzd-u.slatic.net/95f1b3f7d48b424ba301db7759c8e5ae_8a08a7e4c37d438896d526eebd5bad24.jpg', 'videoId': None, 'videoUrl': None, 'width': 0, 'height': 0, 'size': 0}], 'buyerId': 200203071864, 'buyerName': 'Chí N.', 'buyerEmail': None, 'realBuyerName': None, 'isAnonymous': False, 'source': 'write_review_next_review', 'clientType': '', 'rating': 5, 'originalRating': None, 'likeCount': 0, 'likeText': None, 'isMeLike': None, 'helpful': True, 'rejected': False, 'rejectionReason': None, 'resubmissionTooltip': None, 'resubmissionMessage': None, 'qcReasonId': None, 'qcDate': None, 'isPurchased': True, 'isGuest': False, 'sellerId': 200164296998, 'sellerName': None, 'isBuyerShowEnabled': True, 'qcScore': None, 'isQced': False, 'itemId': 982542751, 'itemPic': 'https://vn-live.slatic.net/p/395e2723573e82260634890f1ee6a79a.jpg', 'itemTitle': 'Combo 2 Gói Bột Ngọt AJI-NO-MOTO® Hạt Lớn 1kg/Gói', 'itemUrl': 'https://www.lazada.vn/products/combo-2-goi-bot-ngot-aji-no-moto-hat-lon-1kggoi-i982542751-s3110240830.html', 'originPrice': None, 'salesPrice': None, 'promotion': None, 'skuInfo': None, 'tags': None, 'skuId': '3110240830', 'configSku': '982542751_VNAMZ', 'lastReviewer': None, 'isReportable': 0, 'reportStatus': None, 'reportDate': None, 'reportTimes': 0, 'upVotes': 0, 'downVotes': 0, 'isExternal': 0, 'replies': [], 'isSocialCommentsEnabled': True, 'comments': None, 'canEdit': False, 'isAlreadyRevised': None, 'submitInfo': None, 'imageHost': '//vn-live.slatic.net', 'showUploader': True, 'showVideoUploader': True, 'relevanceScore': 79.4, 'isCompleted': 1, 'avatar': None, 'reviewerType': None, 'replyAuthor': None, 'sourceReviewTags': None, 'reviewTags': None, 'contentTag': None, 'contentTags': None, 'canDownloadImage': None, 'commentsCount': 0, 'originalCountry': None, 'isCrossVenture': False, 'isAutoTranslated': None, 'viewCounts': 0, 'isGoodReview': False, 'categoryId': 10003322, 'imageCount': None, 'videoCount': None, 'followUpReviews': None, 'reviewBenefit': None, 'gradeItems': {'PRODUCT_REVIEW': 5, 'LOGISTICS_REVIEW': 5, 'SELLER_REVIEW': 5}, 'foreignContent': None, 'targetId': 982542751, 'targetType': 'item'}, {'reviewRateId': 424711677442751, 'reviewType': 'PRODUCT_REVIEW', 'tradeOrderId': None, 'boughtDate': '25 thg 6 2024', 'zonedBoughtDate': None, 'reviewStatus': 'approved', 'reviewTitle': None, 'reviewContent': 'Tăng cường hương vị cho mọi món ăn, Nâng cao kỹ năng nấu nướng của bạn lên một tầm cao mới,  ', 'reviewContentList': [{'attribute': '', 'content': 'Tăng cường hương vị cho mọi món ăn, Nâng cao kỹ năng nấu nướng của bạn lên một tầm cao mới,', 'selected': None}], 'reviewTime': '26 thg 6 2024', 'zonedReviewTime': None, 'imageQCStatus': 'approved', 'images': [{'title': None, 'url': 'https://lzd-u.slatic.net/97c5748a07b34bc8af34d84e7ebd72a7_cf7b12185a4247d1a1ce41d03658a813.jpg', 'sort': 0, 'uploadTime': None, 'legal': True, 'status': 'approved', 'checkedByPeople': None, 'width': 0, 'height': 0, 'size': 0}], 'videoId': None, 'isVideoReady': None, 'videoCoverUrl': None, 'reviewRateThreadId': None, 'mediaList': [{'reviewRateId': 424711677442751, 'reviewType': 'PRODUCT_REVIEW', 'mediaType': 1, 'coverUrl': 'https://lzd-u.slatic.net/97c5748a07b34bc8af34d84e7ebd72a7_cf7b12185a4247d1a1ce41d03658a813.jpg', 'videoId': None, 'videoUrl': None, 'width': 0, 'height': 0, 'size': 0}], 'buyerId': 200041758853, 'buyerName': 'Kimhoa N.', 'buyerEmail': None, 'realBuyerName': None, 'isAnonymous': False, 'source': 'orderDetail', 'clientType': '', 'rating': 5, 'originalRating': None, 'likeCount': 0, 'likeText': None, 'isMeLike': None, 'helpful': True, 'rejected': False, 'rejectionReason': None, 'resubmissionTooltip': None, 'resubmissionMessage': None, 'qcReasonId': None, 'qcDate': None, 'isPurchased': True, 'isGuest': False, 'sellerId': 200164296998, 'sellerName': None, 'isBuyerShowEnabled': True, 'qcScore': None, 'isQced': False, 'itemId': 982542751, 'itemPic': 'https://vn-live.slatic.net/p/395e2723573e82260634890f1ee6a79a.jpg', 'itemTitle': 'Combo 2 Gói Bột Ngọt AJI-NO-MOTO® Hạt Lớn 1kg/Gói', 'itemUrl': 'https://www.lazada.vn/products/combo-2-goi-bot-ngot-aji-no-moto-hat-lon-1kggoi-i982542751-s3110240830.html', 'originPrice': None, 'salesPrice': None, 'promotion': None, 'skuInfo': None, 'tags': None, 'skuId': '3110240830', 'configSku': '982542751_VNAMZ', 'lastReviewer': None, 'isReportable': 0, 'reportStatus': None, 'reportDate': None, 'reportTimes': 0, 'upVotes': 0, 'downVotes': 0, 'isExternal': 0, 'replies': [], 'isSocialCommentsEnabled': True, 'comments': None, 'canEdit': False, 'isAlreadyRevised': None, 'submitInfo': None, 'imageHost': '//vn-live.slatic.net', 'showUploader': True, 'showVideoUploader': True, 'relevanceScore': 79.3, 'isCompleted': 1, 'avatar': 'https://lh4.googleusercontent.com/-9biFAJ0XvQ4/AAAAAAAAAAI/AAAAAAAAAAA/ACHi3reawgeIePk5qyNapAi77uGDEE5hcQ/s96-c/photo.jpg', 'reviewerType': None, 'replyAuthor': None, 'sourceReviewTags': None, 'reviewTags': None, 'contentTag': None, 'contentTags': None, 'canDownloadImage': None, 'commentsCount': 0, 'originalCountry': None, 'isCrossVenture': False, 'isAutoTranslated': None, 'viewCounts': 0, 'isGoodReview': False, 'categoryId': 10003322, 'imageCount': None, 'videoCount': None, 'followUpReviews': None, 'reviewBenefit': None, 'gradeItems': {'PRODUCT_REVIEW': 5, 'LOGISTICS_REVIEW': 5, 'SELLER_REVIEW': 5}, 'foreignContent': None, 'targetId': 982542751, 'targetType': 'item'}, {'reviewRateId': 426110945042751, 'reviewType': 'PRODUCT_REVIEW', 'tradeOrderId': None, 'boughtDate': '09 thg 7 2024', 'zonedBoughtDate': None, 'reviewStatus': 'approved', 'reviewTitle': None, 'reviewContent': 'Nâng cao kỹ năng nấu nướng của bạn lên một tầm cao mới, Đóng gói tiện lợi với nhiều gói,  ', 'reviewContentList': [{'attribute': '', 'content': 'Nâng cao kỹ năng nấu nướng của bạn lên một tầm cao mới, Đóng gói tiện lợi với nhiều gói,', 'selected': None}], 'reviewTime': '12 thg 7 2024', 'zonedReviewTime': None, 'imageQCStatus': 'approved', 'images': [{'title': None, 'url': 'https://lzd-u.slatic.net/0a6ef0777a444a0980e4f6eb2a4672d2_ef7aa9cd474c473e89233c7b1bdd9e6a.jpg', 'sort': 0, 'uploadTime': None, 'legal': True, 'status': 'approved', 'checkedByPeople': None, 'width': 0, 'height': 0, 'size': 0}], 'videoId': None, 'isVideoReady': None, 'videoCoverUrl': None, 'reviewRateThreadId': None, 'mediaList': [{'reviewRateId': 426110945042751, 'reviewType': 'PRODUCT_REVIEW', 'mediaType': 1, 'coverUrl': 'https://lzd-u.slatic.net/0a6ef0777a444a0980e4f6eb2a4672d2_ef7aa9cd474c473e89233c7b1bdd9e6a.jpg', 'videoId': None, 'videoUrl': None, 'width': 0, 'height': 0, 'size': 0}], 'buyerId': 200185452856, 'buyerName': 'KIM N.', 'buyerEmail': None, 'realBuyerName': None, 'isAnonymous': False, 'source': 'write_review_next_review', 'clientType': '', 'rating': 5, 'originalRating': None, 'likeCount': 0, 'likeText': None, 'isMeLike': None, 'helpful': True, 'rejected': False, 'rejectionReason': None, 'resubmissionTooltip': None, 'resubmissionMessage': None, 'qcReasonId': None, 'qcDate': None, 'isPurchased': True, 'isGuest': False, 'sellerId': 200164296998, 'sellerName': None, 'isBuyerShowEnabled': True, 'qcScore': None, 'isQced': False, 'itemId': 982542751, 'itemPic': 'https://vn-live.slatic.net/p/395e2723573e82260634890f1ee6a79a.jpg', 'itemTitle': 'Combo 2 Gói Bột Ngọt AJI-NO-MOTO® Hạt Lớn 1kg/Gói', 'itemUrl': 'https://www.lazada.vn/products/combo-2-goi-bot-ngot-aji-no-moto-hat-lon-1kggoi-i982542751-s3110240830.html', 'originPrice': None, 'salesPrice': None, 'promotion': None, 'skuInfo': None, 'tags': None, 'skuId': '3110240830', 'configSku': '982542751_VNAMZ', 'lastReviewer': None, 'isReportable': 0, 'reportStatus': None, 'reportDate': None, 'reportTimes': 0, 'upVotes': 0, 'downVotes': 0, 'isExternal': 0, 'replies': [], 'isSocialCommentsEnabled': True, 'comments': None, 'canEdit': False, 'isAlreadyRevised': None, 'submitInfo': None, 'imageHost': '//vn-live.slatic.net', 'showUploader': True, 'showVideoUploader': True, 'relevanceScore': 79, 'isCompleted': 1, 'avatar': 'https://lzd-live-vn-member.oss-ap-southeast-1.aliyuncs.com/02b2b45715674128b15024a8da3eb867_3209040dad9f4dbfbb745c02075ef9b6.jpg', 'reviewerType': None, 'replyAuthor': None, 'sourceReviewTags': None, 'reviewTags': None, 'contentTag': None, 'contentTags': None, 'canDownloadImage': None, 'commentsCount': 0, 'originalCountry': None, 'isCrossVenture': False, 'isAutoTranslated': None, 'viewCounts': 0, 'isGoodReview': False, 'categoryId': 10003322, 'imageCount': None, 'videoCount': None, 'followUpReviews': None, 'reviewBenefit': None, 'gradeItems': {'PRODUCT_REVIEW': 5, 'LOGISTICS_REVIEW': 5, 'SELLER_REVIEW': 5}, 'foreignContent': None, 'targetId': 982542751, 'targetType': 'item'}, {'reviewRateId': 426113013842751, 'reviewType': 'PRODUCT_REVIEW', 'tradeOrderId': None, 'boughtDate': '09 thg 7 2024', 'zonedBoughtDate': None, 'reviewStatus': 'approved', 'reviewTitle': None, 'reviewContent': 'Tăng cường hương vị cho mọi món ăn, Một sản phẩm không thể thiếu trong mỗi căn bếp,  ', 'reviewContentList': [{'attribute': '', 'content': 'Tăng cường hương vị cho mọi món ăn, Một sản phẩm không thể thiếu trong mỗi căn bếp,', 'selected': None}], 'reviewTime': '12 thg 7 2024', 'zonedReviewTime': None, 'imageQCStatus': 'approved', 'images': [{'title': None, 'url': 'https://lzd-u.slatic.net/0a6ef0777a444a0980e4f6eb2a4672d2_ca41d87526ca4fe9a1f16dcfeb74d4ca.jpg', 'sort': 0, 'uploadTime': None, 'legal': True, 'status': 'approved', 'checkedByPeople': None, 'width': 0, 'height': 0, 'size': 0}], 'videoId': None, 'isVideoReady': None, 'videoCoverUrl': None, 'reviewRateThreadId': None, 'mediaList': [{'reviewRateId': 426113013842751, 'reviewType': 'PRODUCT_REVIEW', 'mediaType': 1, 'coverUrl': 'https://lzd-u.slatic.net/0a6ef0777a444a0980e4f6eb2a4672d2_ca41d87526ca4fe9a1f16dcfeb74d4ca.jpg', 'videoId': None, 'videoUrl': None, 'width': 0, 'height': 0, 'size': 0}], 'buyerId': 200185452856, 'buyerName': 'KIM N.', 'buyerEmail': None, 'realBuyerName': None, 'isAnonymous': False, 'source': 'write_review_next_review', 'clientType': '', 'rating': 5, 'originalRating': None, 'likeCount': 0, 'likeText': None, 'isMeLike': None, 'helpful': True, 'rejected': False, 'rejectionReason': None, 'resubmissionTooltip': None, 'resubmissionMessage': None, 'qcReasonId': None, 'qcDate': None, 'isPurchased': True, 'isGuest': False, 'sellerId': 200164296998, 'sellerName': None, 'isBuyerShowEnabled': True, 'qcScore': None, 'isQced': False, 'itemId': 982542751, 'itemPic': 'https://vn-live.slatic.net/p/395e2723573e82260634890f1ee6a79a.jpg', 'itemTitle': 'Combo 2 Gói Bột Ngọt AJI-NO-MOTO® Hạt Lớn 1kg/Gói', 'itemUrl': 'https://www.lazada.vn/products/combo-2-goi-bot-ngot-aji-no-moto-hat-lon-1kggoi-i982542751-s3110240830.html', 'originPrice': None, 'salesPrice': None, 'promotion': None, 'skuInfo': None, 'tags': None, 'skuId': '3110240830', 'configSku': '982542751_VNAMZ', 'lastReviewer': None, 'isReportable': 0, 'reportStatus': None, 'reportDate': None, 'reportTimes': 0, 'upVotes': 0, 'downVotes': 0, 'isExternal': 0, 'replies': [], 'isSocialCommentsEnabled': True, 'comments': None, 'canEdit': False, 'isAlreadyRevised': None, 'submitInfo': None, 'imageHost': '//vn-live.slatic.net', 'showUploader': True, 'showVideoUploader': True, 'relevanceScore': 78.5, 'isCompleted': 1, 'avatar': 'https://lzd-live-vn-member.oss-ap-southeast-1.aliyuncs.com/02b2b45715674128b15024a8da3eb867_3209040dad9f4dbfbb745c02075ef9b6.jpg', 'reviewerType': None, 'replyAuthor': None, 'sourceReviewTags': None, 'reviewTags': None, 'contentTag': None, 'contentTags': None, 'canDownloadImage': None, 'commentsCount': 0, 'originalCountry': None, 'isCrossVenture': False, 'isAutoTranslated': None, 'viewCounts': 0, 'isGoodReview': False, 'categoryId': 10003322, 'imageCount': None, 'videoCount': None, 'followUpReviews': None, 'reviewBenefit': None, 'gradeItems': {'PRODUCT_REVIEW': 5, 'LOGISTICS_REVIEW': 5, 'SELLER_REVIEW': 5}, 'foreignContent': None, 'targetId': 982542751, 'targetType': 'item'}, {'reviewRateId': 421988815842751, 'reviewType': 'PRODUCT_REVIEW', 'tradeOrderId': None, 'boughtDate': '26 thg 5 2024', 'zonedBoughtDate': None, 'reviewStatus': 'approved', 'reviewTitle': None, 'reviewContent': 'Một sản phẩm không thể thiếu trong mỗi căn bếp, Tăng cường hương vị cho mọi món ăn,  ', 'reviewContentList': [{'attribute': '', 'content': 'Một sản phẩm không thể thiếu trong mỗi căn bếp, Tăng cường hương vị cho mọi món ăn,', 'selected': None}], 'reviewTime': '28 thg 5 2024', 'zonedReviewTime': None, 'imageQCStatus': 'approved', 'images': [{'title': None, 'url': 'https://lzd-u.slatic.net/999ed684ca3d4cdcabb97ad70bd343ed_3_1716865997.857203.jpg', 'sort': 0, 'uploadTime': None, 'legal': True, 'status': 'approved', 'checkedByPeople': None, 'width': 0, 'height': 0, 'size': 0}], 'videoId': None, 'isVideoReady': None, 'videoCoverUrl': None, 'reviewRateThreadId': None, 'mediaList': [{'reviewRateId': 421988815842751, 'reviewType': 'PRODUCT_REVIEW', 'mediaType': 1, 'coverUrl': 'https://lzd-u.slatic.net/999ed684ca3d4cdcabb97ad70bd343ed_3_1716865997.857203.jpg', 'videoId': None, 'videoUrl': None, 'width': 0, 'height': 0, 'size': 0}], 'buyerId': 200030352460, 'buyerName': 'Quách H.', 'buyerEmail': None, 'realBuyerName': None, 'isAnonymous': False, 'source': 'write_review_next_review', 'clientType': '', 'rating': 5, 'originalRating': None, 'likeCount': 0, 'likeText': None, 'isMeLike': None, 'helpful': True, 'rejected': False, 'rejectionReason': None, 'resubmissionTooltip': None, 'resubmissionMessage': None, 'qcReasonId': None, 'qcDate': None, 'isPurchased': True, 'isGuest': False, 'sellerId': 200164296998, 'sellerName': None, 'isBuyerShowEnabled': True, 'qcScore': None, 'isQced': False, 'itemId': 982542751, 'itemPic': 'https://vn-live.slatic.net/p/395e2723573e82260634890f1ee6a79a.jpg', 'itemTitle': 'Combo 2 Gói Bột Ngọt AJI-NO-MOTO® Hạt Lớn 1kg/Gói', 'itemUrl': 'https://www.lazada.vn/products/combo-2-goi-bot-ngot-aji-no-moto-hat-lon-1kggoi-i982542751-s3110240830.html', 'originPrice': None, 'salesPrice': None, 'promotion': None, 'skuInfo': None, 'tags': None, 'skuId': '3110240830', 'configSku': '982542751_VNAMZ', 'lastReviewer': None, 'isReportable': 0, 'reportStatus': None, 'reportDate': None, 'reportTimes': 0, 'upVotes': 0, 'downVotes': 0, 'isExternal': 0, 'replies': [], 'isSocialCommentsEnabled': True, 'comments': None, 'canEdit': False, 'isAlreadyRevised': None, 'submitInfo': None, 'imageHost': '//vn-live.slatic.net', 'showUploader': True, 'showVideoUploader': True, 'relevanceScore': 78.5, 'isCompleted': 1, 'avatar': None, 'reviewerType': None, 'replyAuthor': None, 'sourceReviewTags': None, 'reviewTags': None, 'contentTag': None, 'contentTags': None, 'canDownloadImage': None, 'commentsCount': 0, 'originalCountry': None, 'isCrossVenture': False, 'isAutoTranslated': None, 'viewCounts': 0, 'isGoodReview': False, 'categoryId': 10003322, 'imageCount': None, 'videoCount': None, 'followUpReviews': None, 'reviewBenefit': None, 'gradeItems': {'PRODUCT_REVIEW': 5, 'LOGISTICS_REVIEW': 5, 'SELLER_REVIEW': 5}, 'foreignContent': None, 'targetId': 982542751, 'targetType': 'item'}, {'reviewRateId': 416046516142751, 'reviewType': 'PRODUCT_REVIEW', 'tradeOrderId': None, 'boughtDate': '26 thg 3 2024', 'zonedBoughtDate': None, 'reviewStatus': 'approved', 'reviewTitle': None, 'reviewContent': 'Mùi vị:sản phẩm tốt sản phẩm tốt sản phẩm tốt sản phẩm tốt sản phẩm \\n ', 'reviewContentList': [{'attribute': 'Mùi vị', 'content': 'sản phẩm tốt sản phẩm tốt sản phẩm tốt sản phẩm tốt sản phẩm', 'selected': None}], 'reviewTime': '28 thg 3 2024', 'zonedReviewTime': None, 'imageQCStatus': 'approved', 'images': [{'title': None, 'url': 'https://lzd-u.slatic.net/93e329827d3f4b19b5aa14d4ab962a4a_d5c76ad874414202add4f836b8efef0b.jpg', 'sort': 0, 'uploadTime': None, 'legal': True, 'status': 'approved', 'checkedByPeople': None, 'width': 0, 'height': 0, 'size': 0}], 'videoId': None, 'isVideoReady': None, 'videoCoverUrl': None, 'reviewRateThreadId': None, 'mediaList': [{'reviewRateId': 416046516142751, 'reviewType': 'PRODUCT_REVIEW', 'mediaType': 1, 'coverUrl': 'https://lzd-u.slatic.net/93e329827d3f4b19b5aa14d4ab962a4a_d5c76ad874414202add4f836b8efef0b.jpg', 'videoId': None, 'videoUrl': None, 'width': 0, 'height': 0, 'size': 0}], 'buyerId': 200041758853, 'buyerName': 'Kimhoa N.', 'buyerEmail': None, 'realBuyerName': None, 'isAnonymous': False, 'source': 'write_review_next_review', 'clientType': '', 'rating': 5, 'originalRating': None, 'likeCount': 0, 'likeText': None, 'isMeLike': None, 'helpful': True, 'rejected': False, 'rejectionReason': None, 'resubmissionTooltip': None, 'resubmissionMessage': None, 'qcReasonId': None, 'qcDate': None, 'isPurchased': True, 'isGuest': False, 'sellerId': 200164296998, 'sellerName': None, 'isBuyerShowEnabled': True, 'qcScore': None, 'isQced': False, 'itemId': 982542751, 'itemPic': 'https://vn-live.slatic.net/p/395e2723573e82260634890f1ee6a79a.jpg', 'itemTitle': 'Combo 2 Gói Bột Ngọt AJI-NO-MOTO® Hạt Lớn 1kg/Gói', 'itemUrl': 'https://www.lazada.vn/products/combo-2-goi-bot-ngot-aji-no-moto-hat-lon-1kggoi-i982542751-s3110240830.html', 'originPrice': None, 'salesPrice': None, 'promotion': None, 'skuInfo': None, 'tags': None, 'skuId': '3110240830', 'configSku': '982542751_VNAMZ', 'lastReviewer': None, 'isReportable': 0, 'reportStatus': None, 'reportDate': None, 'reportTimes': 0, 'upVotes': 0, 'downVotes': 0, 'isExternal': 0, 'replies': [], 'isSocialCommentsEnabled': True, 'comments': None, 'canEdit': False, 'isAlreadyRevised': None, 'submitInfo': None, 'imageHost': '//vn-live.slatic.net', 'showUploader': True, 'showVideoUploader': True, 'relevanceScore': 78.4, 'isCompleted': 1, 'avatar': 'https://lh4.googleusercontent.com/-9biFAJ0XvQ4/AAAAAAAAAAI/AAAAAAAAAAA/ACHi3reawgeIePk5qyNapAi77uGDEE5hcQ/s96-c/photo.jpg', 'reviewerType': None, 'replyAuthor': None, 'sourceReviewTags': None, 'reviewTags': None, 'contentTag': None, 'contentTags': None, 'canDownloadImage': None, 'commentsCount': 0, 'originalCountry': None, 'isCrossVenture': False, 'isAutoTranslated': None, 'viewCounts': 0, 'isGoodReview': False, 'categoryId': 10003322, 'imageCount': None, 'videoCount': None, 'followUpReviews': None, 'reviewBenefit': None, 'gradeItems': {'PRODUCT_REVIEW': 5, 'LOGISTICS_REVIEW': 5, 'SELLER_REVIEW': 5}, 'foreignContent': None, 'targetId': 982542751, 'targetType': 'item'}, {'reviewRateId': 430038714342751, 'reviewType': 'PRODUCT_REVIEW', 'tradeOrderId': None, 'boughtDate': '26 thg 8 2024', 'zonedBoughtDate': None, 'reviewStatus': 'approved', 'reviewTitle': None, 'reviewContent': 'Giao hàng nhanh chóng, chất lượng sản phẩm tuyệt vời, đóng gói sản phẩm chắc chắn  ', 'reviewContentList': [{'attribute': '', 'content': 'Giao hàng nhanh chóng, chất lượng sản phẩm tuyệt vời, đóng gói sản phẩm chắc chắn', 'selected': None}], 'reviewTime': '2 tuần trước', 'zonedReviewTime': None, 'imageQCStatus': 'approved', 'images': [{'title': None, 'url': 'https://lzd-u.slatic.net/28f6da46e44647daad332b5ac1048b10_1_1724854005.777498.jpg', 'sort': 0, 'uploadTime': None, 'legal': True, 'status': 'approved', 'checkedByPeople': None, 'width': 0, 'height': 0, 'size': 0}], 'videoId': None, 'isVideoReady': None, 'videoCoverUrl': None, 'reviewRateThreadId': None, 'mediaList': [{'reviewRateId': 430038714342751, 'reviewType': 'PRODUCT_REVIEW', 'mediaType': 1, 'coverUrl': 'https://lzd-u.slatic.net/28f6da46e44647daad332b5ac1048b10_1_1724854005.777498.jpg', 'videoId': None, 'videoUrl': None, 'width': 0, 'height': 0, 'size': 0}], 'buyerId': 200543920667, 'buyerName': 'Lê G.', 'buyerEmail': None, 'realBuyerName': None, 'isAnonymous': False, 'source': 'orderDetail', 'clientType': '', 'rating': 5, 'originalRating': None, 'likeCount': 0, 'likeText': None, 'isMeLike': None, 'helpful': True, 'rejected': False, 'rejectionReason': None, 'resubmissionTooltip': None, 'resubmissionMessage': None, 'qcReasonId': None, 'qcDate': None, 'isPurchased': True, 'isGuest': False, 'sellerId': 200164296998, 'sellerName': None, 'isBuyerShowEnabled': True, 'qcScore': None, 'isQced': False, 'itemId': 982542751, 'itemPic': 'https://vn-live.slatic.net/p/395e2723573e82260634890f1ee6a79a.jpg', 'itemTitle': 'Combo 2 Gói Bột Ngọt AJI-NO-MOTO® Hạt Lớn 1kg/Gói', 'itemUrl': 'https://www.lazada.vn/products/combo-2-goi-bot-ngot-aji-no-moto-hat-lon-1kggoi-i982542751-s3110240830.html', 'originPrice': None, 'salesPrice': None, 'promotion': None, 'skuInfo': None, 'tags': None, 'skuId': '3110240830', 'configSku': '982542751_VNAMZ', 'lastReviewer': None, 'isReportable': 0, 'reportStatus': None, 'reportDate': None, 'reportTimes': 0, 'upVotes': 0, 'downVotes': 0, 'isExternal': 0, 'replies': [], 'isSocialCommentsEnabled': True, 'comments': None, 'canEdit': True, 'isAlreadyRevised': None, 'submitInfo': None, 'imageHost': '//vn-live.slatic.net', 'showUploader': True, 'showVideoUploader': True, 'relevanceScore': 78.3, 'isCompleted': 1, 'avatar': None, 'reviewerType': None, 'replyAuthor': None, 'sourceReviewTags': None, 'reviewTags': None, 'contentTag': None, 'contentTags': None, 'canDownloadImage': None, 'commentsCount': 0, 'originalCountry': None, 'isCrossVenture': False, 'isAutoTranslated': None, 'viewCounts': 0, 'isGoodReview': False, 'categoryId': 10003322, 'imageCount': None, 'videoCount': None, 'followUpReviews': None, 'reviewBenefit': None, 'gradeItems': {'PRODUCT_REVIEW': 5, 'LOGISTICS_REVIEW': 5, 'SELLER_REVIEW': 5}, 'foreignContent': None, 'targetId': 982542751, 'targetType': 'item'}, {'reviewRateId': 415942737142751, 'reviewType': 'PRODUCT_REVIEW', 'tradeOrderId': None, 'boughtDate': '25 thg 3 2024', 'zonedBoughtDate': None, 'reviewStatus': 'approved', 'reviewTitle': None, 'reviewContent': 'săn được giá rẻ hơn ngoài thị trường, giao hàng nhanh chóng, đóng gói chắc chắn  ', 'reviewContentList': [{'attribute': '', 'content': 'săn được giá rẻ hơn ngoài thị trường, giao hàng nhanh chóng, đóng gói chắc chắn', 'selected': None}], 'reviewTime': '02 thg 4 2024', 'zonedReviewTime': None, 'imageQCStatus': 'approved', 'images': [{'title': None, 'url': 'https://lzd-u.slatic.net/2a672a18caf84fd6b96754dd907700fa_425fb682935543c2a6354d03ce5f1a16.jpg', 'sort': 0, 'uploadTime': None, 'legal': True, 'status': 'approved', 'checkedByPeople': None, 'width': 0, 'height': 0, 'size': 0}], 'videoId': None, 'isVideoReady': None, 'videoCoverUrl': None, 'reviewRateThreadId': None, 'mediaList': [{'reviewRateId': 415942737142751, 'reviewType': 'PRODUCT_REVIEW', 'mediaType': 1, 'coverUrl': 'https://lzd-u.slatic.net/2a672a18caf84fd6b96754dd907700fa_425fb682935543c2a6354d03ce5f1a16.jpg', 'videoId': None, 'videoUrl': None, 'width': 0, 'height': 0, 'size': 0}], 'buyerId': 200071989900, 'buyerName': 'N***.', 'buyerEmail': None, 'realBuyerName': None, 'isAnonymous': True, 'source': 'orderDetail', 'clientType': '', 'rating': 5, 'originalRating': None, 'likeCount': 0, 'likeText': None, 'isMeLike': None, 'helpful': True, 'rejected': False, 'rejectionReason': None, 'resubmissionTooltip': None, 'resubmissionMessage': None, 'qcReasonId': None, 'qcDate': None, 'isPurchased': True, 'isGuest': False, 'sellerId': 200164296998, 'sellerName': None, 'isBuyerShowEnabled': True, 'qcScore': None, 'isQced': False, 'itemId': 982542751, 'itemPic': 'https://vn-live.slatic.net/p/395e2723573e82260634890f1ee6a79a.jpg', 'itemTitle': 'Combo 2 Gói Bột Ngọt AJI-NO-MOTO® Hạt Lớn 1kg/Gói', 'itemUrl': 'https://www.lazada.vn/products/combo-2-goi-bot-ngot-aji-no-moto-hat-lon-1kggoi-i982542751-s3110240830.html', 'originPrice': None, 'salesPrice': None, 'promotion': None, 'skuInfo': None, 'tags': None, 'skuId': '3110240830', 'configSku': '982542751_VNAMZ', 'lastReviewer': None, 'isReportable': 0, 'reportStatus': None, 'reportDate': None, 'reportTimes': 0, 'upVotes': 0, 'downVotes': 0, 'isExternal': 0, 'replies': [], 'isSocialCommentsEnabled': True, 'comments': None, 'canEdit': False, 'isAlreadyRevised': None, 'submitInfo': None, 'imageHost': '//vn-live.slatic.net', 'showUploader': True, 'showVideoUploader': True, 'relevanceScore': 78.1, 'isCompleted': 1, 'avatar': None, 'reviewerType': None, 'replyAuthor': None, 'sourceReviewTags': None, 'reviewTags': None, 'contentTag': None, 'contentTags': None, 'canDownloadImage': None, 'commentsCount': 0, 'originalCountry': None, 'isCrossVenture': False, 'isAutoTranslated': None, 'viewCounts': 0, 'isGoodReview': False, 'categoryId': 10003322, 'imageCount': None, 'videoCount': None, 'followUpReviews': None, 'reviewBenefit': None, 'gradeItems': {'PRODUCT_REVIEW': 5, 'LOGISTICS_REVIEW': 5, 'SELLER_REVIEW': 5}, 'foreignContent': None, 'targetId': 982542751, 'targetType': 'item'}, {'reviewRateId': 421984180942751, 'reviewType': 'PRODUCT_REVIEW', 'tradeOrderId': None, 'boughtDate': '26 thg 5 2024', 'zonedBoughtDate': None, 'reviewStatus': 'approved', 'reviewTitle': None, 'reviewContent': 'Một sản phẩm không thể thiếu trong mỗi căn bếp, Hương vị ngon và thơm lừng,  ', 'reviewContentList': [{'attribute': '', 'content': 'Một sản phẩm không thể thiếu trong mỗi căn bếp, Hương vị ngon và thơm lừng,', 'selected': None}], 'reviewTime': '28 thg 5 2024', 'zonedReviewTime': None, 'imageQCStatus': 'approved', 'images': [{'title': None, 'url': 'https://lzd-u.slatic.net/edf0c3066e11401db9ab629be0fe04b3_c335142b8b84409e8e8a8babafbbab70.jpg', 'sort': 0, 'uploadTime': None, 'legal': True, 'status': 'approved', 'checkedByPeople': None, 'width': 0, 'height': 0, 'size': 0}], 'videoId': None, 'isVideoReady': None, 'videoCoverUrl': None, 'reviewRateThreadId': None, 'mediaList': [{'reviewRateId': 421984180942751, 'reviewType': 'PRODUCT_REVIEW', 'mediaType': 1, 'coverUrl': 'https://lzd-u.slatic.net/edf0c3066e11401db9ab629be0fe04b3_c335142b8b84409e8e8a8babafbbab70.jpg', 'videoId': None, 'videoUrl': None, 'width': 0, 'height': 0, 'size': 0}], 'buyerId': 3408993, 'buyerName': 'Hoàng K.', 'buyerEmail': None, 'realBuyerName': None, 'isAnonymous': False, 'source': 'pop_up_write_review_next_review', 'clientType': '', 'rating': 5, 'originalRating': None, 'likeCount': 0, 'likeText': None, 'isMeLike': None, 'helpful': True, 'rejected': False, 'rejectionReason': None, 'resubmissionTooltip': None, 'resubmissionMessage': None, 'qcReasonId': None, 'qcDate': None, 'isPurchased': True, 'isGuest': False, 'sellerId': 200164296998, 'sellerName': None, 'isBuyerShowEnabled': True, 'qcScore': None, 'isQced': False, 'itemId': 982542751, 'itemPic': 'https://vn-live.slatic.net/p/395e2723573e82260634890f1ee6a79a.jpg', 'itemTitle': 'Combo 2 Gói Bột Ngọt AJI-NO-MOTO® Hạt Lớn 1kg/Gói', 'itemUrl': 'https://www.lazada.vn/products/combo-2-goi-bot-ngot-aji-no-moto-hat-lon-1kggoi-i982542751-s3110240830.html', 'originPrice': None, 'salesPrice': None, 'promotion': None, 'skuInfo': None, 'tags': None, 'skuId': '3110240830', 'configSku': '982542751_VNAMZ', 'lastReviewer': None, 'isReportable': 0, 'reportStatus': None, 'reportDate': None, 'reportTimes': 0, 'upVotes': 0, 'downVotes': 0, 'isExternal': 0, 'replies': [], 'isSocialCommentsEnabled': True, 'comments': None, 'canEdit': False, 'isAlreadyRevised': None, 'submitInfo': None, 'imageHost': '//vn-live.slatic.net', 'showUploader': True, 'showVideoUploader': True, 'relevanceScore': 77.7, 'isCompleted': 1, 'avatar': 'https://lh4.googleusercontent.com/-OcckaN2TmpY/AAAAAAAAAAI/AAAAAAAAAAA/APUIFaPdLsJv3wyoH88DcEtmh_3q7r1JDg/s96-c/photo.jpg', 'reviewerType': None, 'replyAuthor': None, 'sourceReviewTags': None, 'reviewTags': None, 'contentTag': None, 'contentTags': None, 'canDownloadImage': None, 'commentsCount': 0, 'originalCountry': None, 'isCrossVenture': False, 'isAutoTranslated': None, 'viewCounts': 0, 'isGoodReview': False, 'categoryId': 10003322, 'imageCount': None, 'videoCount': None, 'followUpReviews': None, 'reviewBenefit': None, 'gradeItems': {'PRODUCT_REVIEW': 5, 'LOGISTICS_REVIEW': 5, 'SELLER_REVIEW': 5}, 'foreignContent': None, 'targetId': 982542751, 'targetType': 'item'}, {'reviewRateId': 415826174242751, 'reviewType': 'PRODUCT_REVIEW', 'tradeOrderId': None, 'boughtDate': '25 thg 3 2024', 'zonedBoughtDate': None, 'reviewStatus': 'approved', 'reviewTitle': None, 'reviewContent': '  tốt\\nGiao hàng nhanh. Giá cả phải chăng\\nThêm vào giỏ hàng thêm ngàn cảm xúc ', 'reviewContentList': [{'attribute': '', 'content': 'tốt\\nGiao hàng nhanh. Giá cả phải chăng\\nThêm vào giỏ hàng thêm ngàn cảm xúc', 'selected': None}], 'reviewTime': '26 thg 3 2024', 'zonedReviewTime': None, 'imageQCStatus': 'approved', 'images': [{'title': None, 'url': 'https://lzd-u.slatic.net/f284c746205742a1b8b4c96c2ede9ba7_2_1711463194.460475.jpg', 'sort': 0, 'uploadTime': None, 'legal': True, 'status': 'approved', 'checkedByPeople': None, 'width': 0, 'height': 0, 'size': 0}], 'videoId': None, 'isVideoReady': None, 'videoCoverUrl': None, 'reviewRateThreadId': None, 'mediaList': [{'reviewRateId': 415826174242751, 'reviewType': 'PRODUCT_REVIEW', 'mediaType': 1, 'coverUrl': 'https://lzd-u.slatic.net/f284c746205742a1b8b4c96c2ede9ba7_2_1711463194.460475.jpg', 'videoId': None, 'videoUrl': None, 'width': 0, 'height': 0, 'size': 0}], 'buyerId': 200036994838, 'buyerName': 'S***n', 'buyerEmail': None, 'realBuyerName': None, 'isAnonymous': True, 'source': 'write_review_next_review', 'clientType': '', 'rating': 5, 'originalRating': None, 'likeCount': 0, 'likeText': None, 'isMeLike': None, 'helpful': True, 'rejected': False, 'rejectionReason': None, 'resubmissionTooltip': None, 'resubmissionMessage': None, 'qcReasonId': None, 'qcDate': None, 'isPurchased': True, 'isGuest': False, 'sellerId': 200164296998, 'sellerName': None, 'isBuyerShowEnabled': True, 'qcScore': None, 'isQced': False, 'itemId': 982542751, 'itemPic': 'https://vn-live.slatic.net/p/395e2723573e82260634890f1ee6a79a.jpg', 'itemTitle': 'Combo 2 Gói Bột Ngọt AJI-NO-MOTO® Hạt Lớn 1kg/Gói', 'itemUrl': 'https://www.lazada.vn/products/combo-2-goi-bot-ngot-aji-no-moto-hat-lon-1kggoi-i982542751-s3110240830.html', 'originPrice': None, 'salesPrice': None, 'promotion': None, 'skuInfo': None, 'tags': None, 'skuId': '3110240830', 'configSku': '982542751_VNAMZ', 'lastReviewer': None, 'isReportable': 0, 'reportStatus': None, 'reportDate': None, 'reportTimes': 0, 'upVotes': 0, 'downVotes': 0, 'isExternal': 0, 'replies': [], 'isSocialCommentsEnabled': True, 'comments': None, 'canEdit': False, 'isAlreadyRevised': None, 'submitInfo': None, 'imageHost': '//vn-live.slatic.net', 'showUploader': True, 'showVideoUploader': True, 'relevanceScore': 77.7, 'isCompleted': 1, 'avatar': None, 'reviewerType': None, 'replyAuthor': None, 'sourceReviewTags': None, 'reviewTags': None, 'contentTag': None, 'contentTags': None, 'canDownloadImage': None, 'commentsCount': 0, 'originalCountry': None, 'isCrossVenture': False, 'isAutoTranslated': None, 'viewCounts': 0, 'isGoodReview': False, 'categoryId': 10003322, 'imageCount': None, 'videoCount': None, 'followUpReviews': None, 'reviewBenefit': None, 'gradeItems': {'PRODUCT_REVIEW': 5, 'LOGISTICS_REVIEW': 5, 'SELLER_REVIEW': 5}, 'foreignContent': None, 'targetId': 982542751, 'targetType': 'item'}, {'reviewRateId': 430586576642751, 'reviewType': 'PRODUCT_REVIEW', 'tradeOrderId': None, 'boughtDate': '06 thg 9 2024', 'zonedBoughtDate': None, 'reviewStatus': 'approved', 'reviewTitle': None, 'reviewContent': 'Bao bì đa gói tiện lợi, Hoàn hảo cho những người quan tâm đến sức khỏe,  ', 'reviewContentList': [{'attribute': '', 'content': 'Bao bì đa gói tiện lợi, Hoàn hảo cho những người quan tâm đến sức khỏe,', 'selected': None}], 'reviewTime': '4 ngày trước', 'zonedReviewTime': None, 'imageQCStatus': 'approved', 'images': [{'title': None, 'url': 'https://lzd-u.slatic.net/e86e7bb716264779932b6e2fdc60fe61_e753b2ac487d49a5b8dbdf1b1050e5e2.jpg', 'sort': 0, 'uploadTime': None, 'legal': True, 'status': 'approved', 'checkedByPeople': None, 'width': 0, 'height': 0, 'size': 0}], 'videoId': None, 'isVideoReady': None, 'videoCoverUrl': None, 'reviewRateThreadId': None, 'mediaList': [{'reviewRateId': 430586576642751, 'reviewType': 'PRODUCT_REVIEW', 'mediaType': 1, 'coverUrl': 'https://lzd-u.slatic.net/e86e7bb716264779932b6e2fdc60fe61_e753b2ac487d49a5b8dbdf1b1050e5e2.jpg', 'videoId': None, 'videoUrl': None, 'width': 0, 'height': 0, 'size': 0}], 'buyerId': 3408993, 'buyerName': 'Hoàng K.', 'buyerEmail': None, 'realBuyerName': None, 'isAnonymous': False, 'source': 'orderDetail', 'clientType': '', 'rating': 5, 'originalRating': None, 'likeCount': 0, 'likeText': None, 'isMeLike': None, 'helpful': True, 'rejected': False, 'rejectionReason': None, 'resubmissionTooltip': None, 'resubmissionMessage': None, 'qcReasonId': None, 'qcDate': None, 'isPurchased': True, 'isGuest': False, 'sellerId': 200164296998, 'sellerName': None, 'isBuyerShowEnabled': True, 'qcScore': None, 'isQced': False, 'itemId': 982542751, 'itemPic': 'https://vn-live.slatic.net/p/395e2723573e82260634890f1ee6a79a.jpg', 'itemTitle': 'Combo 2 Gói Bột Ngọt AJI-NO-MOTO® Hạt Lớn 1kg/Gói', 'itemUrl': 'https://www.lazada.vn/products/combo-2-goi-bot-ngot-aji-no-moto-hat-lon-1kggoi-i982542751-s3110240830.html', 'originPrice': None, 'salesPrice': None, 'promotion': None, 'skuInfo': None, 'tags': None, 'skuId': '3110240830', 'configSku': '982542751_VNAMZ', 'lastReviewer': None, 'isReportable': 0, 'reportStatus': None, 'reportDate': None, 'reportTimes': 0, 'upVotes': 0, 'downVotes': 0, 'isExternal': 0, 'replies': [], 'isSocialCommentsEnabled': True, 'comments': None, 'canEdit': True, 'isAlreadyRevised': None, 'submitInfo': None, 'imageHost': '//vn-live.slatic.net', 'showUploader': True, 'showVideoUploader': True, 'relevanceScore': 77.3, 'isCompleted': 1, 'avatar': 'https://lh4.googleusercontent.com/-OcckaN2TmpY/AAAAAAAAAAI/AAAAAAAAAAA/APUIFaPdLsJv3wyoH88DcEtmh_3q7r1JDg/s96-c/photo.jpg', 'reviewerType': None, 'replyAuthor': None, 'sourceReviewTags': None, 'reviewTags': None, 'contentTag': None, 'contentTags': None, 'canDownloadImage': None, 'commentsCount': 0, 'originalCountry': None, 'isCrossVenture': False, 'isAutoTranslated': None, 'viewCounts': 0, 'isGoodReview': False, 'categoryId': 10003322, 'imageCount': None, 'videoCount': None, 'followUpReviews': None, 'reviewBenefit': None, 'gradeItems': {'PRODUCT_REVIEW': 5, 'LOGISTICS_REVIEW': 5, 'SELLER_REVIEW': 5}, 'foreignContent': None, 'targetId': 982542751, 'targetType': 'item'}, {'reviewRateId': 416355291542751, 'reviewType': 'PRODUCT_REVIEW', 'tradeOrderId': None, 'boughtDate': '28 thg 3 2024', 'zonedBoughtDate': None, 'reviewStatus': 'approved', 'reviewTitle': None, 'reviewContent': 'sản phẩm tốt nhất sản phẩm tốt nhất sản phẩm tốt nhất sản phẩm tốt nhất  ', 'reviewContentList': [{'attribute': '', 'content': 'sản phẩm tốt nhất sản phẩm tốt nhất sản phẩm tốt nhất sản phẩm tốt nhất', 'selected': None}], 'reviewTime': '30 thg 3 2024', 'zonedReviewTime': None, 'imageQCStatus': 'approved', 'images': [{'title': None, 'url': 'https://lzd-u.slatic.net/be37584d4f054c0a9ad72130d980ed05_15a4811f830d410e8a3a55ab3f301295.jpg', 'sort': 0, 'uploadTime': None, 'legal': True, 'status': 'approved', 'checkedByPeople': None, 'width': 0, 'height': 0, 'size': 0}], 'videoId': None, 'isVideoReady': None, 'videoCoverUrl': None, 'reviewRateThreadId': None, 'mediaList': [{'reviewRateId': 416355291542751, 'reviewType': 'PRODUCT_REVIEW', 'mediaType': 1, 'coverUrl': 'https://lzd-u.slatic.net/be37584d4f054c0a9ad72130d980ed05_15a4811f830d410e8a3a55ab3f301295.jpg', 'videoId': None, 'videoUrl': None, 'width': 0, 'height': 0, 'size': 0}], 'buyerId': 200053317882, 'buyerName': 'Bảo A.', 'buyerEmail': None, 'realBuyerName': None, 'isAnonymous': False, 'source': 'write_review_next_review', 'clientType': '', 'rating': 5, 'originalRating': None, 'likeCount': 0, 'likeText': None, 'isMeLike': None, 'helpful': True, 'rejected': False, 'rejectionReason': None, 'resubmissionTooltip': None, 'resubmissionMessage': None, 'qcReasonId': None, 'qcDate': None, 'isPurchased': True, 'isGuest': False, 'sellerId': 200164296998, 'sellerName': None, 'isBuyerShowEnabled': True, 'qcScore': None, 'isQced': False, 'itemId': 982542751, 'itemPic': 'https://vn-live.slatic.net/p/395e2723573e82260634890f1ee6a79a.jpg', 'itemTitle': 'Combo 2 Gói Bột Ngọt AJI-NO-MOTO® Hạt Lớn 1kg/Gói', 'itemUrl': 'https://www.lazada.vn/products/combo-2-goi-bot-ngot-aji-no-moto-hat-lon-1kggoi-i982542751-s3110240830.html', 'originPrice': None, 'salesPrice': None, 'promotion': None, 'skuInfo': None, 'tags': None, 'skuId': '3110240830', 'configSku': '982542751_VNAMZ', 'lastReviewer': None, 'isReportable': 0, 'reportStatus': None, 'reportDate': None, 'reportTimes': 0, 'upVotes': 0, 'downVotes': 0, 'isExternal': 0, 'replies': [], 'isSocialCommentsEnabled': True, 'comments': None, 'canEdit': False, 'isAlreadyRevised': None, 'submitInfo': None, 'imageHost': '//vn-live.slatic.net', 'showUploader': True, 'showVideoUploader': True, 'relevanceScore': 77.3, 'isCompleted': 1, 'avatar': 'https://vn-live-02.slatic.net/p/a190fd998fbae70d5188211542f21c75.jpg', 'reviewerType': None, 'replyAuthor': None, 'sourceReviewTags': None, 'reviewTags': None, 'contentTag': None, 'contentTags': None, 'canDownloadImage': None, 'commentsCount': 0, 'originalCountry': None, 'isCrossVenture': False, 'isAutoTranslated': None, 'viewCounts': 0, 'isGoodReview': False, 'categoryId': 10003322, 'imageCount': None, 'videoCount': None, 'followUpReviews': None, 'reviewBenefit': None, 'gradeItems': {'PRODUCT_REVIEW': 5, 'LOGISTICS_REVIEW': 5, 'SELLER_REVIEW': 5}, 'foreignContent': None, 'targetId': 982542751, 'targetType': 'item'}, {'reviewRateId': 427723712642751, 'reviewType': 'PRODUCT_REVIEW', 'tradeOrderId': None, 'boughtDate': '27 thg 7 2024', 'zonedBoughtDate': None, 'reviewStatus': 'approved', 'reviewTitle': None, 'reviewContent': 'Một sản phẩm không thể thiếu trong mỗi căn bếp, Nâng cao hương vị của các công thức món ăn yêu thích của bạn, Hương vị ngon và thơm lừng,  ', 'reviewContentList': [{'attribute': '', 'content': 'Một sản phẩm không thể thiếu trong mỗi căn bếp, Nâng cao hương vị của các công thức món ăn yêu thích của bạn, Hương vị ngon và thơm lừng,', 'selected': None}], 'reviewTime': '28 thg 7 2024', 'zonedReviewTime': None, 'imageQCStatus': 'approved', 'images': [{'title': None, 'url': 'https://lzd-u.slatic.net/43388a187f284f14bb1558fd05c47da3_758fc79c72eb4350affb213c44cd18d0.jpg', 'sort': 0, 'uploadTime': None, 'legal': True, 'status': 'approved', 'checkedByPeople': None, 'width': 0, 'height': 0, 'size': 0}], 'videoId': None, 'isVideoReady': None, 'videoCoverUrl': None, 'reviewRateThreadId': None, 'mediaList': [{'reviewRateId': 427723712642751, 'reviewType': 'PRODUCT_REVIEW', 'mediaType': 1, 'coverUrl': 'https://lzd-u.slatic.net/43388a187f284f14bb1558fd05c47da3_758fc79c72eb4350affb213c44cd18d0.jpg', 'videoId': None, 'videoUrl': None, 'width': 0, 'height': 0, 'size': 0}], 'buyerId': 200041758853, 'buyerName': 'Kimhoa N.', 'buyerEmail': None, 'realBuyerName': None, 'isAnonymous': False, 'source': 'orderDetail', 'clientType': '', 'rating': 5, 'originalRating': None, 'likeCount': 0, 'likeText': None, 'isMeLike': None, 'helpful': True, 'rejected': False, 'rejectionReason': None, 'resubmissionTooltip': None, 'resubmissionMessage': None, 'qcReasonId': None, 'qcDate': None, 'isPurchased': True, 'isGuest': False, 'sellerId': 200164296998, 'sellerName': None, 'isBuyerShowEnabled': True, 'qcScore': None, 'isQced': False, 'itemId': 982542751, 'itemPic': 'https://vn-live.slatic.net/p/395e2723573e82260634890f1ee6a79a.jpg', 'itemTitle': 'Combo 2 Gói Bột Ngọt AJI-NO-MOTO® Hạt Lớn 1kg/Gói', 'itemUrl': 'https://www.lazada.vn/products/combo-2-goi-bot-ngot-aji-no-moto-hat-lon-1kggoi-i982542751-s3110240830.html', 'originPrice': None, 'salesPrice': None, 'promotion': None, 'skuInfo': None, 'tags': None, 'skuId': '3110240830', 'configSku': '982542751_VNAMZ', 'lastReviewer': None, 'isReportable': 0, 'reportStatus': None, 'reportDate': None, 'reportTimes': 0, 'upVotes': 0, 'downVotes': 0, 'isExternal': 0, 'replies': [], 'isSocialCommentsEnabled': True, 'comments': None, 'canEdit': False, 'isAlreadyRevised': None, 'submitInfo': None, 'imageHost': '//vn-live.slatic.net', 'showUploader': True, 'showVideoUploader': True, 'relevanceScore': 77.04, 'isCompleted': 1, 'avatar': 'https://lh4.googleusercontent.com/-9biFAJ0XvQ4/AAAAAAAAAAI/AAAAAAAAAAA/ACHi3reawgeIePk5qyNapAi77uGDEE5hcQ/s96-c/photo.jpg', 'reviewerType': None, 'replyAuthor': None, 'sourceReviewTags': None, 'reviewTags': None, 'contentTag': None, 'contentTags': None, 'canDownloadImage': None, 'commentsCount': 0, 'originalCountry': None, 'isCrossVenture': False, 'isAutoTranslated': None, 'viewCounts': 0, 'isGoodReview': False, 'categoryId': 10003322, 'imageCount': None, 'videoCount': None, 'followUpReviews': None, 'reviewBenefit': None, 'gradeItems': {'PRODUCT_REVIEW': 5, 'LOGISTICS_REVIEW': 5, 'SELLER_REVIEW': 5}, 'foreignContent': None, 'targetId': 982542751, 'targetType': 'item'}]\n",
      "paging {'totalItems': 465, 'totalPages': 10, 'currentPage': 1}\n",
      "item {'sellerId': 200164296998, 'sellerName': None, 'itemId': 982542751, 'itemStatus': 1, 'skuId': None, 'configSku': '982542751_VNAMZ', 'skuInfo': None, 'itemPic': 'https://vn-live.slatic.net/p/395e2723573e82260634890f1ee6a79a.jpg', 'itemTitle': 'Combo 2 Gói Bột Ngọt AJI-NO-MOTO® Hạt Lớn 1kg/Gói', 'itemUrl': 'https://www.lazada.vn/products/combo-2-goi-bot-ngot-aji-no-moto-hat-lon-1kggoi-i982542751-s3110240830.html', 'categoryId': 10003322, 'categoryName': 'Đồ gia vị', 'rootCategoryId': 8799, 'rootCategoryName': 'Bách hóa', 'subSellerId': None, 'subSellerName': None, 'subShopUrl': None, 'productPrice': '154.000 ₫'}\n",
      "ratings {'average': 5, 'rateCount': 465, 'reviewCount': 465, 'imagesCount': 27, 'videosCount': 5, 'withImageCount': 181, 'withVideoCount': 5, 'localReviewsCount': 465, 'withMediaCount': 186, 'rate12Stars': 1, 'hiddenCount': 252, 'scores': [461, 3, 0, 0, 1], 'mediaNum': 183, 'labelCounts': [], 'impressionTags': None}\n",
      "mediaList [{'reviewRateId': 296100678542751, 'reviewType': 'PRODUCT_REVIEW', 'mediaType': 2, 'coverUrl': 'https://vn-live-02.slatic.net/p/97baf0919f9180344d443cdbad511a84.jpg', 'videoId': 30029790743, 'videoUrl': 'https://lazvideo.lazcdn.com/psp/20210921/1522b0a8-1bfb-49d5-8a87-d89c35af41c1@@ld.mp4?auth_key=1726641599-0-0-29fc4a80575fbf86436e9bbe4bf965a6', 'width': None, 'height': None, 'size': None}, {'reviewRateId': 296100678542751, 'reviewType': 'PRODUCT_REVIEW', 'mediaType': 1, 'coverUrl': 'https://sg-test-11.slatic.net/other/roc/c5e2e4253428ecc5f814b49a8ac2a083.jpg', 'videoId': None, 'videoUrl': None, 'width': 2731, 'height': 2048, 'size': 563874}, {'reviewRateId': 411257875042751, 'reviewType': 'PRODUCT_REVIEW', 'mediaType': 2, 'coverUrl': 'https://sg-test-11.slatic.net/p/01d0ae2b42e6f84737e62660f7896ea8.jpg', 'videoId': 30224428673, 'videoUrl': 'https://lazvideo.lazcdn.com/psp/20240217/f4830d8e-04be-46ad-acec-3eafe65dea48@@ld.mp4?auth_key=1726641599-0-0-bef1a7c7a48520a08501b54bf3a9f5a8', 'width': None, 'height': None, 'size': None}, {'reviewRateId': 411257875042751, 'reviewType': 'PRODUCT_REVIEW', 'mediaType': 1, 'coverUrl': 'https://lzd-u.slatic.net/1d11ffdd6ee94a42874be9caebda84c0_6_1708167910.979155.jpg', 'videoId': None, 'videoUrl': None, 'width': 0, 'height': 0, 'size': 0}, {'reviewRateId': 368167316042751, 'reviewType': 'PRODUCT_REVIEW', 'mediaType': 2, 'coverUrl': 'https://vn-live-02.slatic.net/p/0835b7084dec40513c2db039f8a750b2.jpg', 'videoId': 30119588889, 'videoUrl': 'https://lazvideo.lazcdn.com/psp/20230115/df6bae5b-9095-487a-93e4-b4c92e449b39@@ld.mp4?auth_key=1726641599-0-0-cd9dd1196a83a837c51f1c81d36f40b6', 'width': None, 'height': None, 'size': None}, {'reviewRateId': 368167316042751, 'reviewType': 'PRODUCT_REVIEW', 'mediaType': 1, 'coverUrl': 'https://lzd-u.slatic.net/e20acfbe392a4539872e403900df9a6c_8ed295809c05466aa0851e27051b9336.jpg', 'videoId': None, 'videoUrl': None, 'width': 0, 'height': 0, 'size': 0}, {'reviewRateId': 430000333242751, 'reviewType': 'PRODUCT_REVIEW', 'mediaType': 1, 'coverUrl': 'https://lzd-u.slatic.net/bd926c8b8beb48f5af189b7fbb729bf0_f82ee741f9dd401f9edc17e008bea94b.jpg', 'videoId': None, 'videoUrl': None, 'width': 0, 'height': 0, 'size': 0}, {'reviewRateId': 428127120542751, 'reviewType': 'PRODUCT_REVIEW', 'mediaType': 1, 'coverUrl': 'https://lzd-u.slatic.net/74b7441d01b442a58be26922e21632b0_2_1722664213.421635.jpg', 'videoId': None, 'videoUrl': None, 'width': 0, 'height': 0, 'size': 0}, {'reviewRateId': 428020876842751, 'reviewType': 'PRODUCT_REVIEW', 'mediaType': 1, 'coverUrl': 'https://lzd-u.slatic.net/3eea6f129e3f4607976572749f0e24ce_595ad4a4a1a64657ad83ff5918734222.jpg', 'videoId': None, 'videoUrl': None, 'width': 0, 'height': 0, 'size': 0}, {'reviewRateId': 427857102642751, 'reviewType': 'PRODUCT_REVIEW', 'mediaType': 1, 'coverUrl': 'https://lzd-u.slatic.net/3083097f6028427da04a3f4963270c50_332b7ae806454d299a0326757d9c29fa.jpg', 'videoId': None, 'videoUrl': None, 'width': 0, 'height': 0, 'size': 0}, {'reviewRateId': 427665841642751, 'reviewType': 'PRODUCT_REVIEW', 'mediaType': 1, 'coverUrl': 'https://lzd-u.slatic.net/bfdc1383a9c94c4eb36fab0fe7ac3c4c_5e99ec762ce0446982a7278a2ca97bda.jpg', 'videoId': None, 'videoUrl': None, 'width': 0, 'height': 0, 'size': 0}, {'reviewRateId': 427657762742751, 'reviewType': 'PRODUCT_REVIEW', 'mediaType': 1, 'coverUrl': 'https://lzd-u.slatic.net/b894dedf9fb64767a9064cc2fe44a354_1b84d9bedcfd4830bea4d3aa953952b6.jpg', 'videoId': None, 'videoUrl': None, 'width': 0, 'height': 0, 'size': 0}, {'reviewRateId': 427592020742751, 'reviewType': 'PRODUCT_REVIEW', 'mediaType': 1, 'coverUrl': 'https://lzd-u.slatic.net/138f196b7a04434aaefa4299da4fc96b_2815b0d89df945f68881e69d0b943bc1.jpg', 'videoId': None, 'videoUrl': None, 'width': 0, 'height': 0, 'size': 0}, {'reviewRateId': 427055598442751, 'reviewType': 'PRODUCT_REVIEW', 'mediaType': 1, 'coverUrl': 'https://lzd-u.slatic.net/e934123f41b84e91abda829af59fd258_3_1721669100.145725.jpg', 'videoId': None, 'videoUrl': None, 'width': 0, 'height': 0, 'size': 0}, {'reviewRateId': 426926517742751, 'reviewType': 'PRODUCT_REVIEW', 'mediaType': 1, 'coverUrl': 'https://lzd-u.slatic.net/79a3b1b111c64c05a701c2d3fe612011_aabf3c8a6dcc4c39b66f2a0701c1fba0.jpg', 'videoId': None, 'videoUrl': None, 'width': 0, 'height': 0, 'size': 0}, {'reviewRateId': 426926224742751, 'reviewType': 'PRODUCT_REVIEW', 'mediaType': 1, 'coverUrl': 'https://lzd-u.slatic.net/3fefc2f0d3194b079c1aa026bda4bba7_3bf971daf8594755ae4577d531a1faa4.jpg', 'videoId': None, 'videoUrl': None, 'width': 0, 'height': 0, 'size': 0}, {'reviewRateId': 426926222342751, 'reviewType': 'PRODUCT_REVIEW', 'mediaType': 1, 'coverUrl': 'https://lzd-u.slatic.net/72e96ca73b4b49c1b9379a661025fa68_1f7956a90573437db98fc32e77109057.jpg', 'videoId': None, 'videoUrl': None, 'width': 0, 'height': 0, 'size': 0}, {'reviewRateId': 426569638842751, 'reviewType': 'PRODUCT_REVIEW', 'mediaType': 1, 'coverUrl': 'https://lzd-u.slatic.net/da785306e5d140b59b9f3aa6b4ccfc3d_f8b709e45a424e3797f246452d58e018.jpg', 'videoId': None, 'videoUrl': None, 'width': 0, 'height': 0, 'size': 0}, {'reviewRateId': 426569237742751, 'reviewType': 'PRODUCT_REVIEW', 'mediaType': 1, 'coverUrl': 'https://lzd-u.slatic.net/c0da64834b6d41cbbb116cef37a70506_23a7a75ad537434fbcd2e60520355345.jpg', 'videoId': None, 'videoUrl': None, 'width': 0, 'height': 0, 'size': 0}, {'reviewRateId': 426463301342751, 'reviewType': 'PRODUCT_REVIEW', 'mediaType': 1, 'coverUrl': 'https://lzd-u.slatic.net/c9767edda6ea4794a7fa71940ce62394_2f013aa8536b4dc3825089dfe1bc2ff1.jpg', 'videoId': None, 'videoUrl': None, 'width': 0, 'height': 0, 'size': 0}, {'reviewRateId': 426113027342751, 'reviewType': 'PRODUCT_REVIEW', 'mediaType': 1, 'coverUrl': 'https://lzd-u.slatic.net/b6d037b8b58943d883eb57f578c5ed77_09acc40ae8b94aca906522f638983b2f.jpg', 'videoId': None, 'videoUrl': None, 'width': 0, 'height': 0, 'size': 0}, {'reviewRateId': 426112130642751, 'reviewType': 'PRODUCT_REVIEW', 'mediaType': 1, 'coverUrl': 'https://lzd-u.slatic.net/53c1de147d674a3ab3f603738c994af4_c447f1fb03374cf08169fe8ba21e5bfd.jpg', 'videoId': None, 'videoUrl': None, 'width': 0, 'height': 0, 'size': 0}, {'reviewRateId': 426111246542751, 'reviewType': 'PRODUCT_REVIEW', 'mediaType': 1, 'coverUrl': 'https://lzd-u.slatic.net/b1c3f49d70e548dbb6e7c7693c7f03bd_24da8291622f473c91221f13d96c48a7.jpg', 'videoId': None, 'videoUrl': None, 'width': 0, 'height': 0, 'size': 0}, {'reviewRateId': 426108690142751, 'reviewType': 'PRODUCT_REVIEW', 'mediaType': 1, 'coverUrl': 'https://lzd-u.slatic.net/1b4bc4dadaff40c88649f1befc355bde_75baa94556434150a8f3ad966b52fcdb.jpg', 'videoId': None, 'videoUrl': None, 'width': 0, 'height': 0, 'size': 0}, {'reviewRateId': 426108482142751, 'reviewType': 'PRODUCT_REVIEW', 'mediaType': 1, 'coverUrl': 'https://lzd-u.slatic.net/5f7adaa9b13843999d2508a7a3c6ae59_35bb20fc05ed44c28e6127c9872c1849.jpg', 'videoId': None, 'videoUrl': None, 'width': 0, 'height': 0, 'size': 0}, {'reviewRateId': 426039089642751, 'reviewType': 'PRODUCT_REVIEW', 'mediaType': 1, 'coverUrl': 'https://lzd-u.slatic.net/29f9f9b4507c4349bfdc37c9d9756978_1_1720669836.924823.jpg', 'videoId': None, 'videoUrl': None, 'width': 0, 'height': 0, 'size': 0}, {'reviewRateId': 424963690542751, 'reviewType': 'PRODUCT_REVIEW', 'mediaType': 1, 'coverUrl': 'https://lzd-u.slatic.net/137ca243158240c1b05fb88bc75091e6_2_1719928178.796267.jpg', 'videoId': None, 'videoUrl': None, 'width': 0, 'height': 0, 'size': 0}, {'reviewRateId': 423886165042751, 'reviewType': 'PRODUCT_REVIEW', 'mediaType': 1, 'coverUrl': 'https://lzd-u.slatic.net/75b00f3bbadb488ca03df4c84477d95c_5_1719414875.900493.jpg', 'videoId': None, 'videoUrl': None, 'width': 0, 'height': 0, 'size': 0}, {'reviewRateId': 422197377642751, 'reviewType': 'PRODUCT_REVIEW', 'mediaType': 1, 'coverUrl': 'https://lzd-u.slatic.net/6b3cf4d2c42f41549c86377db7f10739_5c4b02ebcb1648d3bc690d58a3f4d40e.jpg', 'videoId': None, 'videoUrl': None, 'width': 0, 'height': 0, 'size': 0}, {'reviewRateId': 422029114142751, 'reviewType': 'PRODUCT_REVIEW', 'mediaType': 1, 'coverUrl': 'https://lzd-u.slatic.net/ab8cb992be0948c8b295cfea13a6a958_5542d34c4b194aeaba6a467abd3fb5e1.jpg', 'videoId': None, 'videoUrl': None, 'width': 0, 'height': 0, 'size': 0}, {'reviewRateId': 421989601142751, 'reviewType': 'PRODUCT_REVIEW', 'mediaType': 1, 'coverUrl': 'https://lzd-u.slatic.net/999ed684ca3d4cdcabb97ad70bd343ed_1_1716865970.692332.jpg', 'videoId': None, 'videoUrl': None, 'width': 0, 'height': 0, 'size': 0}, {'reviewRateId': 421989403242751, 'reviewType': 'PRODUCT_REVIEW', 'mediaType': 1, 'coverUrl': 'https://lzd-u.slatic.net/95f1b3f7d48b424ba301db7759c8e5ae_d30cafd4f39b4afd9563c04d97e68897.jpg', 'videoId': None, 'videoUrl': None, 'width': 0, 'height': 0, 'size': 0}, {'reviewRateId': 421988816742751, 'reviewType': 'PRODUCT_REVIEW', 'mediaType': 1, 'coverUrl': 'https://lzd-u.slatic.net/effabfefccf1485ca1af508a3a3fbde3_40e8bf2e27664c038583f6405e1c97e3.jpg', 'videoId': None, 'videoUrl': None, 'width': 0, 'height': 0, 'size': 0}, {'reviewRateId': 421985162242751, 'reviewType': 'PRODUCT_REVIEW', 'mediaType': 1, 'coverUrl': 'https://lzd-u.slatic.net/2e8115bfec504439a9544a592d3ca2b3_c9b93dbb7f8d4c22b97838e18b23cf40.jpg', 'videoId': None, 'videoUrl': None, 'width': 0, 'height': 0, 'size': 0}, {'reviewRateId': 420530018542751, 'reviewType': 'PRODUCT_REVIEW', 'mediaType': 1, 'coverUrl': 'https://lzd-u.slatic.net/400438102a5043c9a13c080cc97830b2_4ecf666542a94459a9a650fe3d160c5c.jpg', 'videoId': None, 'videoUrl': None, 'width': 0, 'height': 0, 'size': 0}, {'reviewRateId': 418545922242751, 'reviewType': 'PRODUCT_REVIEW', 'mediaType': 1, 'coverUrl': 'https://lzd-u.slatic.net/f0875c4fb0794cc483e999180dea46ed_56bcb3ec50e74e5cb289f4c8ea588f72.jpg', 'videoId': None, 'videoUrl': None, 'width': 0, 'height': 0, 'size': 0}, {'reviewRateId': 418506997942751, 'reviewType': 'PRODUCT_REVIEW', 'mediaType': 1, 'coverUrl': 'https://lzd-u.slatic.net/d00b6829787c4423a7a9a81e920a9f0a_3b3bedf3c7e847d99193c0abb517c005.jpg', 'videoId': None, 'videoUrl': None, 'width': 0, 'height': 0, 'size': 0}, {'reviewRateId': 416358351042751, 'reviewType': 'PRODUCT_REVIEW', 'mediaType': 1, 'coverUrl': 'https://lzd-u.slatic.net/bcf02f448eda4fcebfad03a250f3a47b_a402fd5fc5134331a748cf49898e3617.jpg', 'videoId': None, 'videoUrl': None, 'width': 0, 'height': 0, 'size': 0}, {'reviewRateId': 416356762542751, 'reviewType': 'PRODUCT_REVIEW', 'mediaType': 1, 'coverUrl': 'https://lzd-u.slatic.net/90752b70c89440a88abd3ee3f507f825_c72ca27ae7384be3ab9571c7eca2d77a.jpg', 'videoId': None, 'videoUrl': None, 'width': 0, 'height': 0, 'size': 0}, {'reviewRateId': 426004139942751, 'reviewType': 'PRODUCT_REVIEW', 'mediaType': 1, 'coverUrl': 'https://lzd-u.slatic.net/e934123f41b84e91abda829af59fd258_2_1721669066.901471.jpg', 'videoId': None, 'videoUrl': None, 'width': 0, 'height': 0, 'size': 0}, {'reviewRateId': 421986143942751, 'reviewType': 'PRODUCT_REVIEW', 'mediaType': 1, 'coverUrl': 'https://lzd-u.slatic.net/95f1b3f7d48b424ba301db7759c8e5ae_8a08a7e4c37d438896d526eebd5bad24.jpg', 'videoId': None, 'videoUrl': None, 'width': 0, 'height': 0, 'size': 0}, {'reviewRateId': 424711677442751, 'reviewType': 'PRODUCT_REVIEW', 'mediaType': 1, 'coverUrl': 'https://lzd-u.slatic.net/97c5748a07b34bc8af34d84e7ebd72a7_cf7b12185a4247d1a1ce41d03658a813.jpg', 'videoId': None, 'videoUrl': None, 'width': 0, 'height': 0, 'size': 0}, {'reviewRateId': 426110945042751, 'reviewType': 'PRODUCT_REVIEW', 'mediaType': 1, 'coverUrl': 'https://lzd-u.slatic.net/0a6ef0777a444a0980e4f6eb2a4672d2_ef7aa9cd474c473e89233c7b1bdd9e6a.jpg', 'videoId': None, 'videoUrl': None, 'width': 0, 'height': 0, 'size': 0}, {'reviewRateId': 426113013842751, 'reviewType': 'PRODUCT_REVIEW', 'mediaType': 1, 'coverUrl': 'https://lzd-u.slatic.net/0a6ef0777a444a0980e4f6eb2a4672d2_ca41d87526ca4fe9a1f16dcfeb74d4ca.jpg', 'videoId': None, 'videoUrl': None, 'width': 0, 'height': 0, 'size': 0}, {'reviewRateId': 421988815842751, 'reviewType': 'PRODUCT_REVIEW', 'mediaType': 1, 'coverUrl': 'https://lzd-u.slatic.net/999ed684ca3d4cdcabb97ad70bd343ed_3_1716865997.857203.jpg', 'videoId': None, 'videoUrl': None, 'width': 0, 'height': 0, 'size': 0}, {'reviewRateId': 416046516142751, 'reviewType': 'PRODUCT_REVIEW', 'mediaType': 1, 'coverUrl': 'https://lzd-u.slatic.net/93e329827d3f4b19b5aa14d4ab962a4a_d5c76ad874414202add4f836b8efef0b.jpg', 'videoId': None, 'videoUrl': None, 'width': 0, 'height': 0, 'size': 0}, {'reviewRateId': 430038714342751, 'reviewType': 'PRODUCT_REVIEW', 'mediaType': 1, 'coverUrl': 'https://lzd-u.slatic.net/28f6da46e44647daad332b5ac1048b10_1_1724854005.777498.jpg', 'videoId': None, 'videoUrl': None, 'width': 0, 'height': 0, 'size': 0}, {'reviewRateId': 415942737142751, 'reviewType': 'PRODUCT_REVIEW', 'mediaType': 1, 'coverUrl': 'https://lzd-u.slatic.net/2a672a18caf84fd6b96754dd907700fa_425fb682935543c2a6354d03ce5f1a16.jpg', 'videoId': None, 'videoUrl': None, 'width': 0, 'height': 0, 'size': 0}, {'reviewRateId': 421984180942751, 'reviewType': 'PRODUCT_REVIEW', 'mediaType': 1, 'coverUrl': 'https://lzd-u.slatic.net/edf0c3066e11401db9ab629be0fe04b3_c335142b8b84409e8e8a8babafbbab70.jpg', 'videoId': None, 'videoUrl': None, 'width': 0, 'height': 0, 'size': 0}, {'reviewRateId': 415826174242751, 'reviewType': 'PRODUCT_REVIEW', 'mediaType': 1, 'coverUrl': 'https://lzd-u.slatic.net/f284c746205742a1b8b4c96c2ede9ba7_2_1711463194.460475.jpg', 'videoId': None, 'videoUrl': None, 'width': 0, 'height': 0, 'size': 0}, {'reviewRateId': 430586576642751, 'reviewType': 'PRODUCT_REVIEW', 'mediaType': 1, 'coverUrl': 'https://lzd-u.slatic.net/e86e7bb716264779932b6e2fdc60fe61_e753b2ac487d49a5b8dbdf1b1050e5e2.jpg', 'videoId': None, 'videoUrl': None, 'width': 0, 'height': 0, 'size': 0}, {'reviewRateId': 416355291542751, 'reviewType': 'PRODUCT_REVIEW', 'mediaType': 1, 'coverUrl': 'https://lzd-u.slatic.net/be37584d4f054c0a9ad72130d980ed05_15a4811f830d410e8a3a55ab3f301295.jpg', 'videoId': None, 'videoUrl': None, 'width': 0, 'height': 0, 'size': 0}, {'reviewRateId': 427723712642751, 'reviewType': 'PRODUCT_REVIEW', 'mediaType': 1, 'coverUrl': 'https://lzd-u.slatic.net/43388a187f284f14bb1558fd05c47da3_758fc79c72eb4350affb213c44cd18d0.jpg', 'videoId': None, 'videoUrl': None, 'width': 0, 'height': 0, 'size': 0}]\n",
      "showInfo {'showAuthTipsUrl': 'https://www.lazada.vn/wow/gcp/route/lazada/vn/upr_1000345_lazada/channel/vn/upr-router/vn?hybrid=1&data_prefetch=true&prefetch_replace=1&at_iframe=1&wh_pid=/lazada/channel/vn/ac_guide/kKEyCFz8Rp', 'labelTitle': None, 'showAuthTips': True}\n",
      "pageVersion newVersion\n"
     ]
    }
   ],
   "source": [
    "for i in data['model']:\n",
    "    print(i, data['model'][i])"
   ]
  },
  {
   "cell_type": "code",
   "execution_count": null,
   "metadata": {},
   "outputs": [],
   "source": [
    "comments = pd.Series()"
   ]
  },
  {
   "cell_type": "code",
   "execution_count": 22,
   "metadata": {},
   "outputs": [],
   "source": [
    "for i in data['model']['items']:\n",
    "    comments[len(comments)] = i['reviewContent']"
   ]
  },
  {
   "cell_type": "code",
   "execution_count": 23,
   "metadata": {},
   "outputs": [
    {
     "data": {
      "text/plain": [
       "0     Giao hơi lâu\\nNhưng giao đúng và đủ sản phẩm\\n...\n",
       "1     Hàng mall chính hãng, giao hàng nhanh.. mua sa...\n",
       "2     gdhd djhd jdud jdjd jdusj nshs jdhd jdud ndhd ...\n",
       "3     Thành phần an toàn và tự nhiên, Nâng cao nấu ă...\n",
       "4     Đóng gói tiện lợi với nhiều gói, Nâng cao hươn...\n",
       "5     Đóng gói tiện lợi với nhiều gói, Thành phần an...\n",
       "6     Một sản phẩm không thể thiếu trong mỗi căn bếp...\n",
       "7     Hương vị ngon và thơm lừng, Một sản phẩm không...\n",
       "8     Thành phần an toàn và tự nhiên, Thêm sâu sắc v...\n",
       "9     Thành phần an toàn và tự nhiên, Hương vị ngon ...\n",
       "10    Nâng cao hương vị của các công thức món ăn yêu...\n",
       "11    Thêm sâu sắc và phong phú cho món ăn của bạn, ...\n",
       "12    Lý tưởng cho những người quan tâm đến sức khỏe...\n",
       "13    Nâng cao hương vị của các công thức món ăn yêu...\n",
       "14    Đóng gói tiện lợi với nhiều gói, Lý tưởng cho ...\n",
       "15    Nâng cao kỹ năng nấu nướng của bạn lên một tầm...\n",
       "16    Nâng cao hương vị của các công thức món ăn yêu...\n",
       "17    Nâng cao hương vị của các công thức món ăn yêu...\n",
       "18    Hương vị ngon và thơm lừng, Thành phần an toàn...\n",
       "19    Hương vị ngon và thơm lừng, Gia vị linh hoạt c...\n",
       "20    Hương vị ngon và thơm lừng, Nâng cao kỹ năng n...\n",
       "21    Một sản phẩm không thể thiếu trong mỗi căn bếp...\n",
       "22    Thêm sâu sắc và phong phú cho món ăn của bạn, ...\n",
       "23    Thành phần an toàn và tự nhiên, Một sản phẩm k...\n",
       "24    Giao hàng nhanh. Đóng gói cẩn thận. Hàng chính...\n",
       "25    Hương vị ngon và thơm lừng, Nâng cao kỹ năng n...\n",
       "26    Nâng cao kỹ năng nấu nướng của bạn lên một tầm...\n",
       "27    Nâng cao kỹ năng nấu nướng của bạn lên một tầm...\n",
       "28    Thêm sâu sắc và phong phú cho món ăn của bạn, ...\n",
       "29    Lý tưởng cho những người quan tâm đến sức khỏe...\n",
       "30    Thêm sâu sắc và phong phú cho món ăn của bạn, ...\n",
       "31    Nâng cao kỹ năng nấu nướng của bạn lên một tầm...\n",
       "32    Hương vị ngon và thơm lừng, Thêm sâu sắc và ph...\n",
       "33    Gia vị linh hoạt cho mọi loại ẩm thực, Lý tưởn...\n",
       "34    Mùi vị:\\nsản phẩm tốt sản phẩm tốt sản ...\n",
       "35    Một sản phẩm không thể thiếu trong mỗi căn bếp...\n",
       "36    Thành phần an toàn và tự nhiên, Hương vị ngon ...\n",
       "37    Hương vị ngon và thơm lừng, Thành phần an toàn...\n",
       "38    Tăng cường hương vị cho mọi món ăn, Nâng cao k...\n",
       "39    Nâng cao kỹ năng nấu nướng của bạn lên một tầm...\n",
       "40    Tăng cường hương vị cho mọi món ăn, Một sản ph...\n",
       "41    Một sản phẩm không thể thiếu trong mỗi căn bếp...\n",
       "42    Mùi vị:sản phẩm tốt sản phẩm tốt sản ph...\n",
       "43    Giao hàng nhanh chóng, chất lượng sản phẩm tuy...\n",
       "44    săn được giá rẻ hơn ngoài thị trường, giao hàn...\n",
       "45    Một sản phẩm không thể thiếu trong mỗi căn bếp...\n",
       "46      tốt\\nGiao hàng nhanh. Giá cả phải chăng\\nThê...\n",
       "47    Bao bì đa gói tiện lợi, Hoàn hảo cho những ngư...\n",
       "48    sản phẩm tốt nhất sản phẩm tốt nhất sản phẩm t...\n",
       "49    Một sản phẩm không thể thiếu trong mỗi căn bếp...\n",
       "dtype: object"
      ]
     },
     "execution_count": 23,
     "metadata": {},
     "output_type": "execute_result"
    }
   ],
   "source": [
    "comments"
   ]
  },
  {
   "cell_type": "code",
   "execution_count": 24,
   "metadata": {},
   "outputs": [],
   "source": [
    "comments.to_excel('C:\\\\Users\\\\vinh.nt2\\\\Downloads\\\\BOT_NGOT_HAT_TO.xlsx')"
   ]
  },
  {
   "cell_type": "code",
   "execution_count": null,
   "metadata": {},
   "outputs": [],
   "source": []
  }
 ],
 "metadata": {
  "kernelspec": {
   "display_name": "Python 3",
   "language": "python",
   "name": "python3"
  },
  "language_info": {
   "codemirror_mode": {
    "name": "ipython",
    "version": 3
   },
   "file_extension": ".py",
   "mimetype": "text/x-python",
   "name": "python",
   "nbconvert_exporter": "python",
   "pygments_lexer": "ipython3",
   "version": "3.12.4"
  }
 },
 "nbformat": 4,
 "nbformat_minor": 2
}
