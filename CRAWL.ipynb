{
 "cells": [
  {
   "cell_type": "markdown",
   "metadata": {},
   "source": [
    "# SHOPEE"
   ]
  },
  {
   "cell_type": "code",
   "execution_count": null,
   "metadata": {},
   "outputs": [],
   "source": [
    "from selenium import webdriver\n",
    "from webdriver_manager.chrome import ChromeDriverManager\n",
    "import numpy as np\n",
    "from selenium import webdriver\n",
    "from time import sleep\n",
    "import random\n",
    "from selenium.common.exceptions import NoSuchElementException, ElementNotInteractableException\n",
    "from selenium.webdriver.common.by import By\n",
    "import pandas as pd\n",
    "import json\n",
    "# URL của API hoặc trang web\n",
    "\n",
    "comments = pd.Series()\n",
    "\n",
    "for i in range(1, 502):\n",
    "\n",
    "    # Gửi yêu cầu GET\n",
    "    driver = webdriver.Chrome()\n",
    "    driver.get(\"https://my.lazada.vn/pdp/review/getReviewList?itemId=982542751&pageSize=50&filter=0&sort=0&pageNo={}\".format(i))\n",
    "    sleep(random.randint(5, 10))\n",
    "\n",
    "    elems_content = driver.find_element(\"xpath\", \"/html/body/pre\")\n",
    "    print(elems_content.text)\n",
    "\n",
    "    file_path = 'data.json'\n",
    "\n",
    "    with open(file_path, 'w') as file:\n",
    "        file.write(elems_content.text)\n",
    "\n",
    "    # Mở file và đọc dữ liệu vào dictionary\n",
    "    with open(file_path, 'r') as file:\n",
    "        data = json.load(file)\n",
    "\n",
    "    for i in data['data']['ratings']:\n",
    "        comments[len(comments)] = i"
   ]
  },
  {
   "cell_type": "markdown",
   "metadata": {},
   "source": [
    "# LAZADA"
   ]
  },
  {
   "cell_type": "code",
   "execution_count": null,
   "metadata": {},
   "outputs": [],
   "source": [
    "from selenium import webdriver\n",
    "from webdriver_manager.chrome import ChromeDriverManager\n",
    "import numpy as np\n",
    "from selenium import webdriver\n",
    "from time import sleep\n",
    "import random\n",
    "from selenium.common.exceptions import NoSuchElementException, ElementNotInteractableException\n",
    "from selenium.webdriver.common.by import By\n",
    "import pandas as pd\n",
    "import json\n",
    "# URL của API hoặc trang web\n",
    "\n",
    "driver = webdriver.Chrome()\n",
    "driver.get(\"https://my.lazada.vn/pdp/review/getReviewList?itemId=982542751&pageSize=50&filter=0&sort=0&pageNo=1\")\n",
    "sleep(random.randint(5, 10))\n",
    "\n",
    "elems_content = driver.find_element(\"xpath\", \"/html/body/pre\")\n",
    "print(elems_content.text)\n",
    "\n",
    "file_path = 'data.json'\n",
    "\n",
    "with open(file_path, 'w') as file:\n",
    "    file.write(elems_content.text)\n",
    "\n",
    "# Mở file và đọc dữ liệu vào dictionary\n",
    "with open(file_path, 'r') as file:\n",
    "    data = json.load(file)\n",
    "\n",
    "comments = pd.Series()\n",
    "for i in data['model']['items']:\n",
    "    comments[len(comments)] = i"
   ]
  }
 ],
 "metadata": {
  "language_info": {
   "name": "python"
  }
 },
 "nbformat": 4,
 "nbformat_minor": 2
}
